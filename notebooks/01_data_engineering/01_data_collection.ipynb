{
 "cells": [
  {
   "cell_type": "code",
   "execution_count": null,
   "metadata": {},
   "outputs": [],
   "source": [
    "import os\n",
    "import sys\n",
    "\n",
    "import pandas as pd\n",
    "from alpha_vantage.timeseries import TimeSeries\n",
    "\n",
    "repo_root = os.path.abspath(os.path.join(os.getcwd(), \"..\"))\n",
    "sys.path.insert(0, repo_root)\n",
    "\n",
    "from src.utils.api_key_manager import APIKeyManager"
   ]
  },
  {
   "cell_type": "code",
   "execution_count": 14,
   "metadata": {},
   "outputs": [],
   "source": [
    "akm = APIKeyManager(eval(os.getenv(\"AV_API_KEY\"))) # type: ignore\n",
    "ts = TimeSeries(key=akm.get_current_key(), output_format='pandas', indexing_type='integer')\n",
    "dates = pd.date_range(\"2023-01-01\", \"2025-01-01\", freq=\"MS\", inclusive=\"both\").strftime(\"%Y-%m\").values\n",
    "\n",
    "ohlcv_df = pd.DataFrame()\n",
    "tkr_name = \"MSFT\"\n",
    "interval = \"5min\""
   ]
  },
  {
   "cell_type": "code",
   "execution_count": 15,
   "metadata": {},
   "outputs": [],
   "source": [
    "for date in dates:\n",
    "    # Fetch OHLCV-data for month\n",
    "    try:\n",
    "        data, meta_data = ts.get_intraday( # type: ignore\n",
    "            symbol=tkr_name, interval=interval,\n",
    "            outputsize=\"full\", month=date,\n",
    "            extended_hours=\"false\"\n",
    "        )\n",
    "    except ValueError:\n",
    "        ts = TimeSeries(key=akm.get_next_key(), output_format='pandas', indexing_type='integer')\n",
    "\n",
    "        data, meta_data = ts.get_intraday( # type: ignore\n",
    "            symbol=tkr_name, interval=interval,\n",
    "            outputsize=\"full\", month=date,\n",
    "            extended_hours=\"false\"\n",
    "        )\n",
    "\n",
    "    # Rename columns\n",
    "    data.rename(columns=lambda x: x.split(\". \")[-1] if \". \" in x else x, inplace=True) # type: ignore\n",
    "    data.rename(columns=lambda x: \"datetime\" if x == \"index\" else x, inplace=True) # type: ignore\n",
    "\n",
    "    # Convert string datetime to type datetime and convert into UTC timezone\n",
    "    data['datetime'] = pd.to_datetime(data['datetime'])\n",
    "    data['datetime'] = data['datetime'].dt.tz_localize(meta_data[\"6. Time Zone\"]).dt.tz_convert('UTC')\n",
    "\n",
    "\n",
    "    # Merge month with general DataFrame\n",
    "    ohlcv_df = pd.concat([ohlcv_df, data])"
   ]
  },
  {
   "cell_type": "code",
   "execution_count": 16,
   "metadata": {},
   "outputs": [],
   "source": [
    "ohlcv_df.reset_index(drop=True).to_csv(f\"data/assets5min/{tkr_name}_{interval}.csv\")"
   ]
  }
 ],
 "metadata": {
  "kernelspec": {
   "display_name": ".venv",
   "language": "python",
   "name": "python3"
  },
  "language_info": {
   "codemirror_mode": {
    "name": "ipython",
    "version": 3
   },
   "file_extension": ".py",
   "mimetype": "text/x-python",
   "name": "python",
   "nbconvert_exporter": "python",
   "pygments_lexer": "ipython3",
   "version": "3.10.17"
  }
 },
 "nbformat": 4,
 "nbformat_minor": 2
}
