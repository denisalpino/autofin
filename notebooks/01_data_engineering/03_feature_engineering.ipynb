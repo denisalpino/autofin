{
 "cells": [
  {
   "cell_type": "code",
   "execution_count": 1,
   "id": "04aa17ca",
   "metadata": {},
   "outputs": [],
   "source": [
    "import pandas as pd\n",
    "# Monkey patch for pandas_ta\n",
    "import numpy as np\n",
    "np.NaN = np.nan"
   ]
  },
  {
   "cell_type": "code",
   "execution_count": 2,
   "id": "2422a09d",
   "metadata": {},
   "outputs": [],
   "source": [
    "import os\n",
    "import sys\n",
    "\n",
    "repo_root = os.path.abspath(os.path.join(os.getcwd(), \"../..\"))\n",
    "sys.path.insert(0, repo_root)\n",
    "\n",
    "from src.data.loaders.data_loader import DataLoader\n",
    "from src.config.schemas.data import DataLoaderConfig, DatasetSchema\n",
    "from src.config.schemas.features import ReturnsMethod, FeatureConfig, ReturnsConfig\n",
    "from src.config.schemas.indicators import *\n",
    "from src.data.processors.winsorization import winsorize\n",
    "from src.data.processors.target_engineering import create_direction_target\n",
    "from src.features.calculators.returns import calculate_returns\n",
    "from src.features.feature_builder import FeatureBuilder\n",
    "from src.data.splitters.cross_validation import GroupTimeSeriesSplit\n",
    "from src.utils.visualization import plot_price, plot_returns, plot_correlation_matrix, plot_distbox"
   ]
  },
  {
   "cell_type": "code",
   "execution_count": 3,
   "id": "2edde20b",
   "metadata": {},
   "outputs": [],
   "source": [
    "mapping = DatasetSchema(timestamps=\"timestamp\")\n",
    "config = DataLoaderConfig(mapping=mapping, read_options={\"sep\": \";\"})\n",
    "loader = DataLoader(config)"
   ]
  },
  {
   "cell_type": "code",
   "execution_count": 4,
   "id": "1cbe8ec8",
   "metadata": {},
   "outputs": [],
   "source": [
    "dfs = loader.load(\"/home/denisalpino/dev/stock_prediction/data/crypto/15min/raw\")"
   ]
  },
  {
   "cell_type": "code",
   "execution_count": 5,
   "id": "a5068e58",
   "metadata": {},
   "outputs": [],
   "source": [
    "indicaors = [\n",
    "    BBandsConfig(output=[\"BBP\"]), # BBB has greater p-value than Volatility Ratio, so we remove it\n",
    "    MACDConfig(output=[\"MACD\", \"MACD_Signal\"]),\n",
    "    ADXConfig(),\n",
    "    ERPConfig(),\n",
    "    MIConfig(),\n",
    "    VRConfig(),\n",
    "    BodyConfig(),\n",
    "    UpWConfig(),\n",
    "    LowWConfig(),\n",
    "    RetSkewConfig(),\n",
    "    RetKurtConfig(),\n",
    "    RetMeanConfig(),\n",
    "]"
   ]
  },
  {
   "cell_type": "code",
   "execution_count": 6,
   "id": "6bb99f25",
   "metadata": {},
   "outputs": [],
   "source": [
    "featue_cfg = FeatureConfig(\n",
    "    returns=ReturnsConfig(method=ReturnsMethod.PERCENT),\n",
    "    indicators=indicaors\n",
    ")\n",
    "feature_builder = FeatureBuilder(featue_cfg)"
   ]
  },
  {
   "cell_type": "code",
   "execution_count": 7,
   "id": "0a344abb",
   "metadata": {},
   "outputs": [],
   "source": [
    "returns = [df.copy() for df in dfs]\n",
    "\n",
    "for df in returns:\n",
    "    # Timestamps convertions\n",
    "    df[\"timestamps\"] = pd.to_datetime(df.timestamps)\n",
    "\n",
    "    # Returns calculation (pct_change)\n",
    "    ret = calculate_returns(df.close, ReturnsMethod.PERCENT)\n",
    "\n",
    "    # Returns winsorization\n",
    "    _, _, ret, = winsorize(ret, ret, ret, winsorize_percent=99.9)\n",
    "\n",
    "    # Target calculation\n",
    "    df[\"target\"] = ret.shift(-1)\n",
    "\n",
    "    # Target calculation\n",
    "    df[\"direction\"] = create_direction_target(df, \"close\")"
   ]
  },
  {
   "cell_type": "code",
   "execution_count": 8,
   "id": "cef471f0",
   "metadata": {},
   "outputs": [],
   "source": [
    "dfs_featured = [feature_builder.build_features(df) for df in returns]\n",
    "\n",
    "drop_columns = [\"open\", \"high\", \"low\", \"close\"]\n",
    "\n",
    "dfs_full = [\n",
    "    pd.concat([df, feat], axis=1).drop(columns=drop_columns)\n",
    "    for df, feat in zip(returns, dfs_featured)\n",
    "]"
   ]
  },
  {
   "cell_type": "code",
   "execution_count": 9,
   "id": "16de7496",
   "metadata": {},
   "outputs": [
    {
     "name": "stderr",
     "output_type": "stream",
     "text": [
      "/home/denisalpino/dev/stock_prediction/src/utils/visualization/plot_correlation_matrix.py:36: UserWarning: Categorical variables detected: ['ticker']. Encoding with LabelEncoder.\n",
      "  warnings.warn(f\"Categorical variables detected: {list(categorical_columns)}. \"\n"
     ]
    },
    {
     "data": {
      "application/vnd.plotly.v1+json": {
       "config": {
        "plotlyServerURL": "https://plot.ly"
       },
       "data": [
        {
         "colorbar": {
          "len": 0.75,
          "tickfont": {
           "color": "white",
           "size": 12
          },
          "ticks": "outside",
          "title": {
           "font": {
            "color": "white",
            "size": 14
           },
           "text": "Correlation"
          }
         },
         "colorscale": [
          [
           0,
           "#B71C1C"
          ],
          [
           0.45,
           "#121212"
          ],
          [
           0.55,
           "#121212"
          ],
          [
           1,
           "#1B5E20"
          ]
         ],
         "customdata": [
          [
           "<b>ticker vs ticker</b><br>Correlation: 1.000<br>P-value: 0.0000 ***<br>Significance: ✗ (p < 0.01)<br>Method: spearman<br>Observations: 279608",
           "<b>ticker vs target</b><br>Correlation: -0.004<br>P-value: 0.0359 *<br>Significance: ✗ (p < 0.01)<br>Method: spearman<br>Observations: 279608",
           "<b>ticker vs direction</b><br>Correlation: -0.005<br>P-value: 0.0052 **<br>Significance: ✓ (p < 0.01)<br>Method: spearman<br>Observations: 279608",
           "<b>ticker vs day_of_week_sin</b><br>Correlation: 0.000<br>P-value: 1.0000 <br>Significance: ✗ (p < 0.01)<br>Method: spearman<br>Observations: 279608",
           "<b>ticker vs day_of_week_cos</b><br>Correlation: 0.000<br>P-value: 1.0000 <br>Significance: ✗ (p < 0.01)<br>Method: spearman<br>Observations: 279608",
           "<b>ticker vs returns</b><br>Correlation: -0.004<br>P-value: 0.0359 *<br>Significance: ✗ (p < 0.01)<br>Method: spearman<br>Observations: 279608",
           "<b>ticker vs BBP</b><br>Correlation: -0.009<br>P-value: 0.0000 ***<br>Significance: ✓ (p < 0.01)<br>Method: spearman<br>Observations: 279608",
           "<b>ticker vs MACD</b><br>Correlation: -0.004<br>P-value: 0.0251 *<br>Significance: ✗ (p < 0.01)<br>Method: spearman<br>Observations: 279608",
           "<b>ticker vs MACD_Signal</b><br>Correlation: -0.008<br>P-value: 0.0001 ***<br>Significance: ✓ (p < 0.01)<br>Method: spearman<br>Observations: 279608",
           "<b>ticker vs ADX</b><br>Correlation: -0.008<br>P-value: 0.0000 ***<br>Significance: ✓ (p < 0.01)<br>Method: spearman<br>Observations: 279608",
           "<b>ticker vs +DI</b><br>Correlation: 0.022<br>P-value: 0.0000 ***<br>Significance: ✓ (p < 0.01)<br>Method: spearman<br>Observations: 279608",
           "<b>ticker vs -DI</b><br>Correlation: 0.014<br>P-value: 0.0000 ***<br>Significance: ✓ (p < 0.01)<br>Method: spearman<br>Observations: 279608",
           "<b>ticker vs BePo</b><br>Correlation: -0.243<br>P-value: 0.0000 ***<br>Significance: ✓ (p < 0.01)<br>Method: spearman<br>Observations: 279608",
           "<b>ticker vs BuPo</b><br>Correlation: 0.235<br>P-value: 0.0000 ***<br>Significance: ✓ (p < 0.01)<br>Method: spearman<br>Observations: 279608",
           "<b>ticker vs MASSI_9_25</b><br>Correlation: 0.009<br>P-value: 0.0000 ***<br>Significance: ✓ (p < 0.01)<br>Method: spearman<br>Observations: 279608",
           "<b>ticker vs VR</b><br>Correlation: 0.312<br>P-value: 0.0000 ***<br>Significance: ✓ (p < 0.01)<br>Method: spearman<br>Observations: 279608",
           "<b>ticker vs BODY</b><br>Correlation: -0.510<br>P-value: 0.0000 ***<br>Significance: ✓ (p < 0.01)<br>Method: spearman<br>Observations: 279608",
           "<b>ticker vs UpW</b><br>Correlation: -0.390<br>P-value: 0.0000 ***<br>Significance: ✓ (p < 0.01)<br>Method: spearman<br>Observations: 279608",
           "<b>ticker vs LowW</b><br>Correlation: -0.424<br>P-value: 0.0000 ***<br>Significance: ✓ (p < 0.01)<br>Method: spearman<br>Observations: 279608",
           "<b>ticker vs RetSkew_14</b><br>Correlation: 0.025<br>P-value: 0.0000 ***<br>Significance: ✓ (p < 0.01)<br>Method: spearman<br>Observations: 279608",
           "<b>ticker vs RetKurt_14</b><br>Correlation: -0.041<br>P-value: 0.0000 ***<br>Significance: ✓ (p < 0.01)<br>Method: spearman<br>Observations: 279608",
           "<b>ticker vs RetMean_14</b><br>Correlation: -0.006<br>P-value: 0.0017 **<br>Significance: ✓ (p < 0.01)<br>Method: spearman<br>Observations: 279608",
           "<b>ticker vs returns_lag1</b><br>Correlation: -0.004<br>P-value: 0.0361 *<br>Significance: ✗ (p < 0.01)<br>Method: spearman<br>Observations: 279608",
           "<b>ticker vs returns_lag2</b><br>Correlation: -0.004<br>P-value: 0.0364 *<br>Significance: ✗ (p < 0.01)<br>Method: spearman<br>Observations: 279608",
           "<b>ticker vs returns_lag3</b><br>Correlation: -0.004<br>P-value: 0.0353 *<br>Significance: ✗ (p < 0.01)<br>Method: spearman<br>Observations: 279608",
           "<b>ticker vs returns_lag4</b><br>Correlation: -0.004<br>P-value: 0.0361 *<br>Significance: ✗ (p < 0.01)<br>Method: spearman<br>Observations: 279608",
           "<b>ticker vs returns_lag5</b><br>Correlation: -0.004<br>P-value: 0.0366 *<br>Significance: ✗ (p < 0.01)<br>Method: spearman<br>Observations: 279608"
          ],
          [
           "<b>target vs ticker</b><br>Correlation: -0.004<br>P-value: 0.0359 *<br>Significance: ✗ (p < 0.01)<br>Method: spearman<br>Observations: 279608",
           "<b>target vs target</b><br>Correlation: 1.000<br>P-value: 0.0000 ***<br>Significance: ✗ (p < 0.01)<br>Method: spearman<br>Observations: 279608",
           "<b>target vs direction</b><br>Correlation: 0.864<br>P-value: 0.0000 ***<br>Significance: ✓ (p < 0.01)<br>Method: spearman<br>Observations: 279608",
           "<b>target vs day_of_week_sin</b><br>Correlation: -0.002<br>P-value: 0.3979 <br>Significance: ✗ (p < 0.01)<br>Method: spearman<br>Observations: 279608",
           "<b>target vs day_of_week_cos</b><br>Correlation: -0.001<br>P-value: 0.7046 <br>Significance: ✗ (p < 0.01)<br>Method: spearman<br>Observations: 279608",
           "<b>target vs returns</b><br>Correlation: -0.037<br>P-value: 0.0000 ***<br>Significance: ✓ (p < 0.01)<br>Method: spearman<br>Observations: 279608",
           "<b>target vs BBP</b><br>Correlation: -0.058<br>P-value: 0.0000 ***<br>Significance: ✓ (p < 0.01)<br>Method: spearman<br>Observations: 279608",
           "<b>target vs MACD</b><br>Correlation: -0.021<br>P-value: 0.0000 ***<br>Significance: ✓ (p < 0.01)<br>Method: spearman<br>Observations: 279608",
           "<b>target vs MACD_Signal</b><br>Correlation: -0.022<br>P-value: 0.0000 ***<br>Significance: ✓ (p < 0.01)<br>Method: spearman<br>Observations: 279608",
           "<b>target vs ADX</b><br>Correlation: 0.008<br>P-value: 0.0000 ***<br>Significance: ✓ (p < 0.01)<br>Method: spearman<br>Observations: 279608",
           "<b>target vs +DI</b><br>Correlation: -0.037<br>P-value: 0.0000 ***<br>Significance: ✓ (p < 0.01)<br>Method: spearman<br>Observations: 279608",
           "<b>target vs -DI</b><br>Correlation: 0.042<br>P-value: 0.0000 ***<br>Significance: ✓ (p < 0.01)<br>Method: spearman<br>Observations: 279608",
           "<b>target vs BePo</b><br>Correlation: -0.027<br>P-value: 0.0000 ***<br>Significance: ✓ (p < 0.01)<br>Method: spearman<br>Observations: 279608",
           "<b>target vs BuPo</b><br>Correlation: -0.030<br>P-value: 0.0000 ***<br>Significance: ✓ (p < 0.01)<br>Method: spearman<br>Observations: 279608",
           "<b>target vs MASSI_9_25</b><br>Correlation: 0.007<br>P-value: 0.0002 ***<br>Significance: ✓ (p < 0.01)<br>Method: spearman<br>Observations: 279608",
           "<b>target vs VR</b><br>Correlation: 0.006<br>P-value: 0.0013 **<br>Significance: ✓ (p < 0.01)<br>Method: spearman<br>Observations: 279608",
           "<b>target vs BODY</b><br>Correlation: 0.006<br>P-value: 0.0007 ***<br>Significance: ✓ (p < 0.01)<br>Method: spearman<br>Observations: 279608",
           "<b>target vs UpW</b><br>Correlation: 0.016<br>P-value: 0.0000 ***<br>Significance: ✓ (p < 0.01)<br>Method: spearman<br>Observations: 279608",
           "<b>target vs LowW</b><br>Correlation: -0.007<br>P-value: 0.0002 ***<br>Significance: ✓ (p < 0.01)<br>Method: spearman<br>Observations: 279608",
           "<b>target vs RetSkew_14</b><br>Correlation: -0.010<br>P-value: 0.0000 ***<br>Significance: ✓ (p < 0.01)<br>Method: spearman<br>Observations: 279608",
           "<b>target vs RetKurt_14</b><br>Correlation: 0.005<br>P-value: 0.0043 **<br>Significance: ✓ (p < 0.01)<br>Method: spearman<br>Observations: 279608",
           "<b>target vs RetMean_14</b><br>Correlation: -0.029<br>P-value: 0.0000 ***<br>Significance: ✓ (p < 0.01)<br>Method: spearman<br>Observations: 279608",
           "<b>target vs returns_lag1</b><br>Correlation: -0.048<br>P-value: 0.0000 ***<br>Significance: ✓ (p < 0.01)<br>Method: spearman<br>Observations: 279608",
           "<b>target vs returns_lag2</b><br>Correlation: -0.017<br>P-value: 0.0000 ***<br>Significance: ✓ (p < 0.01)<br>Method: spearman<br>Observations: 279608",
           "<b>target vs returns_lag3</b><br>Correlation: -0.001<br>P-value: 0.4722 <br>Significance: ✗ (p < 0.01)<br>Method: spearman<br>Observations: 279608",
           "<b>target vs returns_lag4</b><br>Correlation: -0.014<br>P-value: 0.0000 ***<br>Significance: ✓ (p < 0.01)<br>Method: spearman<br>Observations: 279608",
           "<b>target vs returns_lag5</b><br>Correlation: -0.004<br>P-value: 0.0248 *<br>Significance: ✗ (p < 0.01)<br>Method: spearman<br>Observations: 279608"
          ],
          [
           "<b>direction vs ticker</b><br>Correlation: -0.005<br>P-value: 0.0052 **<br>Significance: ✓ (p < 0.01)<br>Method: spearman<br>Observations: 279608",
           "<b>direction vs target</b><br>Correlation: 0.864<br>P-value: 0.0000 ***<br>Significance: ✓ (p < 0.01)<br>Method: spearman<br>Observations: 279608",
           "<b>direction vs direction</b><br>Correlation: 1.000<br>P-value: 0.0000 ***<br>Significance: ✗ (p < 0.01)<br>Method: spearman<br>Observations: 279608",
           "<b>direction vs day_of_week_sin</b><br>Correlation: -0.004<br>P-value: 0.0400 *<br>Significance: ✗ (p < 0.01)<br>Method: spearman<br>Observations: 279608",
           "<b>direction vs day_of_week_cos</b><br>Correlation: 0.001<br>P-value: 0.4931 <br>Significance: ✗ (p < 0.01)<br>Method: spearman<br>Observations: 279608",
           "<b>direction vs returns</b><br>Correlation: -0.041<br>P-value: 0.0000 ***<br>Significance: ✓ (p < 0.01)<br>Method: spearman<br>Observations: 279608",
           "<b>direction vs BBP</b><br>Correlation: -0.069<br>P-value: 0.0000 ***<br>Significance: ✓ (p < 0.01)<br>Method: spearman<br>Observations: 279608",
           "<b>direction vs MACD</b><br>Correlation: -0.028<br>P-value: 0.0000 ***<br>Significance: ✓ (p < 0.01)<br>Method: spearman<br>Observations: 279608",
           "<b>direction vs MACD_Signal</b><br>Correlation: -0.033<br>P-value: 0.0000 ***<br>Significance: ✓ (p < 0.01)<br>Method: spearman<br>Observations: 279608",
           "<b>direction vs ADX</b><br>Correlation: 0.005<br>P-value: 0.0047 **<br>Significance: ✓ (p < 0.01)<br>Method: spearman<br>Observations: 279608",
           "<b>direction vs +DI</b><br>Correlation: -0.044<br>P-value: 0.0000 ***<br>Significance: ✓ (p < 0.01)<br>Method: spearman<br>Observations: 279608",
           "<b>direction vs -DI</b><br>Correlation: 0.046<br>P-value: 0.0000 ***<br>Significance: ✓ (p < 0.01)<br>Method: spearman<br>Observations: 279608",
           "<b>direction vs BePo</b><br>Correlation: -0.038<br>P-value: 0.0000 ***<br>Significance: ✓ (p < 0.01)<br>Method: spearman<br>Observations: 279608",
           "<b>direction vs BuPo</b><br>Correlation: -0.041<br>P-value: 0.0000 ***<br>Significance: ✓ (p < 0.01)<br>Method: spearman<br>Observations: 279608",
           "<b>direction vs MASSI_9_25</b><br>Correlation: 0.007<br>P-value: 0.0006 ***<br>Significance: ✓ (p < 0.01)<br>Method: spearman<br>Observations: 279608",
           "<b>direction vs VR</b><br>Correlation: 0.003<br>P-value: 0.1048 <br>Significance: ✗ (p < 0.01)<br>Method: spearman<br>Observations: 279608",
           "<b>direction vs BODY</b><br>Correlation: 0.006<br>P-value: 0.0013 **<br>Significance: ✓ (p < 0.01)<br>Method: spearman<br>Observations: 279608",
           "<b>direction vs UpW</b><br>Correlation: 0.016<br>P-value: 0.0000 ***<br>Significance: ✓ (p < 0.01)<br>Method: spearman<br>Observations: 279608",
           "<b>direction vs LowW</b><br>Correlation: -0.005<br>P-value: 0.0101 *<br>Significance: ✗ (p < 0.01)<br>Method: spearman<br>Observations: 279608",
           "<b>direction vs RetSkew_14</b><br>Correlation: -0.012<br>P-value: 0.0000 ***<br>Significance: ✓ (p < 0.01)<br>Method: spearman<br>Observations: 279608",
           "<b>direction vs RetKurt_14</b><br>Correlation: 0.004<br>P-value: 0.0352 *<br>Significance: ✗ (p < 0.01)<br>Method: spearman<br>Observations: 279608",
           "<b>direction vs RetMean_14</b><br>Correlation: -0.042<br>P-value: 0.0000 ***<br>Significance: ✓ (p < 0.01)<br>Method: spearman<br>Observations: 279608",
           "<b>direction vs returns_lag1</b><br>Correlation: -0.044<br>P-value: 0.0000 ***<br>Significance: ✓ (p < 0.01)<br>Method: spearman<br>Observations: 279608",
           "<b>direction vs returns_lag2</b><br>Correlation: -0.018<br>P-value: 0.0000 ***<br>Significance: ✓ (p < 0.01)<br>Method: spearman<br>Observations: 279608",
           "<b>direction vs returns_lag3</b><br>Correlation: -0.004<br>P-value: 0.0509 <br>Significance: ✗ (p < 0.01)<br>Method: spearman<br>Observations: 279608",
           "<b>direction vs returns_lag4</b><br>Correlation: -0.016<br>P-value: 0.0000 ***<br>Significance: ✓ (p < 0.01)<br>Method: spearman<br>Observations: 279608",
           "<b>direction vs returns_lag5</b><br>Correlation: -0.004<br>P-value: 0.0547 <br>Significance: ✗ (p < 0.01)<br>Method: spearman<br>Observations: 279608"
          ],
          [
           "<b>day_of_week_sin vs ticker</b><br>Correlation: 0.000<br>P-value: 1.0000 <br>Significance: ✗ (p < 0.01)<br>Method: spearman<br>Observations: 279608",
           "<b>day_of_week_sin vs target</b><br>Correlation: -0.002<br>P-value: 0.3979 <br>Significance: ✗ (p < 0.01)<br>Method: spearman<br>Observations: 279608",
           "<b>day_of_week_sin vs direction</b><br>Correlation: -0.004<br>P-value: 0.0400 *<br>Significance: ✗ (p < 0.01)<br>Method: spearman<br>Observations: 279608",
           "<b>day_of_week_sin vs day_of_week_sin</b><br>Correlation: 1.000<br>P-value: 0.0000 ***<br>Significance: ✗ (p < 0.01)<br>Method: spearman<br>Observations: 279608",
           "<b>day_of_week_sin vs day_of_week_cos</b><br>Correlation: 0.214<br>P-value: 0.0000 ***<br>Significance: ✓ (p < 0.01)<br>Method: spearman<br>Observations: 279608",
           "<b>day_of_week_sin vs returns</b><br>Correlation: -0.002<br>P-value: 0.3396 <br>Significance: ✗ (p < 0.01)<br>Method: spearman<br>Observations: 279608",
           "<b>day_of_week_sin vs BBP</b><br>Correlation: -0.011<br>P-value: 0.0000 ***<br>Significance: ✓ (p < 0.01)<br>Method: spearman<br>Observations: 279608",
           "<b>day_of_week_sin vs MACD</b><br>Correlation: -0.021<br>P-value: 0.0000 ***<br>Significance: ✓ (p < 0.01)<br>Method: spearman<br>Observations: 279608",
           "<b>day_of_week_sin vs MACD_Signal</b><br>Correlation: 0.005<br>P-value: 0.0154 *<br>Significance: ✗ (p < 0.01)<br>Method: spearman<br>Observations: 279608",
           "<b>day_of_week_sin vs ADX</b><br>Correlation: 0.077<br>P-value: 0.0000 ***<br>Significance: ✓ (p < 0.01)<br>Method: spearman<br>Observations: 279608",
           "<b>day_of_week_sin vs +DI</b><br>Correlation: -0.008<br>P-value: 0.0000 ***<br>Significance: ✓ (p < 0.01)<br>Method: spearman<br>Observations: 279608",
           "<b>day_of_week_sin vs -DI</b><br>Correlation: 0.015<br>P-value: 0.0000 ***<br>Significance: ✓ (p < 0.01)<br>Method: spearman<br>Observations: 279608",
           "<b>day_of_week_sin vs BePo</b><br>Correlation: 0.000<br>P-value: 0.8325 <br>Significance: ✗ (p < 0.01)<br>Method: spearman<br>Observations: 279608",
           "<b>day_of_week_sin vs BuPo</b><br>Correlation: -0.007<br>P-value: 0.0002 ***<br>Significance: ✓ (p < 0.01)<br>Method: spearman<br>Observations: 279608",
           "<b>day_of_week_sin vs MASSI_9_25</b><br>Correlation: 0.033<br>P-value: 0.0000 ***<br>Significance: ✓ (p < 0.01)<br>Method: spearman<br>Observations: 279608",
           "<b>day_of_week_sin vs VR</b><br>Correlation: 0.119<br>P-value: 0.0000 ***<br>Significance: ✓ (p < 0.01)<br>Method: spearman<br>Observations: 279608",
           "<b>day_of_week_sin vs BODY</b><br>Correlation: 0.027<br>P-value: 0.0000 ***<br>Significance: ✓ (p < 0.01)<br>Method: spearman<br>Observations: 279608",
           "<b>day_of_week_sin vs UpW</b><br>Correlation: 0.047<br>P-value: 0.0000 ***<br>Significance: ✓ (p < 0.01)<br>Method: spearman<br>Observations: 279608",
           "<b>day_of_week_sin vs LowW</b><br>Correlation: 0.041<br>P-value: 0.0000 ***<br>Significance: ✓ (p < 0.01)<br>Method: spearman<br>Observations: 279608",
           "<b>day_of_week_sin vs RetSkew_14</b><br>Correlation: 0.010<br>P-value: 0.0000 ***<br>Significance: ✓ (p < 0.01)<br>Method: spearman<br>Observations: 279608",
           "<b>day_of_week_sin vs RetKurt_14</b><br>Correlation: -0.002<br>P-value: 0.4135 <br>Significance: ✗ (p < 0.01)<br>Method: spearman<br>Observations: 279608",
           "<b>day_of_week_sin vs RetMean_14</b><br>Correlation: -0.006<br>P-value: 0.0020 **<br>Significance: ✓ (p < 0.01)<br>Method: spearman<br>Observations: 279608",
           "<b>day_of_week_sin vs returns_lag1</b><br>Correlation: -0.001<br>P-value: 0.4578 <br>Significance: ✗ (p < 0.01)<br>Method: spearman<br>Observations: 279608",
           "<b>day_of_week_sin vs returns_lag2</b><br>Correlation: -0.002<br>P-value: 0.2588 <br>Significance: ✗ (p < 0.01)<br>Method: spearman<br>Observations: 279608",
           "<b>day_of_week_sin vs returns_lag3</b><br>Correlation: -0.003<br>P-value: 0.1636 <br>Significance: ✗ (p < 0.01)<br>Method: spearman<br>Observations: 279608",
           "<b>day_of_week_sin vs returns_lag4</b><br>Correlation: -0.003<br>P-value: 0.1068 <br>Significance: ✗ (p < 0.01)<br>Method: spearman<br>Observations: 279608",
           "<b>day_of_week_sin vs returns_lag5</b><br>Correlation: -0.002<br>P-value: 0.1873 <br>Significance: ✗ (p < 0.01)<br>Method: spearman<br>Observations: 279608"
          ],
          [
           "<b>day_of_week_cos vs ticker</b><br>Correlation: 0.000<br>P-value: 1.0000 <br>Significance: ✗ (p < 0.01)<br>Method: spearman<br>Observations: 279608",
           "<b>day_of_week_cos vs target</b><br>Correlation: -0.001<br>P-value: 0.7046 <br>Significance: ✗ (p < 0.01)<br>Method: spearman<br>Observations: 279608",
           "<b>day_of_week_cos vs direction</b><br>Correlation: 0.001<br>P-value: 0.4931 <br>Significance: ✗ (p < 0.01)<br>Method: spearman<br>Observations: 279608",
           "<b>day_of_week_cos vs day_of_week_sin</b><br>Correlation: 0.214<br>P-value: 0.0000 ***<br>Significance: ✓ (p < 0.01)<br>Method: spearman<br>Observations: 279608",
           "<b>day_of_week_cos vs day_of_week_cos</b><br>Correlation: 1.000<br>P-value: 0.0000 ***<br>Significance: ✗ (p < 0.01)<br>Method: spearman<br>Observations: 279608",
           "<b>day_of_week_cos vs returns</b><br>Correlation: -0.001<br>P-value: 0.5639 <br>Significance: ✗ (p < 0.01)<br>Method: spearman<br>Observations: 279608",
           "<b>day_of_week_cos vs BBP</b><br>Correlation: -0.015<br>P-value: 0.0000 ***<br>Significance: ✓ (p < 0.01)<br>Method: spearman<br>Observations: 279608",
           "<b>day_of_week_cos vs MACD</b><br>Correlation: -0.016<br>P-value: 0.0000 ***<br>Significance: ✓ (p < 0.01)<br>Method: spearman<br>Observations: 279608",
           "<b>day_of_week_cos vs MACD_Signal</b><br>Correlation: -0.007<br>P-value: 0.0002 ***<br>Significance: ✓ (p < 0.01)<br>Method: spearman<br>Observations: 279608",
           "<b>day_of_week_cos vs ADX</b><br>Correlation: 0.050<br>P-value: 0.0000 ***<br>Significance: ✓ (p < 0.01)<br>Method: spearman<br>Observations: 279608",
           "<b>day_of_week_cos vs +DI</b><br>Correlation: -0.009<br>P-value: 0.0000 ***<br>Significance: ✓ (p < 0.01)<br>Method: spearman<br>Observations: 279608",
           "<b>day_of_week_cos vs -DI</b><br>Correlation: 0.030<br>P-value: 0.0000 ***<br>Significance: ✓ (p < 0.01)<br>Method: spearman<br>Observations: 279608",
           "<b>day_of_week_cos vs BePo</b><br>Correlation: -0.014<br>P-value: 0.0000 ***<br>Significance: ✓ (p < 0.01)<br>Method: spearman<br>Observations: 279608",
           "<b>day_of_week_cos vs BuPo</b><br>Correlation: -0.007<br>P-value: 0.0005 ***<br>Significance: ✓ (p < 0.01)<br>Method: spearman<br>Observations: 279608",
           "<b>day_of_week_cos vs MASSI_9_25</b><br>Correlation: 0.063<br>P-value: 0.0000 ***<br>Significance: ✓ (p < 0.01)<br>Method: spearman<br>Observations: 279608",
           "<b>day_of_week_cos vs VR</b><br>Correlation: 0.008<br>P-value: 0.0000 ***<br>Significance: ✓ (p < 0.01)<br>Method: spearman<br>Observations: 279608",
           "<b>day_of_week_cos vs BODY</b><br>Correlation: -0.001<br>P-value: 0.6594 <br>Significance: ✗ (p < 0.01)<br>Method: spearman<br>Observations: 279608",
           "<b>day_of_week_cos vs UpW</b><br>Correlation: 0.001<br>P-value: 0.6863 <br>Significance: ✗ (p < 0.01)<br>Method: spearman<br>Observations: 279608",
           "<b>day_of_week_cos vs LowW</b><br>Correlation: 0.004<br>P-value: 0.0235 *<br>Significance: ✗ (p < 0.01)<br>Method: spearman<br>Observations: 279608",
           "<b>day_of_week_cos vs RetSkew_14</b><br>Correlation: -0.017<br>P-value: 0.0000 ***<br>Significance: ✓ (p < 0.01)<br>Method: spearman<br>Observations: 279608",
           "<b>day_of_week_cos vs RetKurt_14</b><br>Correlation: 0.039<br>P-value: 0.0000 ***<br>Significance: ✓ (p < 0.01)<br>Method: spearman<br>Observations: 279608",
           "<b>day_of_week_cos vs RetMean_14</b><br>Correlation: -0.016<br>P-value: 0.0000 ***<br>Significance: ✓ (p < 0.01)<br>Method: spearman<br>Observations: 279608",
           "<b>day_of_week_cos vs returns_lag1</b><br>Correlation: -0.001<br>P-value: 0.6506 <br>Significance: ✗ (p < 0.01)<br>Method: spearman<br>Observations: 279608",
           "<b>day_of_week_cos vs returns_lag2</b><br>Correlation: -0.001<br>P-value: 0.6647 <br>Significance: ✗ (p < 0.01)<br>Method: spearman<br>Observations: 279608",
           "<b>day_of_week_cos vs returns_lag3</b><br>Correlation: -0.002<br>P-value: 0.3432 <br>Significance: ✗ (p < 0.01)<br>Method: spearman<br>Observations: 279608",
           "<b>day_of_week_cos vs returns_lag4</b><br>Correlation: -0.002<br>P-value: 0.3568 <br>Significance: ✗ (p < 0.01)<br>Method: spearman<br>Observations: 279608",
           "<b>day_of_week_cos vs returns_lag5</b><br>Correlation: -0.002<br>P-value: 0.3198 <br>Significance: ✗ (p < 0.01)<br>Method: spearman<br>Observations: 279608"
          ],
          [
           "<b>returns vs ticker</b><br>Correlation: -0.004<br>P-value: 0.0359 *<br>Significance: ✗ (p < 0.01)<br>Method: spearman<br>Observations: 279608",
           "<b>returns vs target</b><br>Correlation: -0.037<br>P-value: 0.0000 ***<br>Significance: ✓ (p < 0.01)<br>Method: spearman<br>Observations: 279608",
           "<b>returns vs direction</b><br>Correlation: -0.041<br>P-value: 0.0000 ***<br>Significance: ✓ (p < 0.01)<br>Method: spearman<br>Observations: 279608",
           "<b>returns vs day_of_week_sin</b><br>Correlation: -0.002<br>P-value: 0.3396 <br>Significance: ✗ (p < 0.01)<br>Method: spearman<br>Observations: 279608",
           "<b>returns vs day_of_week_cos</b><br>Correlation: -0.001<br>P-value: 0.5639 <br>Significance: ✗ (p < 0.01)<br>Method: spearman<br>Observations: 279608",
           "<b>returns vs returns</b><br>Correlation: 1.000<br>P-value: 0.0000 ***<br>Significance: ✗ (p < 0.01)<br>Method: spearman<br>Observations: 279608",
           "<b>returns vs BBP</b><br>Correlation: 0.475<br>P-value: 0.0000 ***<br>Significance: ✓ (p < 0.01)<br>Method: spearman<br>Observations: 279608",
           "<b>returns vs MACD</b><br>Correlation: 0.026<br>P-value: 0.0000 ***<br>Significance: ✓ (p < 0.01)<br>Method: spearman<br>Observations: 279608",
           "<b>returns vs MACD_Signal</b><br>Correlation: 0.096<br>P-value: 0.0000 ***<br>Significance: ✓ (p < 0.01)<br>Method: spearman<br>Observations: 279608",
           "<b>returns vs ADX</b><br>Correlation: 0.008<br>P-value: 0.0000 ***<br>Significance: ✓ (p < 0.01)<br>Method: spearman<br>Observations: 279608",
           "<b>returns vs +DI</b><br>Correlation: 0.130<br>P-value: 0.0000 ***<br>Significance: ✓ (p < 0.01)<br>Method: spearman<br>Observations: 279608",
           "<b>returns vs -DI</b><br>Correlation: -0.128<br>P-value: 0.0000 ***<br>Significance: ✓ (p < 0.01)<br>Method: spearman<br>Observations: 279608",
           "<b>returns vs BePo</b><br>Correlation: 0.096<br>P-value: 0.0000 ***<br>Significance: ✓ (p < 0.01)<br>Method: spearman<br>Observations: 279608",
           "<b>returns vs BuPo</b><br>Correlation: 0.103<br>P-value: 0.0000 ***<br>Significance: ✓ (p < 0.01)<br>Method: spearman<br>Observations: 279608",
           "<b>returns vs MASSI_9_25</b><br>Correlation: 0.006<br>P-value: 0.0016 **<br>Significance: ✓ (p < 0.01)<br>Method: spearman<br>Observations: 279608",
           "<b>returns vs VR</b><br>Correlation: -0.009<br>P-value: 0.0000 ***<br>Significance: ✓ (p < 0.01)<br>Method: spearman<br>Observations: 279608",
           "<b>returns vs BODY</b><br>Correlation: 0.004<br>P-value: 0.0269 *<br>Significance: ✗ (p < 0.01)<br>Method: spearman<br>Observations: 279608",
           "<b>returns vs UpW</b><br>Correlation: 0.036<br>P-value: 0.0000 ***<br>Significance: ✓ (p < 0.01)<br>Method: spearman<br>Observations: 279608",
           "<b>returns vs LowW</b><br>Correlation: -0.047<br>P-value: 0.0000 ***<br>Significance: ✓ (p < 0.01)<br>Method: spearman<br>Observations: 279608",
           "<b>returns vs RetSkew_14</b><br>Correlation: -0.016<br>P-value: 0.0000 ***<br>Significance: ✓ (p < 0.01)<br>Method: spearman<br>Observations: 279608",
           "<b>returns vs RetKurt_14</b><br>Correlation: 0.006<br>P-value: 0.0015 **<br>Significance: ✓ (p < 0.01)<br>Method: spearman<br>Observations: 279608",
           "<b>returns vs RetMean_14</b><br>Correlation: 0.152<br>P-value: 0.0000 ***<br>Significance: ✓ (p < 0.01)<br>Method: spearman<br>Observations: 279608",
           "<b>returns vs returns_lag1</b><br>Correlation: -0.037<br>P-value: 0.0000 ***<br>Significance: ✓ (p < 0.01)<br>Method: spearman<br>Observations: 279608",
           "<b>returns vs returns_lag2</b><br>Correlation: -0.048<br>P-value: 0.0000 ***<br>Significance: ✓ (p < 0.01)<br>Method: spearman<br>Observations: 279608",
           "<b>returns vs returns_lag3</b><br>Correlation: -0.017<br>P-value: 0.0000 ***<br>Significance: ✓ (p < 0.01)<br>Method: spearman<br>Observations: 279608",
           "<b>returns vs returns_lag4</b><br>Correlation: -0.001<br>P-value: 0.4723 <br>Significance: ✗ (p < 0.01)<br>Method: spearman<br>Observations: 279608",
           "<b>returns vs returns_lag5</b><br>Correlation: -0.014<br>P-value: 0.0000 ***<br>Significance: ✓ (p < 0.01)<br>Method: spearman<br>Observations: 279608"
          ],
          [
           "<b>BBP vs ticker</b><br>Correlation: -0.009<br>P-value: 0.0000 ***<br>Significance: ✓ (p < 0.01)<br>Method: spearman<br>Observations: 279608",
           "<b>BBP vs target</b><br>Correlation: -0.058<br>P-value: 0.0000 ***<br>Significance: ✓ (p < 0.01)<br>Method: spearman<br>Observations: 279608",
           "<b>BBP vs direction</b><br>Correlation: -0.069<br>P-value: 0.0000 ***<br>Significance: ✓ (p < 0.01)<br>Method: spearman<br>Observations: 279608",
           "<b>BBP vs day_of_week_sin</b><br>Correlation: -0.011<br>P-value: 0.0000 ***<br>Significance: ✓ (p < 0.01)<br>Method: spearman<br>Observations: 279608",
           "<b>BBP vs day_of_week_cos</b><br>Correlation: -0.015<br>P-value: 0.0000 ***<br>Significance: ✓ (p < 0.01)<br>Method: spearman<br>Observations: 279608",
           "<b>BBP vs returns</b><br>Correlation: 0.475<br>P-value: 0.0000 ***<br>Significance: ✓ (p < 0.01)<br>Method: spearman<br>Observations: 279608",
           "<b>BBP vs BBP</b><br>Correlation: 1.000<br>P-value: 0.0000 ***<br>Significance: ✗ (p < 0.01)<br>Method: spearman<br>Observations: 279608",
           "<b>BBP vs MACD</b><br>Correlation: 0.445<br>P-value: 0.0000 ***<br>Significance: ✓ (p < 0.01)<br>Method: spearman<br>Observations: 279608",
           "<b>BBP vs MACD_Signal</b><br>Correlation: 0.536<br>P-value: 0.0000 ***<br>Significance: ✓ (p < 0.01)<br>Method: spearman<br>Observations: 279608",
           "<b>BBP vs ADX</b><br>Correlation: -0.007<br>P-value: 0.0002 ***<br>Significance: ✓ (p < 0.01)<br>Method: spearman<br>Observations: 279608",
           "<b>BBP vs +DI</b><br>Correlation: 0.684<br>P-value: 0.0000 ***<br>Significance: ✓ (p < 0.01)<br>Method: spearman<br>Observations: 279608",
           "<b>BBP vs -DI</b><br>Correlation: -0.678<br>P-value: 0.0000 ***<br>Significance: ✓ (p < 0.01)<br>Method: spearman<br>Observations: 279608",
           "<b>BBP vs BePo</b><br>Correlation: 0.620<br>P-value: 0.0000 ***<br>Significance: ✓ (p < 0.01)<br>Method: spearman<br>Observations: 279608",
           "<b>BBP vs BuPo</b><br>Correlation: 0.614<br>P-value: 0.0000 ***<br>Significance: ✓ (p < 0.01)<br>Method: spearman<br>Observations: 279608",
           "<b>BBP vs MASSI_9_25</b><br>Correlation: 0.005<br>P-value: 0.0054 **<br>Significance: ✓ (p < 0.01)<br>Method: spearman<br>Observations: 279608",
           "<b>BBP vs VR</b><br>Correlation: -0.009<br>P-value: 0.0000 ***<br>Significance: ✓ (p < 0.01)<br>Method: spearman<br>Observations: 279608",
           "<b>BBP vs BODY</b><br>Correlation: 0.013<br>P-value: 0.0000 ***<br>Significance: ✓ (p < 0.01)<br>Method: spearman<br>Observations: 279608",
           "<b>BBP vs UpW</b><br>Correlation: 0.059<br>P-value: 0.0000 ***<br>Significance: ✓ (p < 0.01)<br>Method: spearman<br>Observations: 279608",
           "<b>BBP vs LowW</b><br>Correlation: -0.043<br>P-value: 0.0000 ***<br>Significance: ✓ (p < 0.01)<br>Method: spearman<br>Observations: 279608",
           "<b>BBP vs RetSkew_14</b><br>Correlation: 0.182<br>P-value: 0.0000 ***<br>Significance: ✓ (p < 0.01)<br>Method: spearman<br>Observations: 279608",
           "<b>BBP vs RetKurt_14</b><br>Correlation: 0.013<br>P-value: 0.0000 ***<br>Significance: ✓ (p < 0.01)<br>Method: spearman<br>Observations: 279608",
           "<b>BBP vs RetMean_14</b><br>Correlation: 0.639<br>P-value: 0.0000 ***<br>Significance: ✓ (p < 0.01)<br>Method: spearman<br>Observations: 279608",
           "<b>BBP vs returns_lag1</b><br>Correlation: 0.367<br>P-value: 0.0000 ***<br>Significance: ✓ (p < 0.01)<br>Method: spearman<br>Observations: 279608",
           "<b>BBP vs returns_lag2</b><br>Correlation: 0.274<br>P-value: 0.0000 ***<br>Significance: ✓ (p < 0.01)<br>Method: spearman<br>Observations: 279608",
           "<b>BBP vs returns_lag3</b><br>Correlation: 0.215<br>P-value: 0.0000 ***<br>Significance: ✓ (p < 0.01)<br>Method: spearman<br>Observations: 279608",
           "<b>BBP vs returns_lag4</b><br>Correlation: 0.179<br>P-value: 0.0000 ***<br>Significance: ✓ (p < 0.01)<br>Method: spearman<br>Observations: 279608",
           "<b>BBP vs returns_lag5</b><br>Correlation: 0.140<br>P-value: 0.0000 ***<br>Significance: ✓ (p < 0.01)<br>Method: spearman<br>Observations: 279608"
          ],
          [
           "<b>MACD vs ticker</b><br>Correlation: -0.004<br>P-value: 0.0251 *<br>Significance: ✗ (p < 0.01)<br>Method: spearman<br>Observations: 279608",
           "<b>MACD vs target</b><br>Correlation: -0.021<br>P-value: 0.0000 ***<br>Significance: ✓ (p < 0.01)<br>Method: spearman<br>Observations: 279608",
           "<b>MACD vs direction</b><br>Correlation: -0.028<br>P-value: 0.0000 ***<br>Significance: ✓ (p < 0.01)<br>Method: spearman<br>Observations: 279608",
           "<b>MACD vs day_of_week_sin</b><br>Correlation: -0.021<br>P-value: 0.0000 ***<br>Significance: ✓ (p < 0.01)<br>Method: spearman<br>Observations: 279608",
           "<b>MACD vs day_of_week_cos</b><br>Correlation: -0.016<br>P-value: 0.0000 ***<br>Significance: ✓ (p < 0.01)<br>Method: spearman<br>Observations: 279608",
           "<b>MACD vs returns</b><br>Correlation: 0.026<br>P-value: 0.0000 ***<br>Significance: ✓ (p < 0.01)<br>Method: spearman<br>Observations: 279608",
           "<b>MACD vs BBP</b><br>Correlation: 0.445<br>P-value: 0.0000 ***<br>Significance: ✓ (p < 0.01)<br>Method: spearman<br>Observations: 279608",
           "<b>MACD vs MACD</b><br>Correlation: 1.000<br>P-value: 0.0000 ***<br>Significance: ✗ (p < 0.01)<br>Method: spearman<br>Observations: 279608",
           "<b>MACD vs MACD_Signal</b><br>Correlation: 0.192<br>P-value: 0.0000 ***<br>Significance: ✓ (p < 0.01)<br>Method: spearman<br>Observations: 279608",
           "<b>MACD vs ADX</b><br>Correlation: -0.071<br>P-value: 0.0000 ***<br>Significance: ✓ (p < 0.01)<br>Method: spearman<br>Observations: 279608",
           "<b>MACD vs +DI</b><br>Correlation: 0.656<br>P-value: 0.0000 ***<br>Significance: ✓ (p < 0.01)<br>Method: spearman<br>Observations: 279608",
           "<b>MACD vs -DI</b><br>Correlation: -0.658<br>P-value: 0.0000 ***<br>Significance: ✓ (p < 0.01)<br>Method: spearman<br>Observations: 279608",
           "<b>MACD vs BePo</b><br>Correlation: 0.448<br>P-value: 0.0000 ***<br>Significance: ✓ (p < 0.01)<br>Method: spearman<br>Observations: 279608",
           "<b>MACD vs BuPo</b><br>Correlation: 0.430<br>P-value: 0.0000 ***<br>Significance: ✓ (p < 0.01)<br>Method: spearman<br>Observations: 279608",
           "<b>MACD vs MASSI_9_25</b><br>Correlation: 0.013<br>P-value: 0.0000 ***<br>Significance: ✓ (p < 0.01)<br>Method: spearman<br>Observations: 279608",
           "<b>MACD vs VR</b><br>Correlation: 0.016<br>P-value: 0.0000 ***<br>Significance: ✓ (p < 0.01)<br>Method: spearman<br>Observations: 279608",
           "<b>MACD vs BODY</b><br>Correlation: 0.015<br>P-value: 0.0000 ***<br>Significance: ✓ (p < 0.01)<br>Method: spearman<br>Observations: 279608",
           "<b>MACD vs UpW</b><br>Correlation: 0.053<br>P-value: 0.0000 ***<br>Significance: ✓ (p < 0.01)<br>Method: spearman<br>Observations: 279608",
           "<b>MACD vs LowW</b><br>Correlation: -0.015<br>P-value: 0.0000 ***<br>Significance: ✓ (p < 0.01)<br>Method: spearman<br>Observations: 279608",
           "<b>MACD vs RetSkew_14</b><br>Correlation: 0.228<br>P-value: 0.0000 ***<br>Significance: ✓ (p < 0.01)<br>Method: spearman<br>Observations: 279608",
           "<b>MACD vs RetKurt_14</b><br>Correlation: 0.016<br>P-value: 0.0000 ***<br>Significance: ✓ (p < 0.01)<br>Method: spearman<br>Observations: 279608",
           "<b>MACD vs RetMean_14</b><br>Correlation: 0.562<br>P-value: 0.0000 ***<br>Significance: ✓ (p < 0.01)<br>Method: spearman<br>Observations: 279608",
           "<b>MACD vs returns_lag1</b><br>Correlation: 0.059<br>P-value: 0.0000 ***<br>Significance: ✓ (p < 0.01)<br>Method: spearman<br>Observations: 279608",
           "<b>MACD vs returns_lag2</b><br>Correlation: 0.082<br>P-value: 0.0000 ***<br>Significance: ✓ (p < 0.01)<br>Method: spearman<br>Observations: 279608",
           "<b>MACD vs returns_lag3</b><br>Correlation: 0.099<br>P-value: 0.0000 ***<br>Significance: ✓ (p < 0.01)<br>Method: spearman<br>Observations: 279608",
           "<b>MACD vs returns_lag4</b><br>Correlation: 0.110<br>P-value: 0.0000 ***<br>Significance: ✓ (p < 0.01)<br>Method: spearman<br>Observations: 279608",
           "<b>MACD vs returns_lag5</b><br>Correlation: 0.116<br>P-value: 0.0000 ***<br>Significance: ✓ (p < 0.01)<br>Method: spearman<br>Observations: 279608"
          ],
          [
           "<b>MACD_Signal vs ticker</b><br>Correlation: -0.008<br>P-value: 0.0001 ***<br>Significance: ✓ (p < 0.01)<br>Method: spearman<br>Observations: 279608",
           "<b>MACD_Signal vs target</b><br>Correlation: -0.022<br>P-value: 0.0000 ***<br>Significance: ✓ (p < 0.01)<br>Method: spearman<br>Observations: 279608",
           "<b>MACD_Signal vs direction</b><br>Correlation: -0.033<br>P-value: 0.0000 ***<br>Significance: ✓ (p < 0.01)<br>Method: spearman<br>Observations: 279608",
           "<b>MACD_Signal vs day_of_week_sin</b><br>Correlation: 0.005<br>P-value: 0.0154 *<br>Significance: ✗ (p < 0.01)<br>Method: spearman<br>Observations: 279608",
           "<b>MACD_Signal vs day_of_week_cos</b><br>Correlation: -0.007<br>P-value: 0.0002 ***<br>Significance: ✓ (p < 0.01)<br>Method: spearman<br>Observations: 279608",
           "<b>MACD_Signal vs returns</b><br>Correlation: 0.096<br>P-value: 0.0000 ***<br>Significance: ✓ (p < 0.01)<br>Method: spearman<br>Observations: 279608",
           "<b>MACD_Signal vs BBP</b><br>Correlation: 0.536<br>P-value: 0.0000 ***<br>Significance: ✓ (p < 0.01)<br>Method: spearman<br>Observations: 279608",
           "<b>MACD_Signal vs MACD</b><br>Correlation: 0.192<br>P-value: 0.0000 ***<br>Significance: ✓ (p < 0.01)<br>Method: spearman<br>Observations: 279608",
           "<b>MACD_Signal vs MACD_Signal</b><br>Correlation: 1.000<br>P-value: 0.0000 ***<br>Significance: ✗ (p < 0.01)<br>Method: spearman<br>Observations: 279608",
           "<b>MACD_Signal vs ADX</b><br>Correlation: 0.016<br>P-value: 0.0000 ***<br>Significance: ✓ (p < 0.01)<br>Method: spearman<br>Observations: 279608",
           "<b>MACD_Signal vs +DI</b><br>Correlation: 0.339<br>P-value: 0.0000 ***<br>Significance: ✓ (p < 0.01)<br>Method: spearman<br>Observations: 279608",
           "<b>MACD_Signal vs -DI</b><br>Correlation: -0.325<br>P-value: 0.0000 ***<br>Significance: ✓ (p < 0.01)<br>Method: spearman<br>Observations: 279608",
           "<b>MACD_Signal vs BePo</b><br>Correlation: 0.538<br>P-value: 0.0000 ***<br>Significance: ✓ (p < 0.01)<br>Method: spearman<br>Observations: 279608",
           "<b>MACD_Signal vs BuPo</b><br>Correlation: 0.529<br>P-value: 0.0000 ***<br>Significance: ✓ (p < 0.01)<br>Method: spearman<br>Observations: 279608",
           "<b>MACD_Signal vs MASSI_9_25</b><br>Correlation: -0.030<br>P-value: 0.0000 ***<br>Significance: ✓ (p < 0.01)<br>Method: spearman<br>Observations: 279608",
           "<b>MACD_Signal vs VR</b><br>Correlation: -0.020<br>P-value: 0.0000 ***<br>Significance: ✓ (p < 0.01)<br>Method: spearman<br>Observations: 279608",
           "<b>MACD_Signal vs BODY</b><br>Correlation: 0.008<br>P-value: 0.0000 ***<br>Significance: ✓ (p < 0.01)<br>Method: spearman<br>Observations: 279608",
           "<b>MACD_Signal vs UpW</b><br>Correlation: 0.027<br>P-value: 0.0000 ***<br>Significance: ✓ (p < 0.01)<br>Method: spearman<br>Observations: 279608",
           "<b>MACD_Signal vs LowW</b><br>Correlation: -0.023<br>P-value: 0.0000 ***<br>Significance: ✓ (p < 0.01)<br>Method: spearman<br>Observations: 279608",
           "<b>MACD_Signal vs RetSkew_14</b><br>Correlation: 0.174<br>P-value: 0.0000 ***<br>Significance: ✓ (p < 0.01)<br>Method: spearman<br>Observations: 279608",
           "<b>MACD_Signal vs RetKurt_14</b><br>Correlation: 0.004<br>P-value: 0.0209 *<br>Significance: ✗ (p < 0.01)<br>Method: spearman<br>Observations: 279608",
           "<b>MACD_Signal vs RetMean_14</b><br>Correlation: 0.613<br>P-value: 0.0000 ***<br>Significance: ✓ (p < 0.01)<br>Method: spearman<br>Observations: 279608",
           "<b>MACD_Signal vs returns_lag1</b><br>Correlation: 0.160<br>P-value: 0.0000 ***<br>Significance: ✓ (p < 0.01)<br>Method: spearman<br>Observations: 279608",
           "<b>MACD_Signal vs returns_lag2</b><br>Correlation: 0.187<br>P-value: 0.0000 ***<br>Significance: ✓ (p < 0.01)<br>Method: spearman<br>Observations: 279608",
           "<b>MACD_Signal vs returns_lag3</b><br>Correlation: 0.193<br>P-value: 0.0000 ***<br>Significance: ✓ (p < 0.01)<br>Method: spearman<br>Observations: 279608",
           "<b>MACD_Signal vs returns_lag4</b><br>Correlation: 0.188<br>P-value: 0.0000 ***<br>Significance: ✓ (p < 0.01)<br>Method: spearman<br>Observations: 279608",
           "<b>MACD_Signal vs returns_lag5</b><br>Correlation: 0.174<br>P-value: 0.0000 ***<br>Significance: ✓ (p < 0.01)<br>Method: spearman<br>Observations: 279608"
          ],
          [
           "<b>ADX vs ticker</b><br>Correlation: -0.008<br>P-value: 0.0000 ***<br>Significance: ✓ (p < 0.01)<br>Method: spearman<br>Observations: 279608",
           "<b>ADX vs target</b><br>Correlation: 0.008<br>P-value: 0.0000 ***<br>Significance: ✓ (p < 0.01)<br>Method: spearman<br>Observations: 279608",
           "<b>ADX vs direction</b><br>Correlation: 0.005<br>P-value: 0.0047 **<br>Significance: ✓ (p < 0.01)<br>Method: spearman<br>Observations: 279608",
           "<b>ADX vs day_of_week_sin</b><br>Correlation: 0.077<br>P-value: 0.0000 ***<br>Significance: ✓ (p < 0.01)<br>Method: spearman<br>Observations: 279608",
           "<b>ADX vs day_of_week_cos</b><br>Correlation: 0.050<br>P-value: 0.0000 ***<br>Significance: ✓ (p < 0.01)<br>Method: spearman<br>Observations: 279608",
           "<b>ADX vs returns</b><br>Correlation: 0.008<br>P-value: 0.0000 ***<br>Significance: ✓ (p < 0.01)<br>Method: spearman<br>Observations: 279608",
           "<b>ADX vs BBP</b><br>Correlation: -0.007<br>P-value: 0.0002 ***<br>Significance: ✓ (p < 0.01)<br>Method: spearman<br>Observations: 279608",
           "<b>ADX vs MACD</b><br>Correlation: -0.071<br>P-value: 0.0000 ***<br>Significance: ✓ (p < 0.01)<br>Method: spearman<br>Observations: 279608",
           "<b>ADX vs MACD_Signal</b><br>Correlation: 0.016<br>P-value: 0.0000 ***<br>Significance: ✓ (p < 0.01)<br>Method: spearman<br>Observations: 279608",
           "<b>ADX vs ADX</b><br>Correlation: 1.000<br>P-value: 0.0000 ***<br>Significance: ✗ (p < 0.01)<br>Method: spearman<br>Observations: 279608",
           "<b>ADX vs +DI</b><br>Correlation: -0.053<br>P-value: 0.0000 ***<br>Significance: ✓ (p < 0.01)<br>Method: spearman<br>Observations: 279608",
           "<b>ADX vs -DI</b><br>Correlation: 0.063<br>P-value: 0.0000 ***<br>Significance: ✓ (p < 0.01)<br>Method: spearman<br>Observations: 279608",
           "<b>ADX vs BePo</b><br>Correlation: -0.027<br>P-value: 0.0000 ***<br>Significance: ✓ (p < 0.01)<br>Method: spearman<br>Observations: 279608",
           "<b>ADX vs BuPo</b><br>Correlation: 0.020<br>P-value: 0.0000 ***<br>Significance: ✓ (p < 0.01)<br>Method: spearman<br>Observations: 279608",
           "<b>ADX vs MASSI_9_25</b><br>Correlation: 0.336<br>P-value: 0.0000 ***<br>Significance: ✓ (p < 0.01)<br>Method: spearman<br>Observations: 279608",
           "<b>ADX vs VR</b><br>Correlation: 0.166<br>P-value: 0.0000 ***<br>Significance: ✓ (p < 0.01)<br>Method: spearman<br>Observations: 279608",
           "<b>ADX vs BODY</b><br>Correlation: 0.072<br>P-value: 0.0000 ***<br>Significance: ✓ (p < 0.01)<br>Method: spearman<br>Observations: 279608",
           "<b>ADX vs UpW</b><br>Correlation: 0.084<br>P-value: 0.0000 ***<br>Significance: ✓ (p < 0.01)<br>Method: spearman<br>Observations: 279608",
           "<b>ADX vs LowW</b><br>Correlation: 0.079<br>P-value: 0.0000 ***<br>Significance: ✓ (p < 0.01)<br>Method: spearman<br>Observations: 279608",
           "<b>ADX vs RetSkew_14</b><br>Correlation: -0.014<br>P-value: 0.0000 ***<br>Significance: ✓ (p < 0.01)<br>Method: spearman<br>Observations: 279608",
           "<b>ADX vs RetKurt_14</b><br>Correlation: 0.117<br>P-value: 0.0000 ***<br>Significance: ✓ (p < 0.01)<br>Method: spearman<br>Observations: 279608",
           "<b>ADX vs RetMean_14</b><br>Correlation: -0.016<br>P-value: 0.0000 ***<br>Significance: ✓ (p < 0.01)<br>Method: spearman<br>Observations: 279608",
           "<b>ADX vs returns_lag1</b><br>Correlation: 0.007<br>P-value: 0.0002 ***<br>Significance: ✓ (p < 0.01)<br>Method: spearman<br>Observations: 279608",
           "<b>ADX vs returns_lag2</b><br>Correlation: 0.007<br>P-value: 0.0006 ***<br>Significance: ✓ (p < 0.01)<br>Method: spearman<br>Observations: 279608",
           "<b>ADX vs returns_lag3</b><br>Correlation: 0.006<br>P-value: 0.0011 **<br>Significance: ✓ (p < 0.01)<br>Method: spearman<br>Observations: 279608",
           "<b>ADX vs returns_lag4</b><br>Correlation: 0.005<br>P-value: 0.0049 **<br>Significance: ✓ (p < 0.01)<br>Method: spearman<br>Observations: 279608",
           "<b>ADX vs returns_lag5</b><br>Correlation: 0.004<br>P-value: 0.0377 *<br>Significance: ✗ (p < 0.01)<br>Method: spearman<br>Observations: 279608"
          ],
          [
           "<b>+DI vs ticker</b><br>Correlation: 0.022<br>P-value: 0.0000 ***<br>Significance: ✓ (p < 0.01)<br>Method: spearman<br>Observations: 279608",
           "<b>+DI vs target</b><br>Correlation: -0.037<br>P-value: 0.0000 ***<br>Significance: ✓ (p < 0.01)<br>Method: spearman<br>Observations: 279608",
           "<b>+DI vs direction</b><br>Correlation: -0.044<br>P-value: 0.0000 ***<br>Significance: ✓ (p < 0.01)<br>Method: spearman<br>Observations: 279608",
           "<b>+DI vs day_of_week_sin</b><br>Correlation: -0.008<br>P-value: 0.0000 ***<br>Significance: ✓ (p < 0.01)<br>Method: spearman<br>Observations: 279608",
           "<b>+DI vs day_of_week_cos</b><br>Correlation: -0.009<br>P-value: 0.0000 ***<br>Significance: ✓ (p < 0.01)<br>Method: spearman<br>Observations: 279608",
           "<b>+DI vs returns</b><br>Correlation: 0.130<br>P-value: 0.0000 ***<br>Significance: ✓ (p < 0.01)<br>Method: spearman<br>Observations: 279608",
           "<b>+DI vs BBP</b><br>Correlation: 0.684<br>P-value: 0.0000 ***<br>Significance: ✓ (p < 0.01)<br>Method: spearman<br>Observations: 279608",
           "<b>+DI vs MACD</b><br>Correlation: 0.656<br>P-value: 0.0000 ***<br>Significance: ✓ (p < 0.01)<br>Method: spearman<br>Observations: 279608",
           "<b>+DI vs MACD_Signal</b><br>Correlation: 0.339<br>P-value: 0.0000 ***<br>Significance: ✓ (p < 0.01)<br>Method: spearman<br>Observations: 279608",
           "<b>+DI vs ADX</b><br>Correlation: -0.053<br>P-value: 0.0000 ***<br>Significance: ✓ (p < 0.01)<br>Method: spearman<br>Observations: 279608",
           "<b>+DI vs +DI</b><br>Correlation: 1.000<br>P-value: 0.0000 ***<br>Significance: ✗ (p < 0.01)<br>Method: spearman<br>Observations: 279608",
           "<b>+DI vs -DI</b><br>Correlation: -0.722<br>P-value: 0.0000 ***<br>Significance: ✓ (p < 0.01)<br>Method: spearman<br>Observations: 279608",
           "<b>+DI vs BePo</b><br>Correlation: 0.522<br>P-value: 0.0000 ***<br>Significance: ✓ (p < 0.01)<br>Method: spearman<br>Observations: 279608",
           "<b>+DI vs BuPo</b><br>Correlation: 0.531<br>P-value: 0.0000 ***<br>Significance: ✓ (p < 0.01)<br>Method: spearman<br>Observations: 279608",
           "<b>+DI vs MASSI_9_25</b><br>Correlation: 0.051<br>P-value: 0.0000 ***<br>Significance: ✓ (p < 0.01)<br>Method: spearman<br>Observations: 279608",
           "<b>+DI vs VR</b><br>Correlation: 0.041<br>P-value: 0.0000 ***<br>Significance: ✓ (p < 0.01)<br>Method: spearman<br>Observations: 279608",
           "<b>+DI vs BODY</b><br>Correlation: 0.028<br>P-value: 0.0000 ***<br>Significance: ✓ (p < 0.01)<br>Method: spearman<br>Observations: 279608",
           "<b>+DI vs UpW</b><br>Correlation: 0.075<br>P-value: 0.0000 ***<br>Significance: ✓ (p < 0.01)<br>Method: spearman<br>Observations: 279608",
           "<b>+DI vs LowW</b><br>Correlation: -0.063<br>P-value: 0.0000 ***<br>Significance: ✓ (p < 0.01)<br>Method: spearman<br>Observations: 279608",
           "<b>+DI vs RetSkew_14</b><br>Correlation: 0.275<br>P-value: 0.0000 ***<br>Significance: ✓ (p < 0.01)<br>Method: spearman<br>Observations: 279608",
           "<b>+DI vs RetKurt_14</b><br>Correlation: 0.059<br>P-value: 0.0000 ***<br>Significance: ✓ (p < 0.01)<br>Method: spearman<br>Observations: 279608",
           "<b>+DI vs RetMean_14</b><br>Correlation: 0.570<br>P-value: 0.0000 ***<br>Significance: ✓ (p < 0.01)<br>Method: spearman<br>Observations: 279608",
           "<b>+DI vs returns_lag1</b><br>Correlation: 0.217<br>P-value: 0.0000 ***<br>Significance: ✓ (p < 0.01)<br>Method: spearman<br>Observations: 279608",
           "<b>+DI vs returns_lag2</b><br>Correlation: 0.198<br>P-value: 0.0000 ***<br>Significance: ✓ (p < 0.01)<br>Method: spearman<br>Observations: 279608",
           "<b>+DI vs returns_lag3</b><br>Correlation: 0.183<br>P-value: 0.0000 ***<br>Significance: ✓ (p < 0.01)<br>Method: spearman<br>Observations: 279608",
           "<b>+DI vs returns_lag4</b><br>Correlation: 0.173<br>P-value: 0.0000 ***<br>Significance: ✓ (p < 0.01)<br>Method: spearman<br>Observations: 279608",
           "<b>+DI vs returns_lag5</b><br>Correlation: 0.161<br>P-value: 0.0000 ***<br>Significance: ✓ (p < 0.01)<br>Method: spearman<br>Observations: 279608"
          ],
          [
           "<b>-DI vs ticker</b><br>Correlation: 0.014<br>P-value: 0.0000 ***<br>Significance: ✓ (p < 0.01)<br>Method: spearman<br>Observations: 279608",
           "<b>-DI vs target</b><br>Correlation: 0.042<br>P-value: 0.0000 ***<br>Significance: ✓ (p < 0.01)<br>Method: spearman<br>Observations: 279608",
           "<b>-DI vs direction</b><br>Correlation: 0.046<br>P-value: 0.0000 ***<br>Significance: ✓ (p < 0.01)<br>Method: spearman<br>Observations: 279608",
           "<b>-DI vs day_of_week_sin</b><br>Correlation: 0.015<br>P-value: 0.0000 ***<br>Significance: ✓ (p < 0.01)<br>Method: spearman<br>Observations: 279608",
           "<b>-DI vs day_of_week_cos</b><br>Correlation: 0.030<br>P-value: 0.0000 ***<br>Significance: ✓ (p < 0.01)<br>Method: spearman<br>Observations: 279608",
           "<b>-DI vs returns</b><br>Correlation: -0.128<br>P-value: 0.0000 ***<br>Significance: ✓ (p < 0.01)<br>Method: spearman<br>Observations: 279608",
           "<b>-DI vs BBP</b><br>Correlation: -0.678<br>P-value: 0.0000 ***<br>Significance: ✓ (p < 0.01)<br>Method: spearman<br>Observations: 279608",
           "<b>-DI vs MACD</b><br>Correlation: -0.658<br>P-value: 0.0000 ***<br>Significance: ✓ (p < 0.01)<br>Method: spearman<br>Observations: 279608",
           "<b>-DI vs MACD_Signal</b><br>Correlation: -0.325<br>P-value: 0.0000 ***<br>Significance: ✓ (p < 0.01)<br>Method: spearman<br>Observations: 279608",
           "<b>-DI vs ADX</b><br>Correlation: 0.063<br>P-value: 0.0000 ***<br>Significance: ✓ (p < 0.01)<br>Method: spearman<br>Observations: 279608",
           "<b>-DI vs +DI</b><br>Correlation: -0.722<br>P-value: 0.0000 ***<br>Significance: ✓ (p < 0.01)<br>Method: spearman<br>Observations: 279608",
           "<b>-DI vs -DI</b><br>Correlation: 1.000<br>P-value: 0.0000 ***<br>Significance: ✗ (p < 0.01)<br>Method: spearman<br>Observations: 279608",
           "<b>-DI vs BePo</b><br>Correlation: -0.524<br>P-value: 0.0000 ***<br>Significance: ✓ (p < 0.01)<br>Method: spearman<br>Observations: 279608",
           "<b>-DI vs BuPo</b><br>Correlation: -0.520<br>P-value: 0.0000 ***<br>Significance: ✓ (p < 0.01)<br>Method: spearman<br>Observations: 279608",
           "<b>-DI vs MASSI_9_25</b><br>Correlation: 0.013<br>P-value: 0.0000 ***<br>Significance: ✓ (p < 0.01)<br>Method: spearman<br>Observations: 279608",
           "<b>-DI vs VR</b><br>Correlation: -0.011<br>P-value: 0.0000 ***<br>Significance: ✓ (p < 0.01)<br>Method: spearman<br>Observations: 279608",
           "<b>-DI vs BODY</b><br>Correlation: 0.025<br>P-value: 0.0000 ***<br>Significance: ✓ (p < 0.01)<br>Method: spearman<br>Observations: 279608",
           "<b>-DI vs UpW</b><br>Correlation: -0.070<br>P-value: 0.0000 ***<br>Significance: ✓ (p < 0.01)<br>Method: spearman<br>Observations: 279608",
           "<b>-DI vs LowW</b><br>Correlation: 0.064<br>P-value: 0.0000 ***<br>Significance: ✓ (p < 0.01)<br>Method: spearman<br>Observations: 279608",
           "<b>-DI vs RetSkew_14</b><br>Correlation: -0.283<br>P-value: 0.0000 ***<br>Significance: ✓ (p < 0.01)<br>Method: spearman<br>Observations: 279608",
           "<b>-DI vs RetKurt_14</b><br>Correlation: 0.029<br>P-value: 0.0000 ***<br>Significance: ✓ (p < 0.01)<br>Method: spearman<br>Observations: 279608",
           "<b>-DI vs RetMean_14</b><br>Correlation: -0.564<br>P-value: 0.0000 ***<br>Significance: ✓ (p < 0.01)<br>Method: spearman<br>Observations: 279608",
           "<b>-DI vs returns_lag1</b><br>Correlation: -0.213<br>P-value: 0.0000 ***<br>Significance: ✓ (p < 0.01)<br>Method: spearman<br>Observations: 279608",
           "<b>-DI vs returns_lag2</b><br>Correlation: -0.192<br>P-value: 0.0000 ***<br>Significance: ✓ (p < 0.01)<br>Method: spearman<br>Observations: 279608",
           "<b>-DI vs returns_lag3</b><br>Correlation: -0.175<br>P-value: 0.0000 ***<br>Significance: ✓ (p < 0.01)<br>Method: spearman<br>Observations: 279608",
           "<b>-DI vs returns_lag4</b><br>Correlation: -0.166<br>P-value: 0.0000 ***<br>Significance: ✓ (p < 0.01)<br>Method: spearman<br>Observations: 279608",
           "<b>-DI vs returns_lag5</b><br>Correlation: -0.156<br>P-value: 0.0000 ***<br>Significance: ✓ (p < 0.01)<br>Method: spearman<br>Observations: 279608"
          ],
          [
           "<b>BePo vs ticker</b><br>Correlation: -0.243<br>P-value: 0.0000 ***<br>Significance: ✓ (p < 0.01)<br>Method: spearman<br>Observations: 279608",
           "<b>BePo vs target</b><br>Correlation: -0.027<br>P-value: 0.0000 ***<br>Significance: ✓ (p < 0.01)<br>Method: spearman<br>Observations: 279608",
           "<b>BePo vs direction</b><br>Correlation: -0.038<br>P-value: 0.0000 ***<br>Significance: ✓ (p < 0.01)<br>Method: spearman<br>Observations: 279608",
           "<b>BePo vs day_of_week_sin</b><br>Correlation: 0.000<br>P-value: 0.8325 <br>Significance: ✗ (p < 0.01)<br>Method: spearman<br>Observations: 279608",
           "<b>BePo vs day_of_week_cos</b><br>Correlation: -0.014<br>P-value: 0.0000 ***<br>Significance: ✓ (p < 0.01)<br>Method: spearman<br>Observations: 279608",
           "<b>BePo vs returns</b><br>Correlation: 0.096<br>P-value: 0.0000 ***<br>Significance: ✓ (p < 0.01)<br>Method: spearman<br>Observations: 279608",
           "<b>BePo vs BBP</b><br>Correlation: 0.620<br>P-value: 0.0000 ***<br>Significance: ✓ (p < 0.01)<br>Method: spearman<br>Observations: 279608",
           "<b>BePo vs MACD</b><br>Correlation: 0.448<br>P-value: 0.0000 ***<br>Significance: ✓ (p < 0.01)<br>Method: spearman<br>Observations: 279608",
           "<b>BePo vs MACD_Signal</b><br>Correlation: 0.538<br>P-value: 0.0000 ***<br>Significance: ✓ (p < 0.01)<br>Method: spearman<br>Observations: 279608",
           "<b>BePo vs ADX</b><br>Correlation: -0.027<br>P-value: 0.0000 ***<br>Significance: ✓ (p < 0.01)<br>Method: spearman<br>Observations: 279608",
           "<b>BePo vs +DI</b><br>Correlation: 0.522<br>P-value: 0.0000 ***<br>Significance: ✓ (p < 0.01)<br>Method: spearman<br>Observations: 279608",
           "<b>BePo vs -DI</b><br>Correlation: -0.524<br>P-value: 0.0000 ***<br>Significance: ✓ (p < 0.01)<br>Method: spearman<br>Observations: 279608",
           "<b>BePo vs BePo</b><br>Correlation: 1.000<br>P-value: 0.0000 ***<br>Significance: ✗ (p < 0.01)<br>Method: spearman<br>Observations: 279608",
           "<b>BePo vs BuPo</b><br>Correlation: 0.347<br>P-value: 0.0000 ***<br>Significance: ✓ (p < 0.01)<br>Method: spearman<br>Observations: 279608",
           "<b>BePo vs MASSI_9_25</b><br>Correlation: -0.030<br>P-value: 0.0000 ***<br>Significance: ✓ (p < 0.01)<br>Method: spearman<br>Observations: 279608",
           "<b>BePo vs VR</b><br>Correlation: -0.135<br>P-value: 0.0000 ***<br>Significance: ✓ (p < 0.01)<br>Method: spearman<br>Observations: 279608",
           "<b>BePo vs BODY</b><br>Correlation: 0.378<br>P-value: 0.0000 ***<br>Significance: ✓ (p < 0.01)<br>Method: spearman<br>Observations: 279608",
           "<b>BePo vs UpW</b><br>Correlation: 0.367<br>P-value: 0.0000 ***<br>Significance: ✓ (p < 0.01)<br>Method: spearman<br>Observations: 279608",
           "<b>BePo vs LowW</b><br>Correlation: 0.233<br>P-value: 0.0000 ***<br>Significance: ✓ (p < 0.01)<br>Method: spearman<br>Observations: 279608",
           "<b>BePo vs RetSkew_14</b><br>Correlation: 0.161<br>P-value: 0.0000 ***<br>Significance: ✓ (p < 0.01)<br>Method: spearman<br>Observations: 279608",
           "<b>BePo vs RetKurt_14</b><br>Correlation: 0.020<br>P-value: 0.0000 ***<br>Significance: ✓ (p < 0.01)<br>Method: spearman<br>Observations: 279608",
           "<b>BePo vs RetMean_14</b><br>Correlation: 0.585<br>P-value: 0.0000 ***<br>Significance: ✓ (p < 0.01)<br>Method: spearman<br>Observations: 279608",
           "<b>BePo vs returns_lag1</b><br>Correlation: 0.260<br>P-value: 0.0000 ***<br>Significance: ✓ (p < 0.01)<br>Method: spearman<br>Observations: 279608",
           "<b>BePo vs returns_lag2</b><br>Correlation: 0.214<br>P-value: 0.0000 ***<br>Significance: ✓ (p < 0.01)<br>Method: spearman<br>Observations: 279608",
           "<b>BePo vs returns_lag3</b><br>Correlation: 0.177<br>P-value: 0.0000 ***<br>Significance: ✓ (p < 0.01)<br>Method: spearman<br>Observations: 279608",
           "<b>BePo vs returns_lag4</b><br>Correlation: 0.153<br>P-value: 0.0000 ***<br>Significance: ✓ (p < 0.01)<br>Method: spearman<br>Observations: 279608",
           "<b>BePo vs returns_lag5</b><br>Correlation: 0.134<br>P-value: 0.0000 ***<br>Significance: ✓ (p < 0.01)<br>Method: spearman<br>Observations: 279608"
          ],
          [
           "<b>BuPo vs ticker</b><br>Correlation: 0.235<br>P-value: 0.0000 ***<br>Significance: ✓ (p < 0.01)<br>Method: spearman<br>Observations: 279608",
           "<b>BuPo vs target</b><br>Correlation: -0.030<br>P-value: 0.0000 ***<br>Significance: ✓ (p < 0.01)<br>Method: spearman<br>Observations: 279608",
           "<b>BuPo vs direction</b><br>Correlation: -0.041<br>P-value: 0.0000 ***<br>Significance: ✓ (p < 0.01)<br>Method: spearman<br>Observations: 279608",
           "<b>BuPo vs day_of_week_sin</b><br>Correlation: -0.007<br>P-value: 0.0002 ***<br>Significance: ✓ (p < 0.01)<br>Method: spearman<br>Observations: 279608",
           "<b>BuPo vs day_of_week_cos</b><br>Correlation: -0.007<br>P-value: 0.0005 ***<br>Significance: ✓ (p < 0.01)<br>Method: spearman<br>Observations: 279608",
           "<b>BuPo vs returns</b><br>Correlation: 0.103<br>P-value: 0.0000 ***<br>Significance: ✓ (p < 0.01)<br>Method: spearman<br>Observations: 279608",
           "<b>BuPo vs BBP</b><br>Correlation: 0.614<br>P-value: 0.0000 ***<br>Significance: ✓ (p < 0.01)<br>Method: spearman<br>Observations: 279608",
           "<b>BuPo vs MACD</b><br>Correlation: 0.430<br>P-value: 0.0000 ***<br>Significance: ✓ (p < 0.01)<br>Method: spearman<br>Observations: 279608",
           "<b>BuPo vs MACD_Signal</b><br>Correlation: 0.529<br>P-value: 0.0000 ***<br>Significance: ✓ (p < 0.01)<br>Method: spearman<br>Observations: 279608",
           "<b>BuPo vs ADX</b><br>Correlation: 0.020<br>P-value: 0.0000 ***<br>Significance: ✓ (p < 0.01)<br>Method: spearman<br>Observations: 279608",
           "<b>BuPo vs +DI</b><br>Correlation: 0.531<br>P-value: 0.0000 ***<br>Significance: ✓ (p < 0.01)<br>Method: spearman<br>Observations: 279608",
           "<b>BuPo vs -DI</b><br>Correlation: -0.520<br>P-value: 0.0000 ***<br>Significance: ✓ (p < 0.01)<br>Method: spearman<br>Observations: 279608",
           "<b>BuPo vs BePo</b><br>Correlation: 0.347<br>P-value: 0.0000 ***<br>Significance: ✓ (p < 0.01)<br>Method: spearman<br>Observations: 279608",
           "<b>BuPo vs BuPo</b><br>Correlation: 1.000<br>P-value: 0.0000 ***<br>Significance: ✗ (p < 0.01)<br>Method: spearman<br>Observations: 279608",
           "<b>BuPo vs MASSI_9_25</b><br>Correlation: 0.026<br>P-value: 0.0000 ***<br>Significance: ✓ (p < 0.01)<br>Method: spearman<br>Observations: 279608",
           "<b>BuPo vs VR</b><br>Correlation: 0.115<br>P-value: 0.0000 ***<br>Significance: ✓ (p < 0.01)<br>Method: spearman<br>Observations: 279608",
           "<b>BuPo vs BODY</b><br>Correlation: -0.361<br>P-value: 0.0000 ***<br>Significance: ✓ (p < 0.01)<br>Method: spearman<br>Observations: 279608",
           "<b>BuPo vs UpW</b><br>Correlation: -0.202<br>P-value: 0.0000 ***<br>Significance: ✓ (p < 0.01)<br>Method: spearman<br>Observations: 279608",
           "<b>BuPo vs LowW</b><br>Correlation: -0.365<br>P-value: 0.0000 ***<br>Significance: ✓ (p < 0.01)<br>Method: spearman<br>Observations: 279608",
           "<b>BuPo vs RetSkew_14</b><br>Correlation: 0.175<br>P-value: 0.0000 ***<br>Significance: ✓ (p < 0.01)<br>Method: spearman<br>Observations: 279608",
           "<b>BuPo vs RetKurt_14</b><br>Correlation: 0.006<br>P-value: 0.0020 **<br>Significance: ✓ (p < 0.01)<br>Method: spearman<br>Observations: 279608",
           "<b>BuPo vs RetMean_14</b><br>Correlation: 0.572<br>P-value: 0.0000 ***<br>Significance: ✓ (p < 0.01)<br>Method: spearman<br>Observations: 279608",
           "<b>BuPo vs returns_lag1</b><br>Correlation: 0.266<br>P-value: 0.0000 ***<br>Significance: ✓ (p < 0.01)<br>Method: spearman<br>Observations: 279608",
           "<b>BuPo vs returns_lag2</b><br>Correlation: 0.213<br>P-value: 0.0000 ***<br>Significance: ✓ (p < 0.01)<br>Method: spearman<br>Observations: 279608",
           "<b>BuPo vs returns_lag3</b><br>Correlation: 0.174<br>P-value: 0.0000 ***<br>Significance: ✓ (p < 0.01)<br>Method: spearman<br>Observations: 279608",
           "<b>BuPo vs returns_lag4</b><br>Correlation: 0.150<br>P-value: 0.0000 ***<br>Significance: ✓ (p < 0.01)<br>Method: spearman<br>Observations: 279608",
           "<b>BuPo vs returns_lag5</b><br>Correlation: 0.129<br>P-value: 0.0000 ***<br>Significance: ✓ (p < 0.01)<br>Method: spearman<br>Observations: 279608"
          ],
          [
           "<b>MASSI_9_25 vs ticker</b><br>Correlation: 0.009<br>P-value: 0.0000 ***<br>Significance: ✓ (p < 0.01)<br>Method: spearman<br>Observations: 279608",
           "<b>MASSI_9_25 vs target</b><br>Correlation: 0.007<br>P-value: 0.0002 ***<br>Significance: ✓ (p < 0.01)<br>Method: spearman<br>Observations: 279608",
           "<b>MASSI_9_25 vs direction</b><br>Correlation: 0.007<br>P-value: 0.0006 ***<br>Significance: ✓ (p < 0.01)<br>Method: spearman<br>Observations: 279608",
           "<b>MASSI_9_25 vs day_of_week_sin</b><br>Correlation: 0.033<br>P-value: 0.0000 ***<br>Significance: ✓ (p < 0.01)<br>Method: spearman<br>Observations: 279608",
           "<b>MASSI_9_25 vs day_of_week_cos</b><br>Correlation: 0.063<br>P-value: 0.0000 ***<br>Significance: ✓ (p < 0.01)<br>Method: spearman<br>Observations: 279608",
           "<b>MASSI_9_25 vs returns</b><br>Correlation: 0.006<br>P-value: 0.0016 **<br>Significance: ✓ (p < 0.01)<br>Method: spearman<br>Observations: 279608",
           "<b>MASSI_9_25 vs BBP</b><br>Correlation: 0.005<br>P-value: 0.0054 **<br>Significance: ✓ (p < 0.01)<br>Method: spearman<br>Observations: 279608",
           "<b>MASSI_9_25 vs MACD</b><br>Correlation: 0.013<br>P-value: 0.0000 ***<br>Significance: ✓ (p < 0.01)<br>Method: spearman<br>Observations: 279608",
           "<b>MASSI_9_25 vs MACD_Signal</b><br>Correlation: -0.030<br>P-value: 0.0000 ***<br>Significance: ✓ (p < 0.01)<br>Method: spearman<br>Observations: 279608",
           "<b>MASSI_9_25 vs ADX</b><br>Correlation: 0.336<br>P-value: 0.0000 ***<br>Significance: ✓ (p < 0.01)<br>Method: spearman<br>Observations: 279608",
           "<b>MASSI_9_25 vs +DI</b><br>Correlation: 0.051<br>P-value: 0.0000 ***<br>Significance: ✓ (p < 0.01)<br>Method: spearman<br>Observations: 279608",
           "<b>MASSI_9_25 vs -DI</b><br>Correlation: 0.013<br>P-value: 0.0000 ***<br>Significance: ✓ (p < 0.01)<br>Method: spearman<br>Observations: 279608",
           "<b>MASSI_9_25 vs BePo</b><br>Correlation: -0.030<br>P-value: 0.0000 ***<br>Significance: ✓ (p < 0.01)<br>Method: spearman<br>Observations: 279608",
           "<b>MASSI_9_25 vs BuPo</b><br>Correlation: 0.026<br>P-value: 0.0000 ***<br>Significance: ✓ (p < 0.01)<br>Method: spearman<br>Observations: 279608",
           "<b>MASSI_9_25 vs MASSI_9_25</b><br>Correlation: 1.000<br>P-value: 0.0000 ***<br>Significance: ✗ (p < 0.01)<br>Method: spearman<br>Observations: 279608",
           "<b>MASSI_9_25 vs VR</b><br>Correlation: 0.237<br>P-value: 0.0000 ***<br>Significance: ✓ (p < 0.01)<br>Method: spearman<br>Observations: 279608",
           "<b>MASSI_9_25 vs BODY</b><br>Correlation: 0.030<br>P-value: 0.0000 ***<br>Significance: ✓ (p < 0.01)<br>Method: spearman<br>Observations: 279608",
           "<b>MASSI_9_25 vs UpW</b><br>Correlation: 0.063<br>P-value: 0.0000 ***<br>Significance: ✓ (p < 0.01)<br>Method: spearman<br>Observations: 279608",
           "<b>MASSI_9_25 vs LowW</b><br>Correlation: 0.052<br>P-value: 0.0000 ***<br>Significance: ✓ (p < 0.01)<br>Method: spearman<br>Observations: 279608",
           "<b>MASSI_9_25 vs RetSkew_14</b><br>Correlation: -0.007<br>P-value: 0.0001 ***<br>Significance: ✓ (p < 0.01)<br>Method: spearman<br>Observations: 279608",
           "<b>MASSI_9_25 vs RetKurt_14</b><br>Correlation: 0.170<br>P-value: 0.0000 ***<br>Significance: ✓ (p < 0.01)<br>Method: spearman<br>Observations: 279608",
           "<b>MASSI_9_25 vs RetMean_14</b><br>Correlation: -0.012<br>P-value: 0.0000 ***<br>Significance: ✓ (p < 0.01)<br>Method: spearman<br>Observations: 279608",
           "<b>MASSI_9_25 vs returns_lag1</b><br>Correlation: 0.004<br>P-value: 0.0251 *<br>Significance: ✗ (p < 0.01)<br>Method: spearman<br>Observations: 279608",
           "<b>MASSI_9_25 vs returns_lag2</b><br>Correlation: 0.003<br>P-value: 0.1414 <br>Significance: ✗ (p < 0.01)<br>Method: spearman<br>Observations: 279608",
           "<b>MASSI_9_25 vs returns_lag3</b><br>Correlation: 0.002<br>P-value: 0.1976 <br>Significance: ✗ (p < 0.01)<br>Method: spearman<br>Observations: 279608",
           "<b>MASSI_9_25 vs returns_lag4</b><br>Correlation: 0.002<br>P-value: 0.2900 <br>Significance: ✗ (p < 0.01)<br>Method: spearman<br>Observations: 279608",
           "<b>MASSI_9_25 vs returns_lag5</b><br>Correlation: 0.002<br>P-value: 0.3606 <br>Significance: ✗ (p < 0.01)<br>Method: spearman<br>Observations: 279608"
          ],
          [
           "<b>VR vs ticker</b><br>Correlation: 0.312<br>P-value: 0.0000 ***<br>Significance: ✓ (p < 0.01)<br>Method: spearman<br>Observations: 279608",
           "<b>VR vs target</b><br>Correlation: 0.006<br>P-value: 0.0013 **<br>Significance: ✓ (p < 0.01)<br>Method: spearman<br>Observations: 279608",
           "<b>VR vs direction</b><br>Correlation: 0.003<br>P-value: 0.1048 <br>Significance: ✗ (p < 0.01)<br>Method: spearman<br>Observations: 279608",
           "<b>VR vs day_of_week_sin</b><br>Correlation: 0.119<br>P-value: 0.0000 ***<br>Significance: ✓ (p < 0.01)<br>Method: spearman<br>Observations: 279608",
           "<b>VR vs day_of_week_cos</b><br>Correlation: 0.008<br>P-value: 0.0000 ***<br>Significance: ✓ (p < 0.01)<br>Method: spearman<br>Observations: 279608",
           "<b>VR vs returns</b><br>Correlation: -0.009<br>P-value: 0.0000 ***<br>Significance: ✓ (p < 0.01)<br>Method: spearman<br>Observations: 279608",
           "<b>VR vs BBP</b><br>Correlation: -0.009<br>P-value: 0.0000 ***<br>Significance: ✓ (p < 0.01)<br>Method: spearman<br>Observations: 279608",
           "<b>VR vs MACD</b><br>Correlation: 0.016<br>P-value: 0.0000 ***<br>Significance: ✓ (p < 0.01)<br>Method: spearman<br>Observations: 279608",
           "<b>VR vs MACD_Signal</b><br>Correlation: -0.020<br>P-value: 0.0000 ***<br>Significance: ✓ (p < 0.01)<br>Method: spearman<br>Observations: 279608",
           "<b>VR vs ADX</b><br>Correlation: 0.166<br>P-value: 0.0000 ***<br>Significance: ✓ (p < 0.01)<br>Method: spearman<br>Observations: 279608",
           "<b>VR vs +DI</b><br>Correlation: 0.041<br>P-value: 0.0000 ***<br>Significance: ✓ (p < 0.01)<br>Method: spearman<br>Observations: 279608",
           "<b>VR vs -DI</b><br>Correlation: -0.011<br>P-value: 0.0000 ***<br>Significance: ✓ (p < 0.01)<br>Method: spearman<br>Observations: 279608",
           "<b>VR vs BePo</b><br>Correlation: -0.135<br>P-value: 0.0000 ***<br>Significance: ✓ (p < 0.01)<br>Method: spearman<br>Observations: 279608",
           "<b>VR vs BuPo</b><br>Correlation: 0.115<br>P-value: 0.0000 ***<br>Significance: ✓ (p < 0.01)<br>Method: spearman<br>Observations: 279608",
           "<b>VR vs MASSI_9_25</b><br>Correlation: 0.237<br>P-value: 0.0000 ***<br>Significance: ✓ (p < 0.01)<br>Method: spearman<br>Observations: 279608",
           "<b>VR vs VR</b><br>Correlation: 1.000<br>P-value: 0.0000 ***<br>Significance: ✗ (p < 0.01)<br>Method: spearman<br>Observations: 279608",
           "<b>VR vs BODY</b><br>Correlation: -0.242<br>P-value: 0.0000 ***<br>Significance: ✓ (p < 0.01)<br>Method: spearman<br>Observations: 279608",
           "<b>VR vs UpW</b><br>Correlation: -0.182<br>P-value: 0.0000 ***<br>Significance: ✓ (p < 0.01)<br>Method: spearman<br>Observations: 279608",
           "<b>VR vs LowW</b><br>Correlation: -0.202<br>P-value: 0.0000 ***<br>Significance: ✓ (p < 0.01)<br>Method: spearman<br>Observations: 279608",
           "<b>VR vs RetSkew_14</b><br>Correlation: 0.028<br>P-value: 0.0000 ***<br>Significance: ✓ (p < 0.01)<br>Method: spearman<br>Observations: 279608",
           "<b>VR vs RetKurt_14</b><br>Correlation: 0.037<br>P-value: 0.0000 ***<br>Significance: ✓ (p < 0.01)<br>Method: spearman<br>Observations: 279608",
           "<b>VR vs RetMean_14</b><br>Correlation: -0.007<br>P-value: 0.0001 ***<br>Significance: ✓ (p < 0.01)<br>Method: spearman<br>Observations: 279608",
           "<b>VR vs returns_lag1</b><br>Correlation: -0.017<br>P-value: 0.0000 ***<br>Significance: ✓ (p < 0.01)<br>Method: spearman<br>Observations: 279608",
           "<b>VR vs returns_lag2</b><br>Correlation: -0.004<br>P-value: 0.0337 *<br>Significance: ✗ (p < 0.01)<br>Method: spearman<br>Observations: 279608",
           "<b>VR vs returns_lag3</b><br>Correlation: 0.004<br>P-value: 0.0457 *<br>Significance: ✗ (p < 0.01)<br>Method: spearman<br>Observations: 279608",
           "<b>VR vs returns_lag4</b><br>Correlation: 0.003<br>P-value: 0.0857 <br>Significance: ✗ (p < 0.01)<br>Method: spearman<br>Observations: 279608",
           "<b>VR vs returns_lag5</b><br>Correlation: 0.002<br>P-value: 0.2459 <br>Significance: ✗ (p < 0.01)<br>Method: spearman<br>Observations: 279608"
          ],
          [
           "<b>BODY vs ticker</b><br>Correlation: -0.510<br>P-value: 0.0000 ***<br>Significance: ✓ (p < 0.01)<br>Method: spearman<br>Observations: 279608",
           "<b>BODY vs target</b><br>Correlation: 0.006<br>P-value: 0.0007 ***<br>Significance: ✓ (p < 0.01)<br>Method: spearman<br>Observations: 279608",
           "<b>BODY vs direction</b><br>Correlation: 0.006<br>P-value: 0.0013 **<br>Significance: ✓ (p < 0.01)<br>Method: spearman<br>Observations: 279608",
           "<b>BODY vs day_of_week_sin</b><br>Correlation: 0.027<br>P-value: 0.0000 ***<br>Significance: ✓ (p < 0.01)<br>Method: spearman<br>Observations: 279608",
           "<b>BODY vs day_of_week_cos</b><br>Correlation: -0.001<br>P-value: 0.6594 <br>Significance: ✗ (p < 0.01)<br>Method: spearman<br>Observations: 279608",
           "<b>BODY vs returns</b><br>Correlation: 0.004<br>P-value: 0.0269 *<br>Significance: ✗ (p < 0.01)<br>Method: spearman<br>Observations: 279608",
           "<b>BODY vs BBP</b><br>Correlation: 0.013<br>P-value: 0.0000 ***<br>Significance: ✓ (p < 0.01)<br>Method: spearman<br>Observations: 279608",
           "<b>BODY vs MACD</b><br>Correlation: 0.015<br>P-value: 0.0000 ***<br>Significance: ✓ (p < 0.01)<br>Method: spearman<br>Observations: 279608",
           "<b>BODY vs MACD_Signal</b><br>Correlation: 0.008<br>P-value: 0.0000 ***<br>Significance: ✓ (p < 0.01)<br>Method: spearman<br>Observations: 279608",
           "<b>BODY vs ADX</b><br>Correlation: 0.072<br>P-value: 0.0000 ***<br>Significance: ✓ (p < 0.01)<br>Method: spearman<br>Observations: 279608",
           "<b>BODY vs +DI</b><br>Correlation: 0.028<br>P-value: 0.0000 ***<br>Significance: ✓ (p < 0.01)<br>Method: spearman<br>Observations: 279608",
           "<b>BODY vs -DI</b><br>Correlation: 0.025<br>P-value: 0.0000 ***<br>Significance: ✓ (p < 0.01)<br>Method: spearman<br>Observations: 279608",
           "<b>BODY vs BePo</b><br>Correlation: 0.378<br>P-value: 0.0000 ***<br>Significance: ✓ (p < 0.01)<br>Method: spearman<br>Observations: 279608",
           "<b>BODY vs BuPo</b><br>Correlation: -0.361<br>P-value: 0.0000 ***<br>Significance: ✓ (p < 0.01)<br>Method: spearman<br>Observations: 279608",
           "<b>BODY vs MASSI_9_25</b><br>Correlation: 0.030<br>P-value: 0.0000 ***<br>Significance: ✓ (p < 0.01)<br>Method: spearman<br>Observations: 279608",
           "<b>BODY vs VR</b><br>Correlation: -0.242<br>P-value: 0.0000 ***<br>Significance: ✓ (p < 0.01)<br>Method: spearman<br>Observations: 279608",
           "<b>BODY vs BODY</b><br>Correlation: 1.000<br>P-value: 0.0000 ***<br>Significance: ✗ (p < 0.01)<br>Method: spearman<br>Observations: 279608",
           "<b>BODY vs UpW</b><br>Correlation: 0.625<br>P-value: 0.0000 ***<br>Significance: ✓ (p < 0.01)<br>Method: spearman<br>Observations: 279608",
           "<b>BODY vs LowW</b><br>Correlation: 0.656<br>P-value: 0.0000 ***<br>Significance: ✓ (p < 0.01)<br>Method: spearman<br>Observations: 279608",
           "<b>BODY vs RetSkew_14</b><br>Correlation: -0.010<br>P-value: 0.0000 ***<br>Significance: ✓ (p < 0.01)<br>Method: spearman<br>Observations: 279608",
           "<b>BODY vs RetKurt_14</b><br>Correlation: 0.052<br>P-value: 0.0000 ***<br>Significance: ✓ (p < 0.01)<br>Method: spearman<br>Observations: 279608",
           "<b>BODY vs RetMean_14</b><br>Correlation: 0.014<br>P-value: 0.0000 ***<br>Significance: ✓ (p < 0.01)<br>Method: spearman<br>Observations: 279608",
           "<b>BODY vs returns_lag1</b><br>Correlation: 0.004<br>P-value: 0.0566 <br>Significance: ✗ (p < 0.01)<br>Method: spearman<br>Observations: 279608",
           "<b>BODY vs returns_lag2</b><br>Correlation: 0.004<br>P-value: 0.0409 *<br>Significance: ✗ (p < 0.01)<br>Method: spearman<br>Observations: 279608",
           "<b>BODY vs returns_lag3</b><br>Correlation: 0.005<br>P-value: 0.0048 **<br>Significance: ✓ (p < 0.01)<br>Method: spearman<br>Observations: 279608",
           "<b>BODY vs returns_lag4</b><br>Correlation: 0.005<br>P-value: 0.0096 **<br>Significance: ✓ (p < 0.01)<br>Method: spearman<br>Observations: 279608",
           "<b>BODY vs returns_lag5</b><br>Correlation: 0.005<br>P-value: 0.0070 **<br>Significance: ✓ (p < 0.01)<br>Method: spearman<br>Observations: 279608"
          ],
          [
           "<b>UpW vs ticker</b><br>Correlation: -0.390<br>P-value: 0.0000 ***<br>Significance: ✓ (p < 0.01)<br>Method: spearman<br>Observations: 279608",
           "<b>UpW vs target</b><br>Correlation: 0.016<br>P-value: 0.0000 ***<br>Significance: ✓ (p < 0.01)<br>Method: spearman<br>Observations: 279608",
           "<b>UpW vs direction</b><br>Correlation: 0.016<br>P-value: 0.0000 ***<br>Significance: ✓ (p < 0.01)<br>Method: spearman<br>Observations: 279608",
           "<b>UpW vs day_of_week_sin</b><br>Correlation: 0.047<br>P-value: 0.0000 ***<br>Significance: ✓ (p < 0.01)<br>Method: spearman<br>Observations: 279608",
           "<b>UpW vs day_of_week_cos</b><br>Correlation: 0.001<br>P-value: 0.6863 <br>Significance: ✗ (p < 0.01)<br>Method: spearman<br>Observations: 279608",
           "<b>UpW vs returns</b><br>Correlation: 0.036<br>P-value: 0.0000 ***<br>Significance: ✓ (p < 0.01)<br>Method: spearman<br>Observations: 279608",
           "<b>UpW vs BBP</b><br>Correlation: 0.059<br>P-value: 0.0000 ***<br>Significance: ✓ (p < 0.01)<br>Method: spearman<br>Observations: 279608",
           "<b>UpW vs MACD</b><br>Correlation: 0.053<br>P-value: 0.0000 ***<br>Significance: ✓ (p < 0.01)<br>Method: spearman<br>Observations: 279608",
           "<b>UpW vs MACD_Signal</b><br>Correlation: 0.027<br>P-value: 0.0000 ***<br>Significance: ✓ (p < 0.01)<br>Method: spearman<br>Observations: 279608",
           "<b>UpW vs ADX</b><br>Correlation: 0.084<br>P-value: 0.0000 ***<br>Significance: ✓ (p < 0.01)<br>Method: spearman<br>Observations: 279608",
           "<b>UpW vs +DI</b><br>Correlation: 0.075<br>P-value: 0.0000 ***<br>Significance: ✓ (p < 0.01)<br>Method: spearman<br>Observations: 279608",
           "<b>UpW vs -DI</b><br>Correlation: -0.070<br>P-value: 0.0000 ***<br>Significance: ✓ (p < 0.01)<br>Method: spearman<br>Observations: 279608",
           "<b>UpW vs BePo</b><br>Correlation: 0.367<br>P-value: 0.0000 ***<br>Significance: ✓ (p < 0.01)<br>Method: spearman<br>Observations: 279608",
           "<b>UpW vs BuPo</b><br>Correlation: -0.202<br>P-value: 0.0000 ***<br>Significance: ✓ (p < 0.01)<br>Method: spearman<br>Observations: 279608",
           "<b>UpW vs MASSI_9_25</b><br>Correlation: 0.063<br>P-value: 0.0000 ***<br>Significance: ✓ (p < 0.01)<br>Method: spearman<br>Observations: 279608",
           "<b>UpW vs VR</b><br>Correlation: -0.182<br>P-value: 0.0000 ***<br>Significance: ✓ (p < 0.01)<br>Method: spearman<br>Observations: 279608",
           "<b>UpW vs BODY</b><br>Correlation: 0.625<br>P-value: 0.0000 ***<br>Significance: ✓ (p < 0.01)<br>Method: spearman<br>Observations: 279608",
           "<b>UpW vs UpW</b><br>Correlation: 1.000<br>P-value: 0.0000 ***<br>Significance: ✗ (p < 0.01)<br>Method: spearman<br>Observations: 279608",
           "<b>UpW vs LowW</b><br>Correlation: 0.560<br>P-value: 0.0000 ***<br>Significance: ✓ (p < 0.01)<br>Method: spearman<br>Observations: 279608",
           "<b>UpW vs RetSkew_14</b><br>Correlation: 0.014<br>P-value: 0.0000 ***<br>Significance: ✓ (p < 0.01)<br>Method: spearman<br>Observations: 279608",
           "<b>UpW vs RetKurt_14</b><br>Correlation: 0.078<br>P-value: 0.0000 ***<br>Significance: ✓ (p < 0.01)<br>Method: spearman<br>Observations: 279608",
           "<b>UpW vs RetMean_14</b><br>Correlation: 0.051<br>P-value: 0.0000 ***<br>Significance: ✓ (p < 0.01)<br>Method: spearman<br>Observations: 279608",
           "<b>UpW vs returns_lag1</b><br>Correlation: 0.007<br>P-value: 0.0001 ***<br>Significance: ✓ (p < 0.01)<br>Method: spearman<br>Observations: 279608",
           "<b>UpW vs returns_lag2</b><br>Correlation: 0.005<br>P-value: 0.0163 *<br>Significance: ✗ (p < 0.01)<br>Method: spearman<br>Observations: 279608",
           "<b>UpW vs returns_lag3</b><br>Correlation: 0.010<br>P-value: 0.0000 ***<br>Significance: ✓ (p < 0.01)<br>Method: spearman<br>Observations: 279608",
           "<b>UpW vs returns_lag4</b><br>Correlation: 0.014<br>P-value: 0.0000 ***<br>Significance: ✓ (p < 0.01)<br>Method: spearman<br>Observations: 279608",
           "<b>UpW vs returns_lag5</b><br>Correlation: 0.010<br>P-value: 0.0000 ***<br>Significance: ✓ (p < 0.01)<br>Method: spearman<br>Observations: 279608"
          ],
          [
           "<b>LowW vs ticker</b><br>Correlation: -0.424<br>P-value: 0.0000 ***<br>Significance: ✓ (p < 0.01)<br>Method: spearman<br>Observations: 279608",
           "<b>LowW vs target</b><br>Correlation: -0.007<br>P-value: 0.0002 ***<br>Significance: ✓ (p < 0.01)<br>Method: spearman<br>Observations: 279608",
           "<b>LowW vs direction</b><br>Correlation: -0.005<br>P-value: 0.0101 *<br>Significance: ✗ (p < 0.01)<br>Method: spearman<br>Observations: 279608",
           "<b>LowW vs day_of_week_sin</b><br>Correlation: 0.041<br>P-value: 0.0000 ***<br>Significance: ✓ (p < 0.01)<br>Method: spearman<br>Observations: 279608",
           "<b>LowW vs day_of_week_cos</b><br>Correlation: 0.004<br>P-value: 0.0235 *<br>Significance: ✗ (p < 0.01)<br>Method: spearman<br>Observations: 279608",
           "<b>LowW vs returns</b><br>Correlation: -0.047<br>P-value: 0.0000 ***<br>Significance: ✓ (p < 0.01)<br>Method: spearman<br>Observations: 279608",
           "<b>LowW vs BBP</b><br>Correlation: -0.043<br>P-value: 0.0000 ***<br>Significance: ✓ (p < 0.01)<br>Method: spearman<br>Observations: 279608",
           "<b>LowW vs MACD</b><br>Correlation: -0.015<br>P-value: 0.0000 ***<br>Significance: ✓ (p < 0.01)<br>Method: spearman<br>Observations: 279608",
           "<b>LowW vs MACD_Signal</b><br>Correlation: -0.023<br>P-value: 0.0000 ***<br>Significance: ✓ (p < 0.01)<br>Method: spearman<br>Observations: 279608",
           "<b>LowW vs ADX</b><br>Correlation: 0.079<br>P-value: 0.0000 ***<br>Significance: ✓ (p < 0.01)<br>Method: spearman<br>Observations: 279608",
           "<b>LowW vs +DI</b><br>Correlation: -0.063<br>P-value: 0.0000 ***<br>Significance: ✓ (p < 0.01)<br>Method: spearman<br>Observations: 279608",
           "<b>LowW vs -DI</b><br>Correlation: 0.064<br>P-value: 0.0000 ***<br>Significance: ✓ (p < 0.01)<br>Method: spearman<br>Observations: 279608",
           "<b>LowW vs BePo</b><br>Correlation: 0.233<br>P-value: 0.0000 ***<br>Significance: ✓ (p < 0.01)<br>Method: spearman<br>Observations: 279608",
           "<b>LowW vs BuPo</b><br>Correlation: -0.365<br>P-value: 0.0000 ***<br>Significance: ✓ (p < 0.01)<br>Method: spearman<br>Observations: 279608",
           "<b>LowW vs MASSI_9_25</b><br>Correlation: 0.052<br>P-value: 0.0000 ***<br>Significance: ✓ (p < 0.01)<br>Method: spearman<br>Observations: 279608",
           "<b>LowW vs VR</b><br>Correlation: -0.202<br>P-value: 0.0000 ***<br>Significance: ✓ (p < 0.01)<br>Method: spearman<br>Observations: 279608",
           "<b>LowW vs BODY</b><br>Correlation: 0.656<br>P-value: 0.0000 ***<br>Significance: ✓ (p < 0.01)<br>Method: spearman<br>Observations: 279608",
           "<b>LowW vs UpW</b><br>Correlation: 0.560<br>P-value: 0.0000 ***<br>Significance: ✓ (p < 0.01)<br>Method: spearman<br>Observations: 279608",
           "<b>LowW vs LowW</b><br>Correlation: 1.000<br>P-value: 0.0000 ***<br>Significance: ✗ (p < 0.01)<br>Method: spearman<br>Observations: 279608",
           "<b>LowW vs RetSkew_14</b><br>Correlation: -0.026<br>P-value: 0.0000 ***<br>Significance: ✓ (p < 0.01)<br>Method: spearman<br>Observations: 279608",
           "<b>LowW vs RetKurt_14</b><br>Correlation: 0.075<br>P-value: 0.0000 ***<br>Significance: ✓ (p < 0.01)<br>Method: spearman<br>Observations: 279608",
           "<b>LowW vs RetMean_14</b><br>Correlation: -0.026<br>P-value: 0.0000 ***<br>Significance: ✓ (p < 0.01)<br>Method: spearman<br>Observations: 279608",
           "<b>LowW vs returns_lag1</b><br>Correlation: -0.016<br>P-value: 0.0000 ***<br>Significance: ✓ (p < 0.01)<br>Method: spearman<br>Observations: 279608",
           "<b>LowW vs returns_lag2</b><br>Correlation: 0.003<br>P-value: 0.0721 <br>Significance: ✗ (p < 0.01)<br>Method: spearman<br>Observations: 279608",
           "<b>LowW vs returns_lag3</b><br>Correlation: 0.002<br>P-value: 0.1960 <br>Significance: ✗ (p < 0.01)<br>Method: spearman<br>Observations: 279608",
           "<b>LowW vs returns_lag4</b><br>Correlation: -0.002<br>P-value: 0.2055 <br>Significance: ✗ (p < 0.01)<br>Method: spearman<br>Observations: 279608",
           "<b>LowW vs returns_lag5</b><br>Correlation: 0.000<br>P-value: 0.9678 <br>Significance: ✗ (p < 0.01)<br>Method: spearman<br>Observations: 279608"
          ],
          [
           "<b>RetSkew_14 vs ticker</b><br>Correlation: 0.025<br>P-value: 0.0000 ***<br>Significance: ✓ (p < 0.01)<br>Method: spearman<br>Observations: 279608",
           "<b>RetSkew_14 vs target</b><br>Correlation: -0.010<br>P-value: 0.0000 ***<br>Significance: ✓ (p < 0.01)<br>Method: spearman<br>Observations: 279608",
           "<b>RetSkew_14 vs direction</b><br>Correlation: -0.012<br>P-value: 0.0000 ***<br>Significance: ✓ (p < 0.01)<br>Method: spearman<br>Observations: 279608",
           "<b>RetSkew_14 vs day_of_week_sin</b><br>Correlation: 0.010<br>P-value: 0.0000 ***<br>Significance: ✓ (p < 0.01)<br>Method: spearman<br>Observations: 279608",
           "<b>RetSkew_14 vs day_of_week_cos</b><br>Correlation: -0.017<br>P-value: 0.0000 ***<br>Significance: ✓ (p < 0.01)<br>Method: spearman<br>Observations: 279608",
           "<b>RetSkew_14 vs returns</b><br>Correlation: -0.016<br>P-value: 0.0000 ***<br>Significance: ✓ (p < 0.01)<br>Method: spearman<br>Observations: 279608",
           "<b>RetSkew_14 vs BBP</b><br>Correlation: 0.182<br>P-value: 0.0000 ***<br>Significance: ✓ (p < 0.01)<br>Method: spearman<br>Observations: 279608",
           "<b>RetSkew_14 vs MACD</b><br>Correlation: 0.228<br>P-value: 0.0000 ***<br>Significance: ✓ (p < 0.01)<br>Method: spearman<br>Observations: 279608",
           "<b>RetSkew_14 vs MACD_Signal</b><br>Correlation: 0.174<br>P-value: 0.0000 ***<br>Significance: ✓ (p < 0.01)<br>Method: spearman<br>Observations: 279608",
           "<b>RetSkew_14 vs ADX</b><br>Correlation: -0.014<br>P-value: 0.0000 ***<br>Significance: ✓ (p < 0.01)<br>Method: spearman<br>Observations: 279608",
           "<b>RetSkew_14 vs +DI</b><br>Correlation: 0.275<br>P-value: 0.0000 ***<br>Significance: ✓ (p < 0.01)<br>Method: spearman<br>Observations: 279608",
           "<b>RetSkew_14 vs -DI</b><br>Correlation: -0.283<br>P-value: 0.0000 ***<br>Significance: ✓ (p < 0.01)<br>Method: spearman<br>Observations: 279608",
           "<b>RetSkew_14 vs BePo</b><br>Correlation: 0.161<br>P-value: 0.0000 ***<br>Significance: ✓ (p < 0.01)<br>Method: spearman<br>Observations: 279608",
           "<b>RetSkew_14 vs BuPo</b><br>Correlation: 0.175<br>P-value: 0.0000 ***<br>Significance: ✓ (p < 0.01)<br>Method: spearman<br>Observations: 279608",
           "<b>RetSkew_14 vs MASSI_9_25</b><br>Correlation: -0.007<br>P-value: 0.0001 ***<br>Significance: ✓ (p < 0.01)<br>Method: spearman<br>Observations: 279608",
           "<b>RetSkew_14 vs VR</b><br>Correlation: 0.028<br>P-value: 0.0000 ***<br>Significance: ✓ (p < 0.01)<br>Method: spearman<br>Observations: 279608",
           "<b>RetSkew_14 vs BODY</b><br>Correlation: -0.010<br>P-value: 0.0000 ***<br>Significance: ✓ (p < 0.01)<br>Method: spearman<br>Observations: 279608",
           "<b>RetSkew_14 vs UpW</b><br>Correlation: 0.014<br>P-value: 0.0000 ***<br>Significance: ✓ (p < 0.01)<br>Method: spearman<br>Observations: 279608",
           "<b>RetSkew_14 vs LowW</b><br>Correlation: -0.026<br>P-value: 0.0000 ***<br>Significance: ✓ (p < 0.01)<br>Method: spearman<br>Observations: 279608",
           "<b>RetSkew_14 vs RetSkew_14</b><br>Correlation: 1.000<br>P-value: 0.0000 ***<br>Significance: ✗ (p < 0.01)<br>Method: spearman<br>Observations: 279608",
           "<b>RetSkew_14 vs RetKurt_14</b><br>Correlation: -0.016<br>P-value: 0.0000 ***<br>Significance: ✓ (p < 0.01)<br>Method: spearman<br>Observations: 279608",
           "<b>RetSkew_14 vs RetMean_14</b><br>Correlation: 0.263<br>P-value: 0.0000 ***<br>Significance: ✓ (p < 0.01)<br>Method: spearman<br>Observations: 279608",
           "<b>RetSkew_14 vs returns_lag1</b><br>Correlation: -0.013<br>P-value: 0.0000 ***<br>Significance: ✓ (p < 0.01)<br>Method: spearman<br>Observations: 279608",
           "<b>RetSkew_14 vs returns_lag2</b><br>Correlation: -0.013<br>P-value: 0.0000 ***<br>Significance: ✓ (p < 0.01)<br>Method: spearman<br>Observations: 279608",
           "<b>RetSkew_14 vs returns_lag3</b><br>Correlation: -0.012<br>P-value: 0.0000 ***<br>Significance: ✓ (p < 0.01)<br>Method: spearman<br>Observations: 279608",
           "<b>RetSkew_14 vs returns_lag4</b><br>Correlation: -0.012<br>P-value: 0.0000 ***<br>Significance: ✓ (p < 0.01)<br>Method: spearman<br>Observations: 279608",
           "<b>RetSkew_14 vs returns_lag5</b><br>Correlation: -0.012<br>P-value: 0.0000 ***<br>Significance: ✓ (p < 0.01)<br>Method: spearman<br>Observations: 279608"
          ],
          [
           "<b>RetKurt_14 vs ticker</b><br>Correlation: -0.041<br>P-value: 0.0000 ***<br>Significance: ✓ (p < 0.01)<br>Method: spearman<br>Observations: 279608",
           "<b>RetKurt_14 vs target</b><br>Correlation: 0.005<br>P-value: 0.0043 **<br>Significance: ✓ (p < 0.01)<br>Method: spearman<br>Observations: 279608",
           "<b>RetKurt_14 vs direction</b><br>Correlation: 0.004<br>P-value: 0.0352 *<br>Significance: ✗ (p < 0.01)<br>Method: spearman<br>Observations: 279608",
           "<b>RetKurt_14 vs day_of_week_sin</b><br>Correlation: -0.002<br>P-value: 0.4135 <br>Significance: ✗ (p < 0.01)<br>Method: spearman<br>Observations: 279608",
           "<b>RetKurt_14 vs day_of_week_cos</b><br>Correlation: 0.039<br>P-value: 0.0000 ***<br>Significance: ✓ (p < 0.01)<br>Method: spearman<br>Observations: 279608",
           "<b>RetKurt_14 vs returns</b><br>Correlation: 0.006<br>P-value: 0.0015 **<br>Significance: ✓ (p < 0.01)<br>Method: spearman<br>Observations: 279608",
           "<b>RetKurt_14 vs BBP</b><br>Correlation: 0.013<br>P-value: 0.0000 ***<br>Significance: ✓ (p < 0.01)<br>Method: spearman<br>Observations: 279608",
           "<b>RetKurt_14 vs MACD</b><br>Correlation: 0.016<br>P-value: 0.0000 ***<br>Significance: ✓ (p < 0.01)<br>Method: spearman<br>Observations: 279608",
           "<b>RetKurt_14 vs MACD_Signal</b><br>Correlation: 0.004<br>P-value: 0.0209 *<br>Significance: ✗ (p < 0.01)<br>Method: spearman<br>Observations: 279608",
           "<b>RetKurt_14 vs ADX</b><br>Correlation: 0.117<br>P-value: 0.0000 ***<br>Significance: ✓ (p < 0.01)<br>Method: spearman<br>Observations: 279608",
           "<b>RetKurt_14 vs +DI</b><br>Correlation: 0.059<br>P-value: 0.0000 ***<br>Significance: ✓ (p < 0.01)<br>Method: spearman<br>Observations: 279608",
           "<b>RetKurt_14 vs -DI</b><br>Correlation: 0.029<br>P-value: 0.0000 ***<br>Significance: ✓ (p < 0.01)<br>Method: spearman<br>Observations: 279608",
           "<b>RetKurt_14 vs BePo</b><br>Correlation: 0.020<br>P-value: 0.0000 ***<br>Significance: ✓ (p < 0.01)<br>Method: spearman<br>Observations: 279608",
           "<b>RetKurt_14 vs BuPo</b><br>Correlation: 0.006<br>P-value: 0.0020 **<br>Significance: ✓ (p < 0.01)<br>Method: spearman<br>Observations: 279608",
           "<b>RetKurt_14 vs MASSI_9_25</b><br>Correlation: 0.170<br>P-value: 0.0000 ***<br>Significance: ✓ (p < 0.01)<br>Method: spearman<br>Observations: 279608",
           "<b>RetKurt_14 vs VR</b><br>Correlation: 0.037<br>P-value: 0.0000 ***<br>Significance: ✓ (p < 0.01)<br>Method: spearman<br>Observations: 279608",
           "<b>RetKurt_14 vs BODY</b><br>Correlation: 0.052<br>P-value: 0.0000 ***<br>Significance: ✓ (p < 0.01)<br>Method: spearman<br>Observations: 279608",
           "<b>RetKurt_14 vs UpW</b><br>Correlation: 0.078<br>P-value: 0.0000 ***<br>Significance: ✓ (p < 0.01)<br>Method: spearman<br>Observations: 279608",
           "<b>RetKurt_14 vs LowW</b><br>Correlation: 0.075<br>P-value: 0.0000 ***<br>Significance: ✓ (p < 0.01)<br>Method: spearman<br>Observations: 279608",
           "<b>RetKurt_14 vs RetSkew_14</b><br>Correlation: -0.016<br>P-value: 0.0000 ***<br>Significance: ✓ (p < 0.01)<br>Method: spearman<br>Observations: 279608",
           "<b>RetKurt_14 vs RetKurt_14</b><br>Correlation: 1.000<br>P-value: 0.0000 ***<br>Significance: ✗ (p < 0.01)<br>Method: spearman<br>Observations: 279608",
           "<b>RetKurt_14 vs RetMean_14</b><br>Correlation: 0.010<br>P-value: 0.0000 ***<br>Significance: ✓ (p < 0.01)<br>Method: spearman<br>Observations: 279608",
           "<b>RetKurt_14 vs returns_lag1</b><br>Correlation: 0.007<br>P-value: 0.0002 ***<br>Significance: ✓ (p < 0.01)<br>Method: spearman<br>Observations: 279608",
           "<b>RetKurt_14 vs returns_lag2</b><br>Correlation: 0.008<br>P-value: 0.0000 ***<br>Significance: ✓ (p < 0.01)<br>Method: spearman<br>Observations: 279608",
           "<b>RetKurt_14 vs returns_lag3</b><br>Correlation: 0.009<br>P-value: 0.0000 ***<br>Significance: ✓ (p < 0.01)<br>Method: spearman<br>Observations: 279608",
           "<b>RetKurt_14 vs returns_lag4</b><br>Correlation: 0.007<br>P-value: 0.0003 ***<br>Significance: ✓ (p < 0.01)<br>Method: spearman<br>Observations: 279608",
           "<b>RetKurt_14 vs returns_lag5</b><br>Correlation: 0.004<br>P-value: 0.0270 *<br>Significance: ✗ (p < 0.01)<br>Method: spearman<br>Observations: 279608"
          ],
          [
           "<b>RetMean_14 vs ticker</b><br>Correlation: -0.006<br>P-value: 0.0017 **<br>Significance: ✓ (p < 0.01)<br>Method: spearman<br>Observations: 279608",
           "<b>RetMean_14 vs target</b><br>Correlation: -0.029<br>P-value: 0.0000 ***<br>Significance: ✓ (p < 0.01)<br>Method: spearman<br>Observations: 279608",
           "<b>RetMean_14 vs direction</b><br>Correlation: -0.042<br>P-value: 0.0000 ***<br>Significance: ✓ (p < 0.01)<br>Method: spearman<br>Observations: 279608",
           "<b>RetMean_14 vs day_of_week_sin</b><br>Correlation: -0.006<br>P-value: 0.0020 **<br>Significance: ✓ (p < 0.01)<br>Method: spearman<br>Observations: 279608",
           "<b>RetMean_14 vs day_of_week_cos</b><br>Correlation: -0.016<br>P-value: 0.0000 ***<br>Significance: ✓ (p < 0.01)<br>Method: spearman<br>Observations: 279608",
           "<b>RetMean_14 vs returns</b><br>Correlation: 0.152<br>P-value: 0.0000 ***<br>Significance: ✓ (p < 0.01)<br>Method: spearman<br>Observations: 279608",
           "<b>RetMean_14 vs BBP</b><br>Correlation: 0.639<br>P-value: 0.0000 ***<br>Significance: ✓ (p < 0.01)<br>Method: spearman<br>Observations: 279608",
           "<b>RetMean_14 vs MACD</b><br>Correlation: 0.562<br>P-value: 0.0000 ***<br>Significance: ✓ (p < 0.01)<br>Method: spearman<br>Observations: 279608",
           "<b>RetMean_14 vs MACD_Signal</b><br>Correlation: 0.613<br>P-value: 0.0000 ***<br>Significance: ✓ (p < 0.01)<br>Method: spearman<br>Observations: 279608",
           "<b>RetMean_14 vs ADX</b><br>Correlation: -0.016<br>P-value: 0.0000 ***<br>Significance: ✓ (p < 0.01)<br>Method: spearman<br>Observations: 279608",
           "<b>RetMean_14 vs +DI</b><br>Correlation: 0.570<br>P-value: 0.0000 ***<br>Significance: ✓ (p < 0.01)<br>Method: spearman<br>Observations: 279608",
           "<b>RetMean_14 vs -DI</b><br>Correlation: -0.564<br>P-value: 0.0000 ***<br>Significance: ✓ (p < 0.01)<br>Method: spearman<br>Observations: 279608",
           "<b>RetMean_14 vs BePo</b><br>Correlation: 0.585<br>P-value: 0.0000 ***<br>Significance: ✓ (p < 0.01)<br>Method: spearman<br>Observations: 279608",
           "<b>RetMean_14 vs BuPo</b><br>Correlation: 0.572<br>P-value: 0.0000 ***<br>Significance: ✓ (p < 0.01)<br>Method: spearman<br>Observations: 279608",
           "<b>RetMean_14 vs MASSI_9_25</b><br>Correlation: -0.012<br>P-value: 0.0000 ***<br>Significance: ✓ (p < 0.01)<br>Method: spearman<br>Observations: 279608",
           "<b>RetMean_14 vs VR</b><br>Correlation: -0.007<br>P-value: 0.0001 ***<br>Significance: ✓ (p < 0.01)<br>Method: spearman<br>Observations: 279608",
           "<b>RetMean_14 vs BODY</b><br>Correlation: 0.014<br>P-value: 0.0000 ***<br>Significance: ✓ (p < 0.01)<br>Method: spearman<br>Observations: 279608",
           "<b>RetMean_14 vs UpW</b><br>Correlation: 0.051<br>P-value: 0.0000 ***<br>Significance: ✓ (p < 0.01)<br>Method: spearman<br>Observations: 279608",
           "<b>RetMean_14 vs LowW</b><br>Correlation: -0.026<br>P-value: 0.0000 ***<br>Significance: ✓ (p < 0.01)<br>Method: spearman<br>Observations: 279608",
           "<b>RetMean_14 vs RetSkew_14</b><br>Correlation: 0.263<br>P-value: 0.0000 ***<br>Significance: ✓ (p < 0.01)<br>Method: spearman<br>Observations: 279608",
           "<b>RetMean_14 vs RetKurt_14</b><br>Correlation: 0.010<br>P-value: 0.0000 ***<br>Significance: ✓ (p < 0.01)<br>Method: spearman<br>Observations: 279608",
           "<b>RetMean_14 vs RetMean_14</b><br>Correlation: 1.000<br>P-value: 0.0000 ***<br>Significance: ✗ (p < 0.01)<br>Method: spearman<br>Observations: 279608",
           "<b>RetMean_14 vs returns_lag1</b><br>Correlation: 0.146<br>P-value: 0.0000 ***<br>Significance: ✓ (p < 0.01)<br>Method: spearman<br>Observations: 279608",
           "<b>RetMean_14 vs returns_lag2</b><br>Correlation: 0.139<br>P-value: 0.0000 ***<br>Significance: ✓ (p < 0.01)<br>Method: spearman<br>Observations: 279608",
           "<b>RetMean_14 vs returns_lag3</b><br>Correlation: 0.140<br>P-value: 0.0000 ***<br>Significance: ✓ (p < 0.01)<br>Method: spearman<br>Observations: 279608",
           "<b>RetMean_14 vs returns_lag4</b><br>Correlation: 0.142<br>P-value: 0.0000 ***<br>Significance: ✓ (p < 0.01)<br>Method: spearman<br>Observations: 279608",
           "<b>RetMean_14 vs returns_lag5</b><br>Correlation: 0.137<br>P-value: 0.0000 ***<br>Significance: ✓ (p < 0.01)<br>Method: spearman<br>Observations: 279608"
          ],
          [
           "<b>returns_lag1 vs ticker</b><br>Correlation: -0.004<br>P-value: 0.0361 *<br>Significance: ✗ (p < 0.01)<br>Method: spearman<br>Observations: 279608",
           "<b>returns_lag1 vs target</b><br>Correlation: -0.048<br>P-value: 0.0000 ***<br>Significance: ✓ (p < 0.01)<br>Method: spearman<br>Observations: 279608",
           "<b>returns_lag1 vs direction</b><br>Correlation: -0.044<br>P-value: 0.0000 ***<br>Significance: ✓ (p < 0.01)<br>Method: spearman<br>Observations: 279608",
           "<b>returns_lag1 vs day_of_week_sin</b><br>Correlation: -0.001<br>P-value: 0.4578 <br>Significance: ✗ (p < 0.01)<br>Method: spearman<br>Observations: 279608",
           "<b>returns_lag1 vs day_of_week_cos</b><br>Correlation: -0.001<br>P-value: 0.6506 <br>Significance: ✗ (p < 0.01)<br>Method: spearman<br>Observations: 279608",
           "<b>returns_lag1 vs returns</b><br>Correlation: -0.037<br>P-value: 0.0000 ***<br>Significance: ✓ (p < 0.01)<br>Method: spearman<br>Observations: 279608",
           "<b>returns_lag1 vs BBP</b><br>Correlation: 0.367<br>P-value: 0.0000 ***<br>Significance: ✓ (p < 0.01)<br>Method: spearman<br>Observations: 279608",
           "<b>returns_lag1 vs MACD</b><br>Correlation: 0.059<br>P-value: 0.0000 ***<br>Significance: ✓ (p < 0.01)<br>Method: spearman<br>Observations: 279608",
           "<b>returns_lag1 vs MACD_Signal</b><br>Correlation: 0.160<br>P-value: 0.0000 ***<br>Significance: ✓ (p < 0.01)<br>Method: spearman<br>Observations: 279608",
           "<b>returns_lag1 vs ADX</b><br>Correlation: 0.007<br>P-value: 0.0002 ***<br>Significance: ✓ (p < 0.01)<br>Method: spearman<br>Observations: 279608",
           "<b>returns_lag1 vs +DI</b><br>Correlation: 0.217<br>P-value: 0.0000 ***<br>Significance: ✓ (p < 0.01)<br>Method: spearman<br>Observations: 279608",
           "<b>returns_lag1 vs -DI</b><br>Correlation: -0.213<br>P-value: 0.0000 ***<br>Significance: ✓ (p < 0.01)<br>Method: spearman<br>Observations: 279608",
           "<b>returns_lag1 vs BePo</b><br>Correlation: 0.260<br>P-value: 0.0000 ***<br>Significance: ✓ (p < 0.01)<br>Method: spearman<br>Observations: 279608",
           "<b>returns_lag1 vs BuPo</b><br>Correlation: 0.266<br>P-value: 0.0000 ***<br>Significance: ✓ (p < 0.01)<br>Method: spearman<br>Observations: 279608",
           "<b>returns_lag1 vs MASSI_9_25</b><br>Correlation: 0.004<br>P-value: 0.0251 *<br>Significance: ✗ (p < 0.01)<br>Method: spearman<br>Observations: 279608",
           "<b>returns_lag1 vs VR</b><br>Correlation: -0.017<br>P-value: 0.0000 ***<br>Significance: ✓ (p < 0.01)<br>Method: spearman<br>Observations: 279608",
           "<b>returns_lag1 vs BODY</b><br>Correlation: 0.004<br>P-value: 0.0566 <br>Significance: ✗ (p < 0.01)<br>Method: spearman<br>Observations: 279608",
           "<b>returns_lag1 vs UpW</b><br>Correlation: 0.007<br>P-value: 0.0001 ***<br>Significance: ✓ (p < 0.01)<br>Method: spearman<br>Observations: 279608",
           "<b>returns_lag1 vs LowW</b><br>Correlation: -0.016<br>P-value: 0.0000 ***<br>Significance: ✓ (p < 0.01)<br>Method: spearman<br>Observations: 279608",
           "<b>returns_lag1 vs RetSkew_14</b><br>Correlation: -0.013<br>P-value: 0.0000 ***<br>Significance: ✓ (p < 0.01)<br>Method: spearman<br>Observations: 279608",
           "<b>returns_lag1 vs RetKurt_14</b><br>Correlation: 0.007<br>P-value: 0.0002 ***<br>Significance: ✓ (p < 0.01)<br>Method: spearman<br>Observations: 279608",
           "<b>returns_lag1 vs RetMean_14</b><br>Correlation: 0.146<br>P-value: 0.0000 ***<br>Significance: ✓ (p < 0.01)<br>Method: spearman<br>Observations: 279608",
           "<b>returns_lag1 vs returns_lag1</b><br>Correlation: 1.000<br>P-value: 0.0000 ***<br>Significance: ✗ (p < 0.01)<br>Method: spearman<br>Observations: 279608",
           "<b>returns_lag1 vs returns_lag2</b><br>Correlation: -0.037<br>P-value: 0.0000 ***<br>Significance: ✓ (p < 0.01)<br>Method: spearman<br>Observations: 279608",
           "<b>returns_lag1 vs returns_lag3</b><br>Correlation: -0.048<br>P-value: 0.0000 ***<br>Significance: ✓ (p < 0.01)<br>Method: spearman<br>Observations: 279608",
           "<b>returns_lag1 vs returns_lag4</b><br>Correlation: -0.017<br>P-value: 0.0000 ***<br>Significance: ✓ (p < 0.01)<br>Method: spearman<br>Observations: 279608",
           "<b>returns_lag1 vs returns_lag5</b><br>Correlation: -0.001<br>P-value: 0.4638 <br>Significance: ✗ (p < 0.01)<br>Method: spearman<br>Observations: 279608"
          ],
          [
           "<b>returns_lag2 vs ticker</b><br>Correlation: -0.004<br>P-value: 0.0364 *<br>Significance: ✗ (p < 0.01)<br>Method: spearman<br>Observations: 279608",
           "<b>returns_lag2 vs target</b><br>Correlation: -0.017<br>P-value: 0.0000 ***<br>Significance: ✓ (p < 0.01)<br>Method: spearman<br>Observations: 279608",
           "<b>returns_lag2 vs direction</b><br>Correlation: -0.018<br>P-value: 0.0000 ***<br>Significance: ✓ (p < 0.01)<br>Method: spearman<br>Observations: 279608",
           "<b>returns_lag2 vs day_of_week_sin</b><br>Correlation: -0.002<br>P-value: 0.2588 <br>Significance: ✗ (p < 0.01)<br>Method: spearman<br>Observations: 279608",
           "<b>returns_lag2 vs day_of_week_cos</b><br>Correlation: -0.001<br>P-value: 0.6647 <br>Significance: ✗ (p < 0.01)<br>Method: spearman<br>Observations: 279608",
           "<b>returns_lag2 vs returns</b><br>Correlation: -0.048<br>P-value: 0.0000 ***<br>Significance: ✓ (p < 0.01)<br>Method: spearman<br>Observations: 279608",
           "<b>returns_lag2 vs BBP</b><br>Correlation: 0.274<br>P-value: 0.0000 ***<br>Significance: ✓ (p < 0.01)<br>Method: spearman<br>Observations: 279608",
           "<b>returns_lag2 vs MACD</b><br>Correlation: 0.082<br>P-value: 0.0000 ***<br>Significance: ✓ (p < 0.01)<br>Method: spearman<br>Observations: 279608",
           "<b>returns_lag2 vs MACD_Signal</b><br>Correlation: 0.187<br>P-value: 0.0000 ***<br>Significance: ✓ (p < 0.01)<br>Method: spearman<br>Observations: 279608",
           "<b>returns_lag2 vs ADX</b><br>Correlation: 0.007<br>P-value: 0.0006 ***<br>Significance: ✓ (p < 0.01)<br>Method: spearman<br>Observations: 279608",
           "<b>returns_lag2 vs +DI</b><br>Correlation: 0.198<br>P-value: 0.0000 ***<br>Significance: ✓ (p < 0.01)<br>Method: spearman<br>Observations: 279608",
           "<b>returns_lag2 vs -DI</b><br>Correlation: -0.192<br>P-value: 0.0000 ***<br>Significance: ✓ (p < 0.01)<br>Method: spearman<br>Observations: 279608",
           "<b>returns_lag2 vs BePo</b><br>Correlation: 0.214<br>P-value: 0.0000 ***<br>Significance: ✓ (p < 0.01)<br>Method: spearman<br>Observations: 279608",
           "<b>returns_lag2 vs BuPo</b><br>Correlation: 0.213<br>P-value: 0.0000 ***<br>Significance: ✓ (p < 0.01)<br>Method: spearman<br>Observations: 279608",
           "<b>returns_lag2 vs MASSI_9_25</b><br>Correlation: 0.003<br>P-value: 0.1414 <br>Significance: ✗ (p < 0.01)<br>Method: spearman<br>Observations: 279608",
           "<b>returns_lag2 vs VR</b><br>Correlation: -0.004<br>P-value: 0.0337 *<br>Significance: ✗ (p < 0.01)<br>Method: spearman<br>Observations: 279608",
           "<b>returns_lag2 vs BODY</b><br>Correlation: 0.004<br>P-value: 0.0409 *<br>Significance: ✗ (p < 0.01)<br>Method: spearman<br>Observations: 279608",
           "<b>returns_lag2 vs UpW</b><br>Correlation: 0.005<br>P-value: 0.0163 *<br>Significance: ✗ (p < 0.01)<br>Method: spearman<br>Observations: 279608",
           "<b>returns_lag2 vs LowW</b><br>Correlation: 0.003<br>P-value: 0.0721 <br>Significance: ✗ (p < 0.01)<br>Method: spearman<br>Observations: 279608",
           "<b>returns_lag2 vs RetSkew_14</b><br>Correlation: -0.013<br>P-value: 0.0000 ***<br>Significance: ✓ (p < 0.01)<br>Method: spearman<br>Observations: 279608",
           "<b>returns_lag2 vs RetKurt_14</b><br>Correlation: 0.008<br>P-value: 0.0000 ***<br>Significance: ✓ (p < 0.01)<br>Method: spearman<br>Observations: 279608",
           "<b>returns_lag2 vs RetMean_14</b><br>Correlation: 0.139<br>P-value: 0.0000 ***<br>Significance: ✓ (p < 0.01)<br>Method: spearman<br>Observations: 279608",
           "<b>returns_lag2 vs returns_lag1</b><br>Correlation: -0.037<br>P-value: 0.0000 ***<br>Significance: ✓ (p < 0.01)<br>Method: spearman<br>Observations: 279608",
           "<b>returns_lag2 vs returns_lag2</b><br>Correlation: 1.000<br>P-value: 0.0000 ***<br>Significance: ✗ (p < 0.01)<br>Method: spearman<br>Observations: 279608",
           "<b>returns_lag2 vs returns_lag3</b><br>Correlation: -0.037<br>P-value: 0.0000 ***<br>Significance: ✓ (p < 0.01)<br>Method: spearman<br>Observations: 279608",
           "<b>returns_lag2 vs returns_lag4</b><br>Correlation: -0.048<br>P-value: 0.0000 ***<br>Significance: ✓ (p < 0.01)<br>Method: spearman<br>Observations: 279608",
           "<b>returns_lag2 vs returns_lag5</b><br>Correlation: -0.017<br>P-value: 0.0000 ***<br>Significance: ✓ (p < 0.01)<br>Method: spearman<br>Observations: 279608"
          ],
          [
           "<b>returns_lag3 vs ticker</b><br>Correlation: -0.004<br>P-value: 0.0353 *<br>Significance: ✗ (p < 0.01)<br>Method: spearman<br>Observations: 279608",
           "<b>returns_lag3 vs target</b><br>Correlation: -0.001<br>P-value: 0.4722 <br>Significance: ✗ (p < 0.01)<br>Method: spearman<br>Observations: 279608",
           "<b>returns_lag3 vs direction</b><br>Correlation: -0.004<br>P-value: 0.0509 <br>Significance: ✗ (p < 0.01)<br>Method: spearman<br>Observations: 279608",
           "<b>returns_lag3 vs day_of_week_sin</b><br>Correlation: -0.003<br>P-value: 0.1636 <br>Significance: ✗ (p < 0.01)<br>Method: spearman<br>Observations: 279608",
           "<b>returns_lag3 vs day_of_week_cos</b><br>Correlation: -0.002<br>P-value: 0.3432 <br>Significance: ✗ (p < 0.01)<br>Method: spearman<br>Observations: 279608",
           "<b>returns_lag3 vs returns</b><br>Correlation: -0.017<br>P-value: 0.0000 ***<br>Significance: ✓ (p < 0.01)<br>Method: spearman<br>Observations: 279608",
           "<b>returns_lag3 vs BBP</b><br>Correlation: 0.215<br>P-value: 0.0000 ***<br>Significance: ✓ (p < 0.01)<br>Method: spearman<br>Observations: 279608",
           "<b>returns_lag3 vs MACD</b><br>Correlation: 0.099<br>P-value: 0.0000 ***<br>Significance: ✓ (p < 0.01)<br>Method: spearman<br>Observations: 279608",
           "<b>returns_lag3 vs MACD_Signal</b><br>Correlation: 0.193<br>P-value: 0.0000 ***<br>Significance: ✓ (p < 0.01)<br>Method: spearman<br>Observations: 279608",
           "<b>returns_lag3 vs ADX</b><br>Correlation: 0.006<br>P-value: 0.0011 **<br>Significance: ✓ (p < 0.01)<br>Method: spearman<br>Observations: 279608",
           "<b>returns_lag3 vs +DI</b><br>Correlation: 0.183<br>P-value: 0.0000 ***<br>Significance: ✓ (p < 0.01)<br>Method: spearman<br>Observations: 279608",
           "<b>returns_lag3 vs -DI</b><br>Correlation: -0.175<br>P-value: 0.0000 ***<br>Significance: ✓ (p < 0.01)<br>Method: spearman<br>Observations: 279608",
           "<b>returns_lag3 vs BePo</b><br>Correlation: 0.177<br>P-value: 0.0000 ***<br>Significance: ✓ (p < 0.01)<br>Method: spearman<br>Observations: 279608",
           "<b>returns_lag3 vs BuPo</b><br>Correlation: 0.174<br>P-value: 0.0000 ***<br>Significance: ✓ (p < 0.01)<br>Method: spearman<br>Observations: 279608",
           "<b>returns_lag3 vs MASSI_9_25</b><br>Correlation: 0.002<br>P-value: 0.1976 <br>Significance: ✗ (p < 0.01)<br>Method: spearman<br>Observations: 279608",
           "<b>returns_lag3 vs VR</b><br>Correlation: 0.004<br>P-value: 0.0457 *<br>Significance: ✗ (p < 0.01)<br>Method: spearman<br>Observations: 279608",
           "<b>returns_lag3 vs BODY</b><br>Correlation: 0.005<br>P-value: 0.0048 **<br>Significance: ✓ (p < 0.01)<br>Method: spearman<br>Observations: 279608",
           "<b>returns_lag3 vs UpW</b><br>Correlation: 0.010<br>P-value: 0.0000 ***<br>Significance: ✓ (p < 0.01)<br>Method: spearman<br>Observations: 279608",
           "<b>returns_lag3 vs LowW</b><br>Correlation: 0.002<br>P-value: 0.1960 <br>Significance: ✗ (p < 0.01)<br>Method: spearman<br>Observations: 279608",
           "<b>returns_lag3 vs RetSkew_14</b><br>Correlation: -0.012<br>P-value: 0.0000 ***<br>Significance: ✓ (p < 0.01)<br>Method: spearman<br>Observations: 279608",
           "<b>returns_lag3 vs RetKurt_14</b><br>Correlation: 0.009<br>P-value: 0.0000 ***<br>Significance: ✓ (p < 0.01)<br>Method: spearman<br>Observations: 279608",
           "<b>returns_lag3 vs RetMean_14</b><br>Correlation: 0.140<br>P-value: 0.0000 ***<br>Significance: ✓ (p < 0.01)<br>Method: spearman<br>Observations: 279608",
           "<b>returns_lag3 vs returns_lag1</b><br>Correlation: -0.048<br>P-value: 0.0000 ***<br>Significance: ✓ (p < 0.01)<br>Method: spearman<br>Observations: 279608",
           "<b>returns_lag3 vs returns_lag2</b><br>Correlation: -0.037<br>P-value: 0.0000 ***<br>Significance: ✓ (p < 0.01)<br>Method: spearman<br>Observations: 279608",
           "<b>returns_lag3 vs returns_lag3</b><br>Correlation: 1.000<br>P-value: 0.0000 ***<br>Significance: ✗ (p < 0.01)<br>Method: spearman<br>Observations: 279608",
           "<b>returns_lag3 vs returns_lag4</b><br>Correlation: -0.037<br>P-value: 0.0000 ***<br>Significance: ✓ (p < 0.01)<br>Method: spearman<br>Observations: 279608",
           "<b>returns_lag3 vs returns_lag5</b><br>Correlation: -0.048<br>P-value: 0.0000 ***<br>Significance: ✓ (p < 0.01)<br>Method: spearman<br>Observations: 279608"
          ],
          [
           "<b>returns_lag4 vs ticker</b><br>Correlation: -0.004<br>P-value: 0.0361 *<br>Significance: ✗ (p < 0.01)<br>Method: spearman<br>Observations: 279608",
           "<b>returns_lag4 vs target</b><br>Correlation: -0.014<br>P-value: 0.0000 ***<br>Significance: ✓ (p < 0.01)<br>Method: spearman<br>Observations: 279608",
           "<b>returns_lag4 vs direction</b><br>Correlation: -0.016<br>P-value: 0.0000 ***<br>Significance: ✓ (p < 0.01)<br>Method: spearman<br>Observations: 279608",
           "<b>returns_lag4 vs day_of_week_sin</b><br>Correlation: -0.003<br>P-value: 0.1068 <br>Significance: ✗ (p < 0.01)<br>Method: spearman<br>Observations: 279608",
           "<b>returns_lag4 vs day_of_week_cos</b><br>Correlation: -0.002<br>P-value: 0.3568 <br>Significance: ✗ (p < 0.01)<br>Method: spearman<br>Observations: 279608",
           "<b>returns_lag4 vs returns</b><br>Correlation: -0.001<br>P-value: 0.4723 <br>Significance: ✗ (p < 0.01)<br>Method: spearman<br>Observations: 279608",
           "<b>returns_lag4 vs BBP</b><br>Correlation: 0.179<br>P-value: 0.0000 ***<br>Significance: ✓ (p < 0.01)<br>Method: spearman<br>Observations: 279608",
           "<b>returns_lag4 vs MACD</b><br>Correlation: 0.110<br>P-value: 0.0000 ***<br>Significance: ✓ (p < 0.01)<br>Method: spearman<br>Observations: 279608",
           "<b>returns_lag4 vs MACD_Signal</b><br>Correlation: 0.188<br>P-value: 0.0000 ***<br>Significance: ✓ (p < 0.01)<br>Method: spearman<br>Observations: 279608",
           "<b>returns_lag4 vs ADX</b><br>Correlation: 0.005<br>P-value: 0.0049 **<br>Significance: ✓ (p < 0.01)<br>Method: spearman<br>Observations: 279608",
           "<b>returns_lag4 vs +DI</b><br>Correlation: 0.173<br>P-value: 0.0000 ***<br>Significance: ✓ (p < 0.01)<br>Method: spearman<br>Observations: 279608",
           "<b>returns_lag4 vs -DI</b><br>Correlation: -0.166<br>P-value: 0.0000 ***<br>Significance: ✓ (p < 0.01)<br>Method: spearman<br>Observations: 279608",
           "<b>returns_lag4 vs BePo</b><br>Correlation: 0.153<br>P-value: 0.0000 ***<br>Significance: ✓ (p < 0.01)<br>Method: spearman<br>Observations: 279608",
           "<b>returns_lag4 vs BuPo</b><br>Correlation: 0.150<br>P-value: 0.0000 ***<br>Significance: ✓ (p < 0.01)<br>Method: spearman<br>Observations: 279608",
           "<b>returns_lag4 vs MASSI_9_25</b><br>Correlation: 0.002<br>P-value: 0.2900 <br>Significance: ✗ (p < 0.01)<br>Method: spearman<br>Observations: 279608",
           "<b>returns_lag4 vs VR</b><br>Correlation: 0.003<br>P-value: 0.0857 <br>Significance: ✗ (p < 0.01)<br>Method: spearman<br>Observations: 279608",
           "<b>returns_lag4 vs BODY</b><br>Correlation: 0.005<br>P-value: 0.0096 **<br>Significance: ✓ (p < 0.01)<br>Method: spearman<br>Observations: 279608",
           "<b>returns_lag4 vs UpW</b><br>Correlation: 0.014<br>P-value: 0.0000 ***<br>Significance: ✓ (p < 0.01)<br>Method: spearman<br>Observations: 279608",
           "<b>returns_lag4 vs LowW</b><br>Correlation: -0.002<br>P-value: 0.2055 <br>Significance: ✗ (p < 0.01)<br>Method: spearman<br>Observations: 279608",
           "<b>returns_lag4 vs RetSkew_14</b><br>Correlation: -0.012<br>P-value: 0.0000 ***<br>Significance: ✓ (p < 0.01)<br>Method: spearman<br>Observations: 279608",
           "<b>returns_lag4 vs RetKurt_14</b><br>Correlation: 0.007<br>P-value: 0.0003 ***<br>Significance: ✓ (p < 0.01)<br>Method: spearman<br>Observations: 279608",
           "<b>returns_lag4 vs RetMean_14</b><br>Correlation: 0.142<br>P-value: 0.0000 ***<br>Significance: ✓ (p < 0.01)<br>Method: spearman<br>Observations: 279608",
           "<b>returns_lag4 vs returns_lag1</b><br>Correlation: -0.017<br>P-value: 0.0000 ***<br>Significance: ✓ (p < 0.01)<br>Method: spearman<br>Observations: 279608",
           "<b>returns_lag4 vs returns_lag2</b><br>Correlation: -0.048<br>P-value: 0.0000 ***<br>Significance: ✓ (p < 0.01)<br>Method: spearman<br>Observations: 279608",
           "<b>returns_lag4 vs returns_lag3</b><br>Correlation: -0.037<br>P-value: 0.0000 ***<br>Significance: ✓ (p < 0.01)<br>Method: spearman<br>Observations: 279608",
           "<b>returns_lag4 vs returns_lag4</b><br>Correlation: 1.000<br>P-value: 0.0000 ***<br>Significance: ✗ (p < 0.01)<br>Method: spearman<br>Observations: 279608",
           "<b>returns_lag4 vs returns_lag5</b><br>Correlation: -0.037<br>P-value: 0.0000 ***<br>Significance: ✓ (p < 0.01)<br>Method: spearman<br>Observations: 279608"
          ],
          [
           "<b>returns_lag5 vs ticker</b><br>Correlation: -0.004<br>P-value: 0.0366 *<br>Significance: ✗ (p < 0.01)<br>Method: spearman<br>Observations: 279608",
           "<b>returns_lag5 vs target</b><br>Correlation: -0.004<br>P-value: 0.0248 *<br>Significance: ✗ (p < 0.01)<br>Method: spearman<br>Observations: 279608",
           "<b>returns_lag5 vs direction</b><br>Correlation: -0.004<br>P-value: 0.0547 <br>Significance: ✗ (p < 0.01)<br>Method: spearman<br>Observations: 279608",
           "<b>returns_lag5 vs day_of_week_sin</b><br>Correlation: -0.002<br>P-value: 0.1873 <br>Significance: ✗ (p < 0.01)<br>Method: spearman<br>Observations: 279608",
           "<b>returns_lag5 vs day_of_week_cos</b><br>Correlation: -0.002<br>P-value: 0.3198 <br>Significance: ✗ (p < 0.01)<br>Method: spearman<br>Observations: 279608",
           "<b>returns_lag5 vs returns</b><br>Correlation: -0.014<br>P-value: 0.0000 ***<br>Significance: ✓ (p < 0.01)<br>Method: spearman<br>Observations: 279608",
           "<b>returns_lag5 vs BBP</b><br>Correlation: 0.140<br>P-value: 0.0000 ***<br>Significance: ✓ (p < 0.01)<br>Method: spearman<br>Observations: 279608",
           "<b>returns_lag5 vs MACD</b><br>Correlation: 0.116<br>P-value: 0.0000 ***<br>Significance: ✓ (p < 0.01)<br>Method: spearman<br>Observations: 279608",
           "<b>returns_lag5 vs MACD_Signal</b><br>Correlation: 0.174<br>P-value: 0.0000 ***<br>Significance: ✓ (p < 0.01)<br>Method: spearman<br>Observations: 279608",
           "<b>returns_lag5 vs ADX</b><br>Correlation: 0.004<br>P-value: 0.0377 *<br>Significance: ✗ (p < 0.01)<br>Method: spearman<br>Observations: 279608",
           "<b>returns_lag5 vs +DI</b><br>Correlation: 0.161<br>P-value: 0.0000 ***<br>Significance: ✓ (p < 0.01)<br>Method: spearman<br>Observations: 279608",
           "<b>returns_lag5 vs -DI</b><br>Correlation: -0.156<br>P-value: 0.0000 ***<br>Significance: ✓ (p < 0.01)<br>Method: spearman<br>Observations: 279608",
           "<b>returns_lag5 vs BePo</b><br>Correlation: 0.134<br>P-value: 0.0000 ***<br>Significance: ✓ (p < 0.01)<br>Method: spearman<br>Observations: 279608",
           "<b>returns_lag5 vs BuPo</b><br>Correlation: 0.129<br>P-value: 0.0000 ***<br>Significance: ✓ (p < 0.01)<br>Method: spearman<br>Observations: 279608",
           "<b>returns_lag5 vs MASSI_9_25</b><br>Correlation: 0.002<br>P-value: 0.3606 <br>Significance: ✗ (p < 0.01)<br>Method: spearman<br>Observations: 279608",
           "<b>returns_lag5 vs VR</b><br>Correlation: 0.002<br>P-value: 0.2459 <br>Significance: ✗ (p < 0.01)<br>Method: spearman<br>Observations: 279608",
           "<b>returns_lag5 vs BODY</b><br>Correlation: 0.005<br>P-value: 0.0070 **<br>Significance: ✓ (p < 0.01)<br>Method: spearman<br>Observations: 279608",
           "<b>returns_lag5 vs UpW</b><br>Correlation: 0.010<br>P-value: 0.0000 ***<br>Significance: ✓ (p < 0.01)<br>Method: spearman<br>Observations: 279608",
           "<b>returns_lag5 vs LowW</b><br>Correlation: 0.000<br>P-value: 0.9678 <br>Significance: ✗ (p < 0.01)<br>Method: spearman<br>Observations: 279608",
           "<b>returns_lag5 vs RetSkew_14</b><br>Correlation: -0.012<br>P-value: 0.0000 ***<br>Significance: ✓ (p < 0.01)<br>Method: spearman<br>Observations: 279608",
           "<b>returns_lag5 vs RetKurt_14</b><br>Correlation: 0.004<br>P-value: 0.0270 *<br>Significance: ✗ (p < 0.01)<br>Method: spearman<br>Observations: 279608",
           "<b>returns_lag5 vs RetMean_14</b><br>Correlation: 0.137<br>P-value: 0.0000 ***<br>Significance: ✓ (p < 0.01)<br>Method: spearman<br>Observations: 279608",
           "<b>returns_lag5 vs returns_lag1</b><br>Correlation: -0.001<br>P-value: 0.4638 <br>Significance: ✗ (p < 0.01)<br>Method: spearman<br>Observations: 279608",
           "<b>returns_lag5 vs returns_lag2</b><br>Correlation: -0.017<br>P-value: 0.0000 ***<br>Significance: ✓ (p < 0.01)<br>Method: spearman<br>Observations: 279608",
           "<b>returns_lag5 vs returns_lag3</b><br>Correlation: -0.048<br>P-value: 0.0000 ***<br>Significance: ✓ (p < 0.01)<br>Method: spearman<br>Observations: 279608",
           "<b>returns_lag5 vs returns_lag4</b><br>Correlation: -0.037<br>P-value: 0.0000 ***<br>Significance: ✓ (p < 0.01)<br>Method: spearman<br>Observations: 279608",
           "<b>returns_lag5 vs returns_lag5</b><br>Correlation: 1.000<br>P-value: 0.0000 ***<br>Significance: ✗ (p < 0.01)<br>Method: spearman<br>Observations: 279608"
          ]
         ],
         "hoverinfo": "text",
         "hovertemplate": "%{customdata}<extra></extra>",
         "type": "heatmap",
         "x": [
          "ticker",
          "target",
          "direction",
          "day_of_week_sin",
          "day_of_week_cos",
          "returns",
          "BBP",
          "MACD",
          "MACD_Signal",
          "ADX",
          "+DI",
          "-DI",
          "BePo",
          "BuPo",
          "MASSI_9_25",
          "VR",
          "BODY",
          "UpW",
          "LowW",
          "RetSkew_14",
          "RetKurt_14",
          "RetMean_14",
          "returns_lag1",
          "returns_lag2",
          "returns_lag3",
          "returns_lag4",
          "returns_lag5"
         ],
         "y": [
          "ticker",
          "target",
          "direction",
          "day_of_week_sin",
          "day_of_week_cos",
          "returns",
          "BBP",
          "MACD",
          "MACD_Signal",
          "ADX",
          "+DI",
          "-DI",
          "BePo",
          "BuPo",
          "MASSI_9_25",
          "VR",
          "BODY",
          "UpW",
          "LowW",
          "RetSkew_14",
          "RetKurt_14",
          "RetMean_14",
          "returns_lag1",
          "returns_lag2",
          "returns_lag3",
          "returns_lag4",
          "returns_lag5"
         ],
         "z": {
          "bdata": "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",
          "dtype": "f8",
          "shape": "27, 27"
         },
         "zmax": 1,
         "zmin": -1
        }
       ],
       "layout": {
        "annotations": [
         {
          "font": {
           "color": "rgba(255, 255, 255, 0.6)",
           "size": 12
          },
          "showarrow": false,
          "text": "1.00",
          "x": 0,
          "xref": "x",
          "y": 0,
          "yref": "y"
         },
         {
          "font": {
           "color": "rgba(255, 255, 255, 0.6)",
           "size": 12
          },
          "showarrow": false,
          "text": "-0.00",
          "x": 1,
          "xref": "x",
          "y": 0,
          "yref": "y"
         },
         {
          "font": {
           "color": "#FFD700",
           "size": 12
          },
          "showarrow": false,
          "text": "-0.01",
          "x": 2,
          "xref": "x",
          "y": 0,
          "yref": "y"
         },
         {
          "font": {
           "color": "rgba(255, 255, 255, 0.6)",
           "size": 12
          },
          "showarrow": false,
          "text": "0.00",
          "x": 3,
          "xref": "x",
          "y": 0,
          "yref": "y"
         },
         {
          "font": {
           "color": "rgba(255, 255, 255, 0.6)",
           "size": 12
          },
          "showarrow": false,
          "text": "0.00",
          "x": 4,
          "xref": "x",
          "y": 0,
          "yref": "y"
         },
         {
          "font": {
           "color": "rgba(255, 255, 255, 0.6)",
           "size": 12
          },
          "showarrow": false,
          "text": "-0.00",
          "x": 5,
          "xref": "x",
          "y": 0,
          "yref": "y"
         },
         {
          "font": {
           "color": "#FFD700",
           "size": 12
          },
          "showarrow": false,
          "text": "-0.01",
          "x": 6,
          "xref": "x",
          "y": 0,
          "yref": "y"
         },
         {
          "font": {
           "color": "rgba(255, 255, 255, 0.6)",
           "size": 12
          },
          "showarrow": false,
          "text": "-0.00",
          "x": 7,
          "xref": "x",
          "y": 0,
          "yref": "y"
         },
         {
          "font": {
           "color": "#FFD700",
           "size": 12
          },
          "showarrow": false,
          "text": "-0.01",
          "x": 8,
          "xref": "x",
          "y": 0,
          "yref": "y"
         },
         {
          "font": {
           "color": "#FFD700",
           "size": 12
          },
          "showarrow": false,
          "text": "-0.01",
          "x": 9,
          "xref": "x",
          "y": 0,
          "yref": "y"
         },
         {
          "font": {
           "color": "#FFD700",
           "size": 12
          },
          "showarrow": false,
          "text": "0.02",
          "x": 10,
          "xref": "x",
          "y": 0,
          "yref": "y"
         },
         {
          "font": {
           "color": "#FFD700",
           "size": 12
          },
          "showarrow": false,
          "text": "0.01",
          "x": 11,
          "xref": "x",
          "y": 0,
          "yref": "y"
         },
         {
          "font": {
           "color": "#FFD700",
           "size": 12
          },
          "showarrow": false,
          "text": "-0.24",
          "x": 12,
          "xref": "x",
          "y": 0,
          "yref": "y"
         },
         {
          "font": {
           "color": "#FFD700",
           "size": 12
          },
          "showarrow": false,
          "text": "0.24",
          "x": 13,
          "xref": "x",
          "y": 0,
          "yref": "y"
         },
         {
          "font": {
           "color": "#FFD700",
           "size": 12
          },
          "showarrow": false,
          "text": "0.01",
          "x": 14,
          "xref": "x",
          "y": 0,
          "yref": "y"
         },
         {
          "font": {
           "color": "#FFD700",
           "size": 12
          },
          "showarrow": false,
          "text": "0.31",
          "x": 15,
          "xref": "x",
          "y": 0,
          "yref": "y"
         },
         {
          "font": {
           "color": "#FFD700",
           "size": 12
          },
          "showarrow": false,
          "text": "-0.51",
          "x": 16,
          "xref": "x",
          "y": 0,
          "yref": "y"
         },
         {
          "font": {
           "color": "#FFD700",
           "size": 12
          },
          "showarrow": false,
          "text": "-0.39",
          "x": 17,
          "xref": "x",
          "y": 0,
          "yref": "y"
         },
         {
          "font": {
           "color": "#FFD700",
           "size": 12
          },
          "showarrow": false,
          "text": "-0.42",
          "x": 18,
          "xref": "x",
          "y": 0,
          "yref": "y"
         },
         {
          "font": {
           "color": "#FFD700",
           "size": 12
          },
          "showarrow": false,
          "text": "0.02",
          "x": 19,
          "xref": "x",
          "y": 0,
          "yref": "y"
         },
         {
          "font": {
           "color": "#FFD700",
           "size": 12
          },
          "showarrow": false,
          "text": "-0.04",
          "x": 20,
          "xref": "x",
          "y": 0,
          "yref": "y"
         },
         {
          "font": {
           "color": "#FFD700",
           "size": 12
          },
          "showarrow": false,
          "text": "-0.01",
          "x": 21,
          "xref": "x",
          "y": 0,
          "yref": "y"
         },
         {
          "font": {
           "color": "rgba(255, 255, 255, 0.6)",
           "size": 12
          },
          "showarrow": false,
          "text": "-0.00",
          "x": 22,
          "xref": "x",
          "y": 0,
          "yref": "y"
         },
         {
          "font": {
           "color": "rgba(255, 255, 255, 0.6)",
           "size": 12
          },
          "showarrow": false,
          "text": "-0.00",
          "x": 23,
          "xref": "x",
          "y": 0,
          "yref": "y"
         },
         {
          "font": {
           "color": "rgba(255, 255, 255, 0.6)",
           "size": 12
          },
          "showarrow": false,
          "text": "-0.00",
          "x": 24,
          "xref": "x",
          "y": 0,
          "yref": "y"
         },
         {
          "font": {
           "color": "rgba(255, 255, 255, 0.6)",
           "size": 12
          },
          "showarrow": false,
          "text": "-0.00",
          "x": 25,
          "xref": "x",
          "y": 0,
          "yref": "y"
         },
         {
          "font": {
           "color": "rgba(255, 255, 255, 0.6)",
           "size": 12
          },
          "showarrow": false,
          "text": "-0.00",
          "x": 26,
          "xref": "x",
          "y": 0,
          "yref": "y"
         },
         {
          "font": {
           "color": "rgba(255, 255, 255, 0.6)",
           "size": 12
          },
          "showarrow": false,
          "text": "-0.00",
          "x": 0,
          "xref": "x",
          "y": 1,
          "yref": "y"
         },
         {
          "font": {
           "color": "rgba(255, 255, 255, 0.6)",
           "size": 12
          },
          "showarrow": false,
          "text": "1.00",
          "x": 1,
          "xref": "x",
          "y": 1,
          "yref": "y"
         },
         {
          "font": {
           "color": "#FFD700",
           "size": 12
          },
          "showarrow": false,
          "text": "0.86",
          "x": 2,
          "xref": "x",
          "y": 1,
          "yref": "y"
         },
         {
          "font": {
           "color": "rgba(255, 255, 255, 0.6)",
           "size": 12
          },
          "showarrow": false,
          "text": "-0.00",
          "x": 3,
          "xref": "x",
          "y": 1,
          "yref": "y"
         },
         {
          "font": {
           "color": "rgba(255, 255, 255, 0.6)",
           "size": 12
          },
          "showarrow": false,
          "text": "-0.00",
          "x": 4,
          "xref": "x",
          "y": 1,
          "yref": "y"
         },
         {
          "font": {
           "color": "#FFD700",
           "size": 12
          },
          "showarrow": false,
          "text": "-0.04",
          "x": 5,
          "xref": "x",
          "y": 1,
          "yref": "y"
         },
         {
          "font": {
           "color": "#FFD700",
           "size": 12
          },
          "showarrow": false,
          "text": "-0.06",
          "x": 6,
          "xref": "x",
          "y": 1,
          "yref": "y"
         },
         {
          "font": {
           "color": "#FFD700",
           "size": 12
          },
          "showarrow": false,
          "text": "-0.02",
          "x": 7,
          "xref": "x",
          "y": 1,
          "yref": "y"
         },
         {
          "font": {
           "color": "#FFD700",
           "size": 12
          },
          "showarrow": false,
          "text": "-0.02",
          "x": 8,
          "xref": "x",
          "y": 1,
          "yref": "y"
         },
         {
          "font": {
           "color": "#FFD700",
           "size": 12
          },
          "showarrow": false,
          "text": "0.01",
          "x": 9,
          "xref": "x",
          "y": 1,
          "yref": "y"
         },
         {
          "font": {
           "color": "#FFD700",
           "size": 12
          },
          "showarrow": false,
          "text": "-0.04",
          "x": 10,
          "xref": "x",
          "y": 1,
          "yref": "y"
         },
         {
          "font": {
           "color": "#FFD700",
           "size": 12
          },
          "showarrow": false,
          "text": "0.04",
          "x": 11,
          "xref": "x",
          "y": 1,
          "yref": "y"
         },
         {
          "font": {
           "color": "#FFD700",
           "size": 12
          },
          "showarrow": false,
          "text": "-0.03",
          "x": 12,
          "xref": "x",
          "y": 1,
          "yref": "y"
         },
         {
          "font": {
           "color": "#FFD700",
           "size": 12
          },
          "showarrow": false,
          "text": "-0.03",
          "x": 13,
          "xref": "x",
          "y": 1,
          "yref": "y"
         },
         {
          "font": {
           "color": "#FFD700",
           "size": 12
          },
          "showarrow": false,
          "text": "0.01",
          "x": 14,
          "xref": "x",
          "y": 1,
          "yref": "y"
         },
         {
          "font": {
           "color": "#FFD700",
           "size": 12
          },
          "showarrow": false,
          "text": "0.01",
          "x": 15,
          "xref": "x",
          "y": 1,
          "yref": "y"
         },
         {
          "font": {
           "color": "#FFD700",
           "size": 12
          },
          "showarrow": false,
          "text": "0.01",
          "x": 16,
          "xref": "x",
          "y": 1,
          "yref": "y"
         },
         {
          "font": {
           "color": "#FFD700",
           "size": 12
          },
          "showarrow": false,
          "text": "0.02",
          "x": 17,
          "xref": "x",
          "y": 1,
          "yref": "y"
         },
         {
          "font": {
           "color": "#FFD700",
           "size": 12
          },
          "showarrow": false,
          "text": "-0.01",
          "x": 18,
          "xref": "x",
          "y": 1,
          "yref": "y"
         },
         {
          "font": {
           "color": "#FFD700",
           "size": 12
          },
          "showarrow": false,
          "text": "-0.01",
          "x": 19,
          "xref": "x",
          "y": 1,
          "yref": "y"
         },
         {
          "font": {
           "color": "#FFD700",
           "size": 12
          },
          "showarrow": false,
          "text": "0.01",
          "x": 20,
          "xref": "x",
          "y": 1,
          "yref": "y"
         },
         {
          "font": {
           "color": "#FFD700",
           "size": 12
          },
          "showarrow": false,
          "text": "-0.03",
          "x": 21,
          "xref": "x",
          "y": 1,
          "yref": "y"
         },
         {
          "font": {
           "color": "#FFD700",
           "size": 12
          },
          "showarrow": false,
          "text": "-0.05",
          "x": 22,
          "xref": "x",
          "y": 1,
          "yref": "y"
         },
         {
          "font": {
           "color": "#FFD700",
           "size": 12
          },
          "showarrow": false,
          "text": "-0.02",
          "x": 23,
          "xref": "x",
          "y": 1,
          "yref": "y"
         },
         {
          "font": {
           "color": "rgba(255, 255, 255, 0.6)",
           "size": 12
          },
          "showarrow": false,
          "text": "-0.00",
          "x": 24,
          "xref": "x",
          "y": 1,
          "yref": "y"
         },
         {
          "font": {
           "color": "#FFD700",
           "size": 12
          },
          "showarrow": false,
          "text": "-0.01",
          "x": 25,
          "xref": "x",
          "y": 1,
          "yref": "y"
         },
         {
          "font": {
           "color": "rgba(255, 255, 255, 0.6)",
           "size": 12
          },
          "showarrow": false,
          "text": "-0.00",
          "x": 26,
          "xref": "x",
          "y": 1,
          "yref": "y"
         },
         {
          "font": {
           "color": "#FFD700",
           "size": 12
          },
          "showarrow": false,
          "text": "-0.01",
          "x": 0,
          "xref": "x",
          "y": 2,
          "yref": "y"
         },
         {
          "font": {
           "color": "#FFD700",
           "size": 12
          },
          "showarrow": false,
          "text": "0.86",
          "x": 1,
          "xref": "x",
          "y": 2,
          "yref": "y"
         },
         {
          "font": {
           "color": "rgba(255, 255, 255, 0.6)",
           "size": 12
          },
          "showarrow": false,
          "text": "1.00",
          "x": 2,
          "xref": "x",
          "y": 2,
          "yref": "y"
         },
         {
          "font": {
           "color": "rgba(255, 255, 255, 0.6)",
           "size": 12
          },
          "showarrow": false,
          "text": "-0.00",
          "x": 3,
          "xref": "x",
          "y": 2,
          "yref": "y"
         },
         {
          "font": {
           "color": "rgba(255, 255, 255, 0.6)",
           "size": 12
          },
          "showarrow": false,
          "text": "0.00",
          "x": 4,
          "xref": "x",
          "y": 2,
          "yref": "y"
         },
         {
          "font": {
           "color": "#FFD700",
           "size": 12
          },
          "showarrow": false,
          "text": "-0.04",
          "x": 5,
          "xref": "x",
          "y": 2,
          "yref": "y"
         },
         {
          "font": {
           "color": "#FFD700",
           "size": 12
          },
          "showarrow": false,
          "text": "-0.07",
          "x": 6,
          "xref": "x",
          "y": 2,
          "yref": "y"
         },
         {
          "font": {
           "color": "#FFD700",
           "size": 12
          },
          "showarrow": false,
          "text": "-0.03",
          "x": 7,
          "xref": "x",
          "y": 2,
          "yref": "y"
         },
         {
          "font": {
           "color": "#FFD700",
           "size": 12
          },
          "showarrow": false,
          "text": "-0.03",
          "x": 8,
          "xref": "x",
          "y": 2,
          "yref": "y"
         },
         {
          "font": {
           "color": "#FFD700",
           "size": 12
          },
          "showarrow": false,
          "text": "0.01",
          "x": 9,
          "xref": "x",
          "y": 2,
          "yref": "y"
         },
         {
          "font": {
           "color": "#FFD700",
           "size": 12
          },
          "showarrow": false,
          "text": "-0.04",
          "x": 10,
          "xref": "x",
          "y": 2,
          "yref": "y"
         },
         {
          "font": {
           "color": "#FFD700",
           "size": 12
          },
          "showarrow": false,
          "text": "0.05",
          "x": 11,
          "xref": "x",
          "y": 2,
          "yref": "y"
         },
         {
          "font": {
           "color": "#FFD700",
           "size": 12
          },
          "showarrow": false,
          "text": "-0.04",
          "x": 12,
          "xref": "x",
          "y": 2,
          "yref": "y"
         },
         {
          "font": {
           "color": "#FFD700",
           "size": 12
          },
          "showarrow": false,
          "text": "-0.04",
          "x": 13,
          "xref": "x",
          "y": 2,
          "yref": "y"
         },
         {
          "font": {
           "color": "#FFD700",
           "size": 12
          },
          "showarrow": false,
          "text": "0.01",
          "x": 14,
          "xref": "x",
          "y": 2,
          "yref": "y"
         },
         {
          "font": {
           "color": "rgba(255, 255, 255, 0.6)",
           "size": 12
          },
          "showarrow": false,
          "text": "0.00",
          "x": 15,
          "xref": "x",
          "y": 2,
          "yref": "y"
         },
         {
          "font": {
           "color": "#FFD700",
           "size": 12
          },
          "showarrow": false,
          "text": "0.01",
          "x": 16,
          "xref": "x",
          "y": 2,
          "yref": "y"
         },
         {
          "font": {
           "color": "#FFD700",
           "size": 12
          },
          "showarrow": false,
          "text": "0.02",
          "x": 17,
          "xref": "x",
          "y": 2,
          "yref": "y"
         },
         {
          "font": {
           "color": "rgba(255, 255, 255, 0.6)",
           "size": 12
          },
          "showarrow": false,
          "text": "-0.00",
          "x": 18,
          "xref": "x",
          "y": 2,
          "yref": "y"
         },
         {
          "font": {
           "color": "#FFD700",
           "size": 12
          },
          "showarrow": false,
          "text": "-0.01",
          "x": 19,
          "xref": "x",
          "y": 2,
          "yref": "y"
         },
         {
          "font": {
           "color": "rgba(255, 255, 255, 0.6)",
           "size": 12
          },
          "showarrow": false,
          "text": "0.00",
          "x": 20,
          "xref": "x",
          "y": 2,
          "yref": "y"
         },
         {
          "font": {
           "color": "#FFD700",
           "size": 12
          },
          "showarrow": false,
          "text": "-0.04",
          "x": 21,
          "xref": "x",
          "y": 2,
          "yref": "y"
         },
         {
          "font": {
           "color": "#FFD700",
           "size": 12
          },
          "showarrow": false,
          "text": "-0.04",
          "x": 22,
          "xref": "x",
          "y": 2,
          "yref": "y"
         },
         {
          "font": {
           "color": "#FFD700",
           "size": 12
          },
          "showarrow": false,
          "text": "-0.02",
          "x": 23,
          "xref": "x",
          "y": 2,
          "yref": "y"
         },
         {
          "font": {
           "color": "rgba(255, 255, 255, 0.6)",
           "size": 12
          },
          "showarrow": false,
          "text": "-0.00",
          "x": 24,
          "xref": "x",
          "y": 2,
          "yref": "y"
         },
         {
          "font": {
           "color": "#FFD700",
           "size": 12
          },
          "showarrow": false,
          "text": "-0.02",
          "x": 25,
          "xref": "x",
          "y": 2,
          "yref": "y"
         },
         {
          "font": {
           "color": "rgba(255, 255, 255, 0.6)",
           "size": 12
          },
          "showarrow": false,
          "text": "-0.00",
          "x": 26,
          "xref": "x",
          "y": 2,
          "yref": "y"
         },
         {
          "font": {
           "color": "rgba(255, 255, 255, 0.6)",
           "size": 12
          },
          "showarrow": false,
          "text": "0.00",
          "x": 0,
          "xref": "x",
          "y": 3,
          "yref": "y"
         },
         {
          "font": {
           "color": "rgba(255, 255, 255, 0.6)",
           "size": 12
          },
          "showarrow": false,
          "text": "-0.00",
          "x": 1,
          "xref": "x",
          "y": 3,
          "yref": "y"
         },
         {
          "font": {
           "color": "rgba(255, 255, 255, 0.6)",
           "size": 12
          },
          "showarrow": false,
          "text": "-0.00",
          "x": 2,
          "xref": "x",
          "y": 3,
          "yref": "y"
         },
         {
          "font": {
           "color": "rgba(255, 255, 255, 0.6)",
           "size": 12
          },
          "showarrow": false,
          "text": "1.00",
          "x": 3,
          "xref": "x",
          "y": 3,
          "yref": "y"
         },
         {
          "font": {
           "color": "#FFD700",
           "size": 12
          },
          "showarrow": false,
          "text": "0.21",
          "x": 4,
          "xref": "x",
          "y": 3,
          "yref": "y"
         },
         {
          "font": {
           "color": "rgba(255, 255, 255, 0.6)",
           "size": 12
          },
          "showarrow": false,
          "text": "-0.00",
          "x": 5,
          "xref": "x",
          "y": 3,
          "yref": "y"
         },
         {
          "font": {
           "color": "#FFD700",
           "size": 12
          },
          "showarrow": false,
          "text": "-0.01",
          "x": 6,
          "xref": "x",
          "y": 3,
          "yref": "y"
         },
         {
          "font": {
           "color": "#FFD700",
           "size": 12
          },
          "showarrow": false,
          "text": "-0.02",
          "x": 7,
          "xref": "x",
          "y": 3,
          "yref": "y"
         },
         {
          "font": {
           "color": "rgba(255, 255, 255, 0.6)",
           "size": 12
          },
          "showarrow": false,
          "text": "0.00",
          "x": 8,
          "xref": "x",
          "y": 3,
          "yref": "y"
         },
         {
          "font": {
           "color": "#FFD700",
           "size": 12
          },
          "showarrow": false,
          "text": "0.08",
          "x": 9,
          "xref": "x",
          "y": 3,
          "yref": "y"
         },
         {
          "font": {
           "color": "#FFD700",
           "size": 12
          },
          "showarrow": false,
          "text": "-0.01",
          "x": 10,
          "xref": "x",
          "y": 3,
          "yref": "y"
         },
         {
          "font": {
           "color": "#FFD700",
           "size": 12
          },
          "showarrow": false,
          "text": "0.02",
          "x": 11,
          "xref": "x",
          "y": 3,
          "yref": "y"
         },
         {
          "font": {
           "color": "rgba(255, 255, 255, 0.6)",
           "size": 12
          },
          "showarrow": false,
          "text": "0.00",
          "x": 12,
          "xref": "x",
          "y": 3,
          "yref": "y"
         },
         {
          "font": {
           "color": "#FFD700",
           "size": 12
          },
          "showarrow": false,
          "text": "-0.01",
          "x": 13,
          "xref": "x",
          "y": 3,
          "yref": "y"
         },
         {
          "font": {
           "color": "#FFD700",
           "size": 12
          },
          "showarrow": false,
          "text": "0.03",
          "x": 14,
          "xref": "x",
          "y": 3,
          "yref": "y"
         },
         {
          "font": {
           "color": "#FFD700",
           "size": 12
          },
          "showarrow": false,
          "text": "0.12",
          "x": 15,
          "xref": "x",
          "y": 3,
          "yref": "y"
         },
         {
          "font": {
           "color": "#FFD700",
           "size": 12
          },
          "showarrow": false,
          "text": "0.03",
          "x": 16,
          "xref": "x",
          "y": 3,
          "yref": "y"
         },
         {
          "font": {
           "color": "#FFD700",
           "size": 12
          },
          "showarrow": false,
          "text": "0.05",
          "x": 17,
          "xref": "x",
          "y": 3,
          "yref": "y"
         },
         {
          "font": {
           "color": "#FFD700",
           "size": 12
          },
          "showarrow": false,
          "text": "0.04",
          "x": 18,
          "xref": "x",
          "y": 3,
          "yref": "y"
         },
         {
          "font": {
           "color": "#FFD700",
           "size": 12
          },
          "showarrow": false,
          "text": "0.01",
          "x": 19,
          "xref": "x",
          "y": 3,
          "yref": "y"
         },
         {
          "font": {
           "color": "rgba(255, 255, 255, 0.6)",
           "size": 12
          },
          "showarrow": false,
          "text": "-0.00",
          "x": 20,
          "xref": "x",
          "y": 3,
          "yref": "y"
         },
         {
          "font": {
           "color": "#FFD700",
           "size": 12
          },
          "showarrow": false,
          "text": "-0.01",
          "x": 21,
          "xref": "x",
          "y": 3,
          "yref": "y"
         },
         {
          "font": {
           "color": "rgba(255, 255, 255, 0.6)",
           "size": 12
          },
          "showarrow": false,
          "text": "-0.00",
          "x": 22,
          "xref": "x",
          "y": 3,
          "yref": "y"
         },
         {
          "font": {
           "color": "rgba(255, 255, 255, 0.6)",
           "size": 12
          },
          "showarrow": false,
          "text": "-0.00",
          "x": 23,
          "xref": "x",
          "y": 3,
          "yref": "y"
         },
         {
          "font": {
           "color": "rgba(255, 255, 255, 0.6)",
           "size": 12
          },
          "showarrow": false,
          "text": "-0.00",
          "x": 24,
          "xref": "x",
          "y": 3,
          "yref": "y"
         },
         {
          "font": {
           "color": "rgba(255, 255, 255, 0.6)",
           "size": 12
          },
          "showarrow": false,
          "text": "-0.00",
          "x": 25,
          "xref": "x",
          "y": 3,
          "yref": "y"
         },
         {
          "font": {
           "color": "rgba(255, 255, 255, 0.6)",
           "size": 12
          },
          "showarrow": false,
          "text": "-0.00",
          "x": 26,
          "xref": "x",
          "y": 3,
          "yref": "y"
         },
         {
          "font": {
           "color": "rgba(255, 255, 255, 0.6)",
           "size": 12
          },
          "showarrow": false,
          "text": "0.00",
          "x": 0,
          "xref": "x",
          "y": 4,
          "yref": "y"
         },
         {
          "font": {
           "color": "rgba(255, 255, 255, 0.6)",
           "size": 12
          },
          "showarrow": false,
          "text": "-0.00",
          "x": 1,
          "xref": "x",
          "y": 4,
          "yref": "y"
         },
         {
          "font": {
           "color": "rgba(255, 255, 255, 0.6)",
           "size": 12
          },
          "showarrow": false,
          "text": "0.00",
          "x": 2,
          "xref": "x",
          "y": 4,
          "yref": "y"
         },
         {
          "font": {
           "color": "#FFD700",
           "size": 12
          },
          "showarrow": false,
          "text": "0.21",
          "x": 3,
          "xref": "x",
          "y": 4,
          "yref": "y"
         },
         {
          "font": {
           "color": "rgba(255, 255, 255, 0.6)",
           "size": 12
          },
          "showarrow": false,
          "text": "1.00",
          "x": 4,
          "xref": "x",
          "y": 4,
          "yref": "y"
         },
         {
          "font": {
           "color": "rgba(255, 255, 255, 0.6)",
           "size": 12
          },
          "showarrow": false,
          "text": "-0.00",
          "x": 5,
          "xref": "x",
          "y": 4,
          "yref": "y"
         },
         {
          "font": {
           "color": "#FFD700",
           "size": 12
          },
          "showarrow": false,
          "text": "-0.01",
          "x": 6,
          "xref": "x",
          "y": 4,
          "yref": "y"
         },
         {
          "font": {
           "color": "#FFD700",
           "size": 12
          },
          "showarrow": false,
          "text": "-0.02",
          "x": 7,
          "xref": "x",
          "y": 4,
          "yref": "y"
         },
         {
          "font": {
           "color": "#FFD700",
           "size": 12
          },
          "showarrow": false,
          "text": "-0.01",
          "x": 8,
          "xref": "x",
          "y": 4,
          "yref": "y"
         },
         {
          "font": {
           "color": "#FFD700",
           "size": 12
          },
          "showarrow": false,
          "text": "0.05",
          "x": 9,
          "xref": "x",
          "y": 4,
          "yref": "y"
         },
         {
          "font": {
           "color": "#FFD700",
           "size": 12
          },
          "showarrow": false,
          "text": "-0.01",
          "x": 10,
          "xref": "x",
          "y": 4,
          "yref": "y"
         },
         {
          "font": {
           "color": "#FFD700",
           "size": 12
          },
          "showarrow": false,
          "text": "0.03",
          "x": 11,
          "xref": "x",
          "y": 4,
          "yref": "y"
         },
         {
          "font": {
           "color": "#FFD700",
           "size": 12
          },
          "showarrow": false,
          "text": "-0.01",
          "x": 12,
          "xref": "x",
          "y": 4,
          "yref": "y"
         },
         {
          "font": {
           "color": "#FFD700",
           "size": 12
          },
          "showarrow": false,
          "text": "-0.01",
          "x": 13,
          "xref": "x",
          "y": 4,
          "yref": "y"
         },
         {
          "font": {
           "color": "#FFD700",
           "size": 12
          },
          "showarrow": false,
          "text": "0.06",
          "x": 14,
          "xref": "x",
          "y": 4,
          "yref": "y"
         },
         {
          "font": {
           "color": "#FFD700",
           "size": 12
          },
          "showarrow": false,
          "text": "0.01",
          "x": 15,
          "xref": "x",
          "y": 4,
          "yref": "y"
         },
         {
          "font": {
           "color": "rgba(255, 255, 255, 0.6)",
           "size": 12
          },
          "showarrow": false,
          "text": "-0.00",
          "x": 16,
          "xref": "x",
          "y": 4,
          "yref": "y"
         },
         {
          "font": {
           "color": "rgba(255, 255, 255, 0.6)",
           "size": 12
          },
          "showarrow": false,
          "text": "0.00",
          "x": 17,
          "xref": "x",
          "y": 4,
          "yref": "y"
         },
         {
          "font": {
           "color": "rgba(255, 255, 255, 0.6)",
           "size": 12
          },
          "showarrow": false,
          "text": "0.00",
          "x": 18,
          "xref": "x",
          "y": 4,
          "yref": "y"
         },
         {
          "font": {
           "color": "#FFD700",
           "size": 12
          },
          "showarrow": false,
          "text": "-0.02",
          "x": 19,
          "xref": "x",
          "y": 4,
          "yref": "y"
         },
         {
          "font": {
           "color": "#FFD700",
           "size": 12
          },
          "showarrow": false,
          "text": "0.04",
          "x": 20,
          "xref": "x",
          "y": 4,
          "yref": "y"
         },
         {
          "font": {
           "color": "#FFD700",
           "size": 12
          },
          "showarrow": false,
          "text": "-0.02",
          "x": 21,
          "xref": "x",
          "y": 4,
          "yref": "y"
         },
         {
          "font": {
           "color": "rgba(255, 255, 255, 0.6)",
           "size": 12
          },
          "showarrow": false,
          "text": "-0.00",
          "x": 22,
          "xref": "x",
          "y": 4,
          "yref": "y"
         },
         {
          "font": {
           "color": "rgba(255, 255, 255, 0.6)",
           "size": 12
          },
          "showarrow": false,
          "text": "-0.00",
          "x": 23,
          "xref": "x",
          "y": 4,
          "yref": "y"
         },
         {
          "font": {
           "color": "rgba(255, 255, 255, 0.6)",
           "size": 12
          },
          "showarrow": false,
          "text": "-0.00",
          "x": 24,
          "xref": "x",
          "y": 4,
          "yref": "y"
         },
         {
          "font": {
           "color": "rgba(255, 255, 255, 0.6)",
           "size": 12
          },
          "showarrow": false,
          "text": "-0.00",
          "x": 25,
          "xref": "x",
          "y": 4,
          "yref": "y"
         },
         {
          "font": {
           "color": "rgba(255, 255, 255, 0.6)",
           "size": 12
          },
          "showarrow": false,
          "text": "-0.00",
          "x": 26,
          "xref": "x",
          "y": 4,
          "yref": "y"
         },
         {
          "font": {
           "color": "rgba(255, 255, 255, 0.6)",
           "size": 12
          },
          "showarrow": false,
          "text": "-0.00",
          "x": 0,
          "xref": "x",
          "y": 5,
          "yref": "y"
         },
         {
          "font": {
           "color": "#FFD700",
           "size": 12
          },
          "showarrow": false,
          "text": "-0.04",
          "x": 1,
          "xref": "x",
          "y": 5,
          "yref": "y"
         },
         {
          "font": {
           "color": "#FFD700",
           "size": 12
          },
          "showarrow": false,
          "text": "-0.04",
          "x": 2,
          "xref": "x",
          "y": 5,
          "yref": "y"
         },
         {
          "font": {
           "color": "rgba(255, 255, 255, 0.6)",
           "size": 12
          },
          "showarrow": false,
          "text": "-0.00",
          "x": 3,
          "xref": "x",
          "y": 5,
          "yref": "y"
         },
         {
          "font": {
           "color": "rgba(255, 255, 255, 0.6)",
           "size": 12
          },
          "showarrow": false,
          "text": "-0.00",
          "x": 4,
          "xref": "x",
          "y": 5,
          "yref": "y"
         },
         {
          "font": {
           "color": "rgba(255, 255, 255, 0.6)",
           "size": 12
          },
          "showarrow": false,
          "text": "1.00",
          "x": 5,
          "xref": "x",
          "y": 5,
          "yref": "y"
         },
         {
          "font": {
           "color": "#FFD700",
           "size": 12
          },
          "showarrow": false,
          "text": "0.48",
          "x": 6,
          "xref": "x",
          "y": 5,
          "yref": "y"
         },
         {
          "font": {
           "color": "#FFD700",
           "size": 12
          },
          "showarrow": false,
          "text": "0.03",
          "x": 7,
          "xref": "x",
          "y": 5,
          "yref": "y"
         },
         {
          "font": {
           "color": "#FFD700",
           "size": 12
          },
          "showarrow": false,
          "text": "0.10",
          "x": 8,
          "xref": "x",
          "y": 5,
          "yref": "y"
         },
         {
          "font": {
           "color": "#FFD700",
           "size": 12
          },
          "showarrow": false,
          "text": "0.01",
          "x": 9,
          "xref": "x",
          "y": 5,
          "yref": "y"
         },
         {
          "font": {
           "color": "#FFD700",
           "size": 12
          },
          "showarrow": false,
          "text": "0.13",
          "x": 10,
          "xref": "x",
          "y": 5,
          "yref": "y"
         },
         {
          "font": {
           "color": "#FFD700",
           "size": 12
          },
          "showarrow": false,
          "text": "-0.13",
          "x": 11,
          "xref": "x",
          "y": 5,
          "yref": "y"
         },
         {
          "font": {
           "color": "#FFD700",
           "size": 12
          },
          "showarrow": false,
          "text": "0.10",
          "x": 12,
          "xref": "x",
          "y": 5,
          "yref": "y"
         },
         {
          "font": {
           "color": "#FFD700",
           "size": 12
          },
          "showarrow": false,
          "text": "0.10",
          "x": 13,
          "xref": "x",
          "y": 5,
          "yref": "y"
         },
         {
          "font": {
           "color": "#FFD700",
           "size": 12
          },
          "showarrow": false,
          "text": "0.01",
          "x": 14,
          "xref": "x",
          "y": 5,
          "yref": "y"
         },
         {
          "font": {
           "color": "#FFD700",
           "size": 12
          },
          "showarrow": false,
          "text": "-0.01",
          "x": 15,
          "xref": "x",
          "y": 5,
          "yref": "y"
         },
         {
          "font": {
           "color": "rgba(255, 255, 255, 0.6)",
           "size": 12
          },
          "showarrow": false,
          "text": "0.00",
          "x": 16,
          "xref": "x",
          "y": 5,
          "yref": "y"
         },
         {
          "font": {
           "color": "#FFD700",
           "size": 12
          },
          "showarrow": false,
          "text": "0.04",
          "x": 17,
          "xref": "x",
          "y": 5,
          "yref": "y"
         },
         {
          "font": {
           "color": "#FFD700",
           "size": 12
          },
          "showarrow": false,
          "text": "-0.05",
          "x": 18,
          "xref": "x",
          "y": 5,
          "yref": "y"
         },
         {
          "font": {
           "color": "#FFD700",
           "size": 12
          },
          "showarrow": false,
          "text": "-0.02",
          "x": 19,
          "xref": "x",
          "y": 5,
          "yref": "y"
         },
         {
          "font": {
           "color": "#FFD700",
           "size": 12
          },
          "showarrow": false,
          "text": "0.01",
          "x": 20,
          "xref": "x",
          "y": 5,
          "yref": "y"
         },
         {
          "font": {
           "color": "#FFD700",
           "size": 12
          },
          "showarrow": false,
          "text": "0.15",
          "x": 21,
          "xref": "x",
          "y": 5,
          "yref": "y"
         },
         {
          "font": {
           "color": "#FFD700",
           "size": 12
          },
          "showarrow": false,
          "text": "-0.04",
          "x": 22,
          "xref": "x",
          "y": 5,
          "yref": "y"
         },
         {
          "font": {
           "color": "#FFD700",
           "size": 12
          },
          "showarrow": false,
          "text": "-0.05",
          "x": 23,
          "xref": "x",
          "y": 5,
          "yref": "y"
         },
         {
          "font": {
           "color": "#FFD700",
           "size": 12
          },
          "showarrow": false,
          "text": "-0.02",
          "x": 24,
          "xref": "x",
          "y": 5,
          "yref": "y"
         },
         {
          "font": {
           "color": "rgba(255, 255, 255, 0.6)",
           "size": 12
          },
          "showarrow": false,
          "text": "-0.00",
          "x": 25,
          "xref": "x",
          "y": 5,
          "yref": "y"
         },
         {
          "font": {
           "color": "#FFD700",
           "size": 12
          },
          "showarrow": false,
          "text": "-0.01",
          "x": 26,
          "xref": "x",
          "y": 5,
          "yref": "y"
         },
         {
          "font": {
           "color": "#FFD700",
           "size": 12
          },
          "showarrow": false,
          "text": "-0.01",
          "x": 0,
          "xref": "x",
          "y": 6,
          "yref": "y"
         },
         {
          "font": {
           "color": "#FFD700",
           "size": 12
          },
          "showarrow": false,
          "text": "-0.06",
          "x": 1,
          "xref": "x",
          "y": 6,
          "yref": "y"
         },
         {
          "font": {
           "color": "#FFD700",
           "size": 12
          },
          "showarrow": false,
          "text": "-0.07",
          "x": 2,
          "xref": "x",
          "y": 6,
          "yref": "y"
         },
         {
          "font": {
           "color": "#FFD700",
           "size": 12
          },
          "showarrow": false,
          "text": "-0.01",
          "x": 3,
          "xref": "x",
          "y": 6,
          "yref": "y"
         },
         {
          "font": {
           "color": "#FFD700",
           "size": 12
          },
          "showarrow": false,
          "text": "-0.01",
          "x": 4,
          "xref": "x",
          "y": 6,
          "yref": "y"
         },
         {
          "font": {
           "color": "#FFD700",
           "size": 12
          },
          "showarrow": false,
          "text": "0.48",
          "x": 5,
          "xref": "x",
          "y": 6,
          "yref": "y"
         },
         {
          "font": {
           "color": "rgba(255, 255, 255, 0.6)",
           "size": 12
          },
          "showarrow": false,
          "text": "1.00",
          "x": 6,
          "xref": "x",
          "y": 6,
          "yref": "y"
         },
         {
          "font": {
           "color": "#FFD700",
           "size": 12
          },
          "showarrow": false,
          "text": "0.45",
          "x": 7,
          "xref": "x",
          "y": 6,
          "yref": "y"
         },
         {
          "font": {
           "color": "#FFD700",
           "size": 12
          },
          "showarrow": false,
          "text": "0.54",
          "x": 8,
          "xref": "x",
          "y": 6,
          "yref": "y"
         },
         {
          "font": {
           "color": "#FFD700",
           "size": 12
          },
          "showarrow": false,
          "text": "-0.01",
          "x": 9,
          "xref": "x",
          "y": 6,
          "yref": "y"
         },
         {
          "font": {
           "color": "#FFD700",
           "size": 12
          },
          "showarrow": false,
          "text": "0.68",
          "x": 10,
          "xref": "x",
          "y": 6,
          "yref": "y"
         },
         {
          "font": {
           "color": "#FFD700",
           "size": 12
          },
          "showarrow": false,
          "text": "-0.68",
          "x": 11,
          "xref": "x",
          "y": 6,
          "yref": "y"
         },
         {
          "font": {
           "color": "#FFD700",
           "size": 12
          },
          "showarrow": false,
          "text": "0.62",
          "x": 12,
          "xref": "x",
          "y": 6,
          "yref": "y"
         },
         {
          "font": {
           "color": "#FFD700",
           "size": 12
          },
          "showarrow": false,
          "text": "0.61",
          "x": 13,
          "xref": "x",
          "y": 6,
          "yref": "y"
         },
         {
          "font": {
           "color": "#FFD700",
           "size": 12
          },
          "showarrow": false,
          "text": "0.01",
          "x": 14,
          "xref": "x",
          "y": 6,
          "yref": "y"
         },
         {
          "font": {
           "color": "#FFD700",
           "size": 12
          },
          "showarrow": false,
          "text": "-0.01",
          "x": 15,
          "xref": "x",
          "y": 6,
          "yref": "y"
         },
         {
          "font": {
           "color": "#FFD700",
           "size": 12
          },
          "showarrow": false,
          "text": "0.01",
          "x": 16,
          "xref": "x",
          "y": 6,
          "yref": "y"
         },
         {
          "font": {
           "color": "#FFD700",
           "size": 12
          },
          "showarrow": false,
          "text": "0.06",
          "x": 17,
          "xref": "x",
          "y": 6,
          "yref": "y"
         },
         {
          "font": {
           "color": "#FFD700",
           "size": 12
          },
          "showarrow": false,
          "text": "-0.04",
          "x": 18,
          "xref": "x",
          "y": 6,
          "yref": "y"
         },
         {
          "font": {
           "color": "#FFD700",
           "size": 12
          },
          "showarrow": false,
          "text": "0.18",
          "x": 19,
          "xref": "x",
          "y": 6,
          "yref": "y"
         },
         {
          "font": {
           "color": "#FFD700",
           "size": 12
          },
          "showarrow": false,
          "text": "0.01",
          "x": 20,
          "xref": "x",
          "y": 6,
          "yref": "y"
         },
         {
          "font": {
           "color": "#FFD700",
           "size": 12
          },
          "showarrow": false,
          "text": "0.64",
          "x": 21,
          "xref": "x",
          "y": 6,
          "yref": "y"
         },
         {
          "font": {
           "color": "#FFD700",
           "size": 12
          },
          "showarrow": false,
          "text": "0.37",
          "x": 22,
          "xref": "x",
          "y": 6,
          "yref": "y"
         },
         {
          "font": {
           "color": "#FFD700",
           "size": 12
          },
          "showarrow": false,
          "text": "0.27",
          "x": 23,
          "xref": "x",
          "y": 6,
          "yref": "y"
         },
         {
          "font": {
           "color": "#FFD700",
           "size": 12
          },
          "showarrow": false,
          "text": "0.22",
          "x": 24,
          "xref": "x",
          "y": 6,
          "yref": "y"
         },
         {
          "font": {
           "color": "#FFD700",
           "size": 12
          },
          "showarrow": false,
          "text": "0.18",
          "x": 25,
          "xref": "x",
          "y": 6,
          "yref": "y"
         },
         {
          "font": {
           "color": "#FFD700",
           "size": 12
          },
          "showarrow": false,
          "text": "0.14",
          "x": 26,
          "xref": "x",
          "y": 6,
          "yref": "y"
         },
         {
          "font": {
           "color": "rgba(255, 255, 255, 0.6)",
           "size": 12
          },
          "showarrow": false,
          "text": "-0.00",
          "x": 0,
          "xref": "x",
          "y": 7,
          "yref": "y"
         },
         {
          "font": {
           "color": "#FFD700",
           "size": 12
          },
          "showarrow": false,
          "text": "-0.02",
          "x": 1,
          "xref": "x",
          "y": 7,
          "yref": "y"
         },
         {
          "font": {
           "color": "#FFD700",
           "size": 12
          },
          "showarrow": false,
          "text": "-0.03",
          "x": 2,
          "xref": "x",
          "y": 7,
          "yref": "y"
         },
         {
          "font": {
           "color": "#FFD700",
           "size": 12
          },
          "showarrow": false,
          "text": "-0.02",
          "x": 3,
          "xref": "x",
          "y": 7,
          "yref": "y"
         },
         {
          "font": {
           "color": "#FFD700",
           "size": 12
          },
          "showarrow": false,
          "text": "-0.02",
          "x": 4,
          "xref": "x",
          "y": 7,
          "yref": "y"
         },
         {
          "font": {
           "color": "#FFD700",
           "size": 12
          },
          "showarrow": false,
          "text": "0.03",
          "x": 5,
          "xref": "x",
          "y": 7,
          "yref": "y"
         },
         {
          "font": {
           "color": "#FFD700",
           "size": 12
          },
          "showarrow": false,
          "text": "0.45",
          "x": 6,
          "xref": "x",
          "y": 7,
          "yref": "y"
         },
         {
          "font": {
           "color": "rgba(255, 255, 255, 0.6)",
           "size": 12
          },
          "showarrow": false,
          "text": "1.00",
          "x": 7,
          "xref": "x",
          "y": 7,
          "yref": "y"
         },
         {
          "font": {
           "color": "#FFD700",
           "size": 12
          },
          "showarrow": false,
          "text": "0.19",
          "x": 8,
          "xref": "x",
          "y": 7,
          "yref": "y"
         },
         {
          "font": {
           "color": "#FFD700",
           "size": 12
          },
          "showarrow": false,
          "text": "-0.07",
          "x": 9,
          "xref": "x",
          "y": 7,
          "yref": "y"
         },
         {
          "font": {
           "color": "#FFD700",
           "size": 12
          },
          "showarrow": false,
          "text": "0.66",
          "x": 10,
          "xref": "x",
          "y": 7,
          "yref": "y"
         },
         {
          "font": {
           "color": "#FFD700",
           "size": 12
          },
          "showarrow": false,
          "text": "-0.66",
          "x": 11,
          "xref": "x",
          "y": 7,
          "yref": "y"
         },
         {
          "font": {
           "color": "#FFD700",
           "size": 12
          },
          "showarrow": false,
          "text": "0.45",
          "x": 12,
          "xref": "x",
          "y": 7,
          "yref": "y"
         },
         {
          "font": {
           "color": "#FFD700",
           "size": 12
          },
          "showarrow": false,
          "text": "0.43",
          "x": 13,
          "xref": "x",
          "y": 7,
          "yref": "y"
         },
         {
          "font": {
           "color": "#FFD700",
           "size": 12
          },
          "showarrow": false,
          "text": "0.01",
          "x": 14,
          "xref": "x",
          "y": 7,
          "yref": "y"
         },
         {
          "font": {
           "color": "#FFD700",
           "size": 12
          },
          "showarrow": false,
          "text": "0.02",
          "x": 15,
          "xref": "x",
          "y": 7,
          "yref": "y"
         },
         {
          "font": {
           "color": "#FFD700",
           "size": 12
          },
          "showarrow": false,
          "text": "0.02",
          "x": 16,
          "xref": "x",
          "y": 7,
          "yref": "y"
         },
         {
          "font": {
           "color": "#FFD700",
           "size": 12
          },
          "showarrow": false,
          "text": "0.05",
          "x": 17,
          "xref": "x",
          "y": 7,
          "yref": "y"
         },
         {
          "font": {
           "color": "#FFD700",
           "size": 12
          },
          "showarrow": false,
          "text": "-0.01",
          "x": 18,
          "xref": "x",
          "y": 7,
          "yref": "y"
         },
         {
          "font": {
           "color": "#FFD700",
           "size": 12
          },
          "showarrow": false,
          "text": "0.23",
          "x": 19,
          "xref": "x",
          "y": 7,
          "yref": "y"
         },
         {
          "font": {
           "color": "#FFD700",
           "size": 12
          },
          "showarrow": false,
          "text": "0.02",
          "x": 20,
          "xref": "x",
          "y": 7,
          "yref": "y"
         },
         {
          "font": {
           "color": "#FFD700",
           "size": 12
          },
          "showarrow": false,
          "text": "0.56",
          "x": 21,
          "xref": "x",
          "y": 7,
          "yref": "y"
         },
         {
          "font": {
           "color": "#FFD700",
           "size": 12
          },
          "showarrow": false,
          "text": "0.06",
          "x": 22,
          "xref": "x",
          "y": 7,
          "yref": "y"
         },
         {
          "font": {
           "color": "#FFD700",
           "size": 12
          },
          "showarrow": false,
          "text": "0.08",
          "x": 23,
          "xref": "x",
          "y": 7,
          "yref": "y"
         },
         {
          "font": {
           "color": "#FFD700",
           "size": 12
          },
          "showarrow": false,
          "text": "0.10",
          "x": 24,
          "xref": "x",
          "y": 7,
          "yref": "y"
         },
         {
          "font": {
           "color": "#FFD700",
           "size": 12
          },
          "showarrow": false,
          "text": "0.11",
          "x": 25,
          "xref": "x",
          "y": 7,
          "yref": "y"
         },
         {
          "font": {
           "color": "#FFD700",
           "size": 12
          },
          "showarrow": false,
          "text": "0.12",
          "x": 26,
          "xref": "x",
          "y": 7,
          "yref": "y"
         },
         {
          "font": {
           "color": "#FFD700",
           "size": 12
          },
          "showarrow": false,
          "text": "-0.01",
          "x": 0,
          "xref": "x",
          "y": 8,
          "yref": "y"
         },
         {
          "font": {
           "color": "#FFD700",
           "size": 12
          },
          "showarrow": false,
          "text": "-0.02",
          "x": 1,
          "xref": "x",
          "y": 8,
          "yref": "y"
         },
         {
          "font": {
           "color": "#FFD700",
           "size": 12
          },
          "showarrow": false,
          "text": "-0.03",
          "x": 2,
          "xref": "x",
          "y": 8,
          "yref": "y"
         },
         {
          "font": {
           "color": "rgba(255, 255, 255, 0.6)",
           "size": 12
          },
          "showarrow": false,
          "text": "0.00",
          "x": 3,
          "xref": "x",
          "y": 8,
          "yref": "y"
         },
         {
          "font": {
           "color": "#FFD700",
           "size": 12
          },
          "showarrow": false,
          "text": "-0.01",
          "x": 4,
          "xref": "x",
          "y": 8,
          "yref": "y"
         },
         {
          "font": {
           "color": "#FFD700",
           "size": 12
          },
          "showarrow": false,
          "text": "0.10",
          "x": 5,
          "xref": "x",
          "y": 8,
          "yref": "y"
         },
         {
          "font": {
           "color": "#FFD700",
           "size": 12
          },
          "showarrow": false,
          "text": "0.54",
          "x": 6,
          "xref": "x",
          "y": 8,
          "yref": "y"
         },
         {
          "font": {
           "color": "#FFD700",
           "size": 12
          },
          "showarrow": false,
          "text": "0.19",
          "x": 7,
          "xref": "x",
          "y": 8,
          "yref": "y"
         },
         {
          "font": {
           "color": "rgba(255, 255, 255, 0.6)",
           "size": 12
          },
          "showarrow": false,
          "text": "1.00",
          "x": 8,
          "xref": "x",
          "y": 8,
          "yref": "y"
         },
         {
          "font": {
           "color": "#FFD700",
           "size": 12
          },
          "showarrow": false,
          "text": "0.02",
          "x": 9,
          "xref": "x",
          "y": 8,
          "yref": "y"
         },
         {
          "font": {
           "color": "#FFD700",
           "size": 12
          },
          "showarrow": false,
          "text": "0.34",
          "x": 10,
          "xref": "x",
          "y": 8,
          "yref": "y"
         },
         {
          "font": {
           "color": "#FFD700",
           "size": 12
          },
          "showarrow": false,
          "text": "-0.33",
          "x": 11,
          "xref": "x",
          "y": 8,
          "yref": "y"
         },
         {
          "font": {
           "color": "#FFD700",
           "size": 12
          },
          "showarrow": false,
          "text": "0.54",
          "x": 12,
          "xref": "x",
          "y": 8,
          "yref": "y"
         },
         {
          "font": {
           "color": "#FFD700",
           "size": 12
          },
          "showarrow": false,
          "text": "0.53",
          "x": 13,
          "xref": "x",
          "y": 8,
          "yref": "y"
         },
         {
          "font": {
           "color": "#FFD700",
           "size": 12
          },
          "showarrow": false,
          "text": "-0.03",
          "x": 14,
          "xref": "x",
          "y": 8,
          "yref": "y"
         },
         {
          "font": {
           "color": "#FFD700",
           "size": 12
          },
          "showarrow": false,
          "text": "-0.02",
          "x": 15,
          "xref": "x",
          "y": 8,
          "yref": "y"
         },
         {
          "font": {
           "color": "#FFD700",
           "size": 12
          },
          "showarrow": false,
          "text": "0.01",
          "x": 16,
          "xref": "x",
          "y": 8,
          "yref": "y"
         },
         {
          "font": {
           "color": "#FFD700",
           "size": 12
          },
          "showarrow": false,
          "text": "0.03",
          "x": 17,
          "xref": "x",
          "y": 8,
          "yref": "y"
         },
         {
          "font": {
           "color": "#FFD700",
           "size": 12
          },
          "showarrow": false,
          "text": "-0.02",
          "x": 18,
          "xref": "x",
          "y": 8,
          "yref": "y"
         },
         {
          "font": {
           "color": "#FFD700",
           "size": 12
          },
          "showarrow": false,
          "text": "0.17",
          "x": 19,
          "xref": "x",
          "y": 8,
          "yref": "y"
         },
         {
          "font": {
           "color": "rgba(255, 255, 255, 0.6)",
           "size": 12
          },
          "showarrow": false,
          "text": "0.00",
          "x": 20,
          "xref": "x",
          "y": 8,
          "yref": "y"
         },
         {
          "font": {
           "color": "#FFD700",
           "size": 12
          },
          "showarrow": false,
          "text": "0.61",
          "x": 21,
          "xref": "x",
          "y": 8,
          "yref": "y"
         },
         {
          "font": {
           "color": "#FFD700",
           "size": 12
          },
          "showarrow": false,
          "text": "0.16",
          "x": 22,
          "xref": "x",
          "y": 8,
          "yref": "y"
         },
         {
          "font": {
           "color": "#FFD700",
           "size": 12
          },
          "showarrow": false,
          "text": "0.19",
          "x": 23,
          "xref": "x",
          "y": 8,
          "yref": "y"
         },
         {
          "font": {
           "color": "#FFD700",
           "size": 12
          },
          "showarrow": false,
          "text": "0.19",
          "x": 24,
          "xref": "x",
          "y": 8,
          "yref": "y"
         },
         {
          "font": {
           "color": "#FFD700",
           "size": 12
          },
          "showarrow": false,
          "text": "0.19",
          "x": 25,
          "xref": "x",
          "y": 8,
          "yref": "y"
         },
         {
          "font": {
           "color": "#FFD700",
           "size": 12
          },
          "showarrow": false,
          "text": "0.17",
          "x": 26,
          "xref": "x",
          "y": 8,
          "yref": "y"
         },
         {
          "font": {
           "color": "#FFD700",
           "size": 12
          },
          "showarrow": false,
          "text": "-0.01",
          "x": 0,
          "xref": "x",
          "y": 9,
          "yref": "y"
         },
         {
          "font": {
           "color": "#FFD700",
           "size": 12
          },
          "showarrow": false,
          "text": "0.01",
          "x": 1,
          "xref": "x",
          "y": 9,
          "yref": "y"
         },
         {
          "font": {
           "color": "#FFD700",
           "size": 12
          },
          "showarrow": false,
          "text": "0.01",
          "x": 2,
          "xref": "x",
          "y": 9,
          "yref": "y"
         },
         {
          "font": {
           "color": "#FFD700",
           "size": 12
          },
          "showarrow": false,
          "text": "0.08",
          "x": 3,
          "xref": "x",
          "y": 9,
          "yref": "y"
         },
         {
          "font": {
           "color": "#FFD700",
           "size": 12
          },
          "showarrow": false,
          "text": "0.05",
          "x": 4,
          "xref": "x",
          "y": 9,
          "yref": "y"
         },
         {
          "font": {
           "color": "#FFD700",
           "size": 12
          },
          "showarrow": false,
          "text": "0.01",
          "x": 5,
          "xref": "x",
          "y": 9,
          "yref": "y"
         },
         {
          "font": {
           "color": "#FFD700",
           "size": 12
          },
          "showarrow": false,
          "text": "-0.01",
          "x": 6,
          "xref": "x",
          "y": 9,
          "yref": "y"
         },
         {
          "font": {
           "color": "#FFD700",
           "size": 12
          },
          "showarrow": false,
          "text": "-0.07",
          "x": 7,
          "xref": "x",
          "y": 9,
          "yref": "y"
         },
         {
          "font": {
           "color": "#FFD700",
           "size": 12
          },
          "showarrow": false,
          "text": "0.02",
          "x": 8,
          "xref": "x",
          "y": 9,
          "yref": "y"
         },
         {
          "font": {
           "color": "rgba(255, 255, 255, 0.6)",
           "size": 12
          },
          "showarrow": false,
          "text": "1.00",
          "x": 9,
          "xref": "x",
          "y": 9,
          "yref": "y"
         },
         {
          "font": {
           "color": "#FFD700",
           "size": 12
          },
          "showarrow": false,
          "text": "-0.05",
          "x": 10,
          "xref": "x",
          "y": 9,
          "yref": "y"
         },
         {
          "font": {
           "color": "#FFD700",
           "size": 12
          },
          "showarrow": false,
          "text": "0.06",
          "x": 11,
          "xref": "x",
          "y": 9,
          "yref": "y"
         },
         {
          "font": {
           "color": "#FFD700",
           "size": 12
          },
          "showarrow": false,
          "text": "-0.03",
          "x": 12,
          "xref": "x",
          "y": 9,
          "yref": "y"
         },
         {
          "font": {
           "color": "#FFD700",
           "size": 12
          },
          "showarrow": false,
          "text": "0.02",
          "x": 13,
          "xref": "x",
          "y": 9,
          "yref": "y"
         },
         {
          "font": {
           "color": "#FFD700",
           "size": 12
          },
          "showarrow": false,
          "text": "0.34",
          "x": 14,
          "xref": "x",
          "y": 9,
          "yref": "y"
         },
         {
          "font": {
           "color": "#FFD700",
           "size": 12
          },
          "showarrow": false,
          "text": "0.17",
          "x": 15,
          "xref": "x",
          "y": 9,
          "yref": "y"
         },
         {
          "font": {
           "color": "#FFD700",
           "size": 12
          },
          "showarrow": false,
          "text": "0.07",
          "x": 16,
          "xref": "x",
          "y": 9,
          "yref": "y"
         },
         {
          "font": {
           "color": "#FFD700",
           "size": 12
          },
          "showarrow": false,
          "text": "0.08",
          "x": 17,
          "xref": "x",
          "y": 9,
          "yref": "y"
         },
         {
          "font": {
           "color": "#FFD700",
           "size": 12
          },
          "showarrow": false,
          "text": "0.08",
          "x": 18,
          "xref": "x",
          "y": 9,
          "yref": "y"
         },
         {
          "font": {
           "color": "#FFD700",
           "size": 12
          },
          "showarrow": false,
          "text": "-0.01",
          "x": 19,
          "xref": "x",
          "y": 9,
          "yref": "y"
         },
         {
          "font": {
           "color": "#FFD700",
           "size": 12
          },
          "showarrow": false,
          "text": "0.12",
          "x": 20,
          "xref": "x",
          "y": 9,
          "yref": "y"
         },
         {
          "font": {
           "color": "#FFD700",
           "size": 12
          },
          "showarrow": false,
          "text": "-0.02",
          "x": 21,
          "xref": "x",
          "y": 9,
          "yref": "y"
         },
         {
          "font": {
           "color": "#FFD700",
           "size": 12
          },
          "showarrow": false,
          "text": "0.01",
          "x": 22,
          "xref": "x",
          "y": 9,
          "yref": "y"
         },
         {
          "font": {
           "color": "#FFD700",
           "size": 12
          },
          "showarrow": false,
          "text": "0.01",
          "x": 23,
          "xref": "x",
          "y": 9,
          "yref": "y"
         },
         {
          "font": {
           "color": "#FFD700",
           "size": 12
          },
          "showarrow": false,
          "text": "0.01",
          "x": 24,
          "xref": "x",
          "y": 9,
          "yref": "y"
         },
         {
          "font": {
           "color": "#FFD700",
           "size": 12
          },
          "showarrow": false,
          "text": "0.01",
          "x": 25,
          "xref": "x",
          "y": 9,
          "yref": "y"
         },
         {
          "font": {
           "color": "rgba(255, 255, 255, 0.6)",
           "size": 12
          },
          "showarrow": false,
          "text": "0.00",
          "x": 26,
          "xref": "x",
          "y": 9,
          "yref": "y"
         },
         {
          "font": {
           "color": "#FFD700",
           "size": 12
          },
          "showarrow": false,
          "text": "0.02",
          "x": 0,
          "xref": "x",
          "y": 10,
          "yref": "y"
         },
         {
          "font": {
           "color": "#FFD700",
           "size": 12
          },
          "showarrow": false,
          "text": "-0.04",
          "x": 1,
          "xref": "x",
          "y": 10,
          "yref": "y"
         },
         {
          "font": {
           "color": "#FFD700",
           "size": 12
          },
          "showarrow": false,
          "text": "-0.04",
          "x": 2,
          "xref": "x",
          "y": 10,
          "yref": "y"
         },
         {
          "font": {
           "color": "#FFD700",
           "size": 12
          },
          "showarrow": false,
          "text": "-0.01",
          "x": 3,
          "xref": "x",
          "y": 10,
          "yref": "y"
         },
         {
          "font": {
           "color": "#FFD700",
           "size": 12
          },
          "showarrow": false,
          "text": "-0.01",
          "x": 4,
          "xref": "x",
          "y": 10,
          "yref": "y"
         },
         {
          "font": {
           "color": "#FFD700",
           "size": 12
          },
          "showarrow": false,
          "text": "0.13",
          "x": 5,
          "xref": "x",
          "y": 10,
          "yref": "y"
         },
         {
          "font": {
           "color": "#FFD700",
           "size": 12
          },
          "showarrow": false,
          "text": "0.68",
          "x": 6,
          "xref": "x",
          "y": 10,
          "yref": "y"
         },
         {
          "font": {
           "color": "#FFD700",
           "size": 12
          },
          "showarrow": false,
          "text": "0.66",
          "x": 7,
          "xref": "x",
          "y": 10,
          "yref": "y"
         },
         {
          "font": {
           "color": "#FFD700",
           "size": 12
          },
          "showarrow": false,
          "text": "0.34",
          "x": 8,
          "xref": "x",
          "y": 10,
          "yref": "y"
         },
         {
          "font": {
           "color": "#FFD700",
           "size": 12
          },
          "showarrow": false,
          "text": "-0.05",
          "x": 9,
          "xref": "x",
          "y": 10,
          "yref": "y"
         },
         {
          "font": {
           "color": "rgba(255, 255, 255, 0.6)",
           "size": 12
          },
          "showarrow": false,
          "text": "1.00",
          "x": 10,
          "xref": "x",
          "y": 10,
          "yref": "y"
         },
         {
          "font": {
           "color": "#FFD700",
           "size": 12
          },
          "showarrow": false,
          "text": "-0.72",
          "x": 11,
          "xref": "x",
          "y": 10,
          "yref": "y"
         },
         {
          "font": {
           "color": "#FFD700",
           "size": 12
          },
          "showarrow": false,
          "text": "0.52",
          "x": 12,
          "xref": "x",
          "y": 10,
          "yref": "y"
         },
         {
          "font": {
           "color": "#FFD700",
           "size": 12
          },
          "showarrow": false,
          "text": "0.53",
          "x": 13,
          "xref": "x",
          "y": 10,
          "yref": "y"
         },
         {
          "font": {
           "color": "#FFD700",
           "size": 12
          },
          "showarrow": false,
          "text": "0.05",
          "x": 14,
          "xref": "x",
          "y": 10,
          "yref": "y"
         },
         {
          "font": {
           "color": "#FFD700",
           "size": 12
          },
          "showarrow": false,
          "text": "0.04",
          "x": 15,
          "xref": "x",
          "y": 10,
          "yref": "y"
         },
         {
          "font": {
           "color": "#FFD700",
           "size": 12
          },
          "showarrow": false,
          "text": "0.03",
          "x": 16,
          "xref": "x",
          "y": 10,
          "yref": "y"
         },
         {
          "font": {
           "color": "#FFD700",
           "size": 12
          },
          "showarrow": false,
          "text": "0.07",
          "x": 17,
          "xref": "x",
          "y": 10,
          "yref": "y"
         },
         {
          "font": {
           "color": "#FFD700",
           "size": 12
          },
          "showarrow": false,
          "text": "-0.06",
          "x": 18,
          "xref": "x",
          "y": 10,
          "yref": "y"
         },
         {
          "font": {
           "color": "#FFD700",
           "size": 12
          },
          "showarrow": false,
          "text": "0.28",
          "x": 19,
          "xref": "x",
          "y": 10,
          "yref": "y"
         },
         {
          "font": {
           "color": "#FFD700",
           "size": 12
          },
          "showarrow": false,
          "text": "0.06",
          "x": 20,
          "xref": "x",
          "y": 10,
          "yref": "y"
         },
         {
          "font": {
           "color": "#FFD700",
           "size": 12
          },
          "showarrow": false,
          "text": "0.57",
          "x": 21,
          "xref": "x",
          "y": 10,
          "yref": "y"
         },
         {
          "font": {
           "color": "#FFD700",
           "size": 12
          },
          "showarrow": false,
          "text": "0.22",
          "x": 22,
          "xref": "x",
          "y": 10,
          "yref": "y"
         },
         {
          "font": {
           "color": "#FFD700",
           "size": 12
          },
          "showarrow": false,
          "text": "0.20",
          "x": 23,
          "xref": "x",
          "y": 10,
          "yref": "y"
         },
         {
          "font": {
           "color": "#FFD700",
           "size": 12
          },
          "showarrow": false,
          "text": "0.18",
          "x": 24,
          "xref": "x",
          "y": 10,
          "yref": "y"
         },
         {
          "font": {
           "color": "#FFD700",
           "size": 12
          },
          "showarrow": false,
          "text": "0.17",
          "x": 25,
          "xref": "x",
          "y": 10,
          "yref": "y"
         },
         {
          "font": {
           "color": "#FFD700",
           "size": 12
          },
          "showarrow": false,
          "text": "0.16",
          "x": 26,
          "xref": "x",
          "y": 10,
          "yref": "y"
         },
         {
          "font": {
           "color": "#FFD700",
           "size": 12
          },
          "showarrow": false,
          "text": "0.01",
          "x": 0,
          "xref": "x",
          "y": 11,
          "yref": "y"
         },
         {
          "font": {
           "color": "#FFD700",
           "size": 12
          },
          "showarrow": false,
          "text": "0.04",
          "x": 1,
          "xref": "x",
          "y": 11,
          "yref": "y"
         },
         {
          "font": {
           "color": "#FFD700",
           "size": 12
          },
          "showarrow": false,
          "text": "0.05",
          "x": 2,
          "xref": "x",
          "y": 11,
          "yref": "y"
         },
         {
          "font": {
           "color": "#FFD700",
           "size": 12
          },
          "showarrow": false,
          "text": "0.02",
          "x": 3,
          "xref": "x",
          "y": 11,
          "yref": "y"
         },
         {
          "font": {
           "color": "#FFD700",
           "size": 12
          },
          "showarrow": false,
          "text": "0.03",
          "x": 4,
          "xref": "x",
          "y": 11,
          "yref": "y"
         },
         {
          "font": {
           "color": "#FFD700",
           "size": 12
          },
          "showarrow": false,
          "text": "-0.13",
          "x": 5,
          "xref": "x",
          "y": 11,
          "yref": "y"
         },
         {
          "font": {
           "color": "#FFD700",
           "size": 12
          },
          "showarrow": false,
          "text": "-0.68",
          "x": 6,
          "xref": "x",
          "y": 11,
          "yref": "y"
         },
         {
          "font": {
           "color": "#FFD700",
           "size": 12
          },
          "showarrow": false,
          "text": "-0.66",
          "x": 7,
          "xref": "x",
          "y": 11,
          "yref": "y"
         },
         {
          "font": {
           "color": "#FFD700",
           "size": 12
          },
          "showarrow": false,
          "text": "-0.33",
          "x": 8,
          "xref": "x",
          "y": 11,
          "yref": "y"
         },
         {
          "font": {
           "color": "#FFD700",
           "size": 12
          },
          "showarrow": false,
          "text": "0.06",
          "x": 9,
          "xref": "x",
          "y": 11,
          "yref": "y"
         },
         {
          "font": {
           "color": "#FFD700",
           "size": 12
          },
          "showarrow": false,
          "text": "-0.72",
          "x": 10,
          "xref": "x",
          "y": 11,
          "yref": "y"
         },
         {
          "font": {
           "color": "rgba(255, 255, 255, 0.6)",
           "size": 12
          },
          "showarrow": false,
          "text": "1.00",
          "x": 11,
          "xref": "x",
          "y": 11,
          "yref": "y"
         },
         {
          "font": {
           "color": "#FFD700",
           "size": 12
          },
          "showarrow": false,
          "text": "-0.52",
          "x": 12,
          "xref": "x",
          "y": 11,
          "yref": "y"
         },
         {
          "font": {
           "color": "#FFD700",
           "size": 12
          },
          "showarrow": false,
          "text": "-0.52",
          "x": 13,
          "xref": "x",
          "y": 11,
          "yref": "y"
         },
         {
          "font": {
           "color": "#FFD700",
           "size": 12
          },
          "showarrow": false,
          "text": "0.01",
          "x": 14,
          "xref": "x",
          "y": 11,
          "yref": "y"
         },
         {
          "font": {
           "color": "#FFD700",
           "size": 12
          },
          "showarrow": false,
          "text": "-0.01",
          "x": 15,
          "xref": "x",
          "y": 11,
          "yref": "y"
         },
         {
          "font": {
           "color": "#FFD700",
           "size": 12
          },
          "showarrow": false,
          "text": "0.03",
          "x": 16,
          "xref": "x",
          "y": 11,
          "yref": "y"
         },
         {
          "font": {
           "color": "#FFD700",
           "size": 12
          },
          "showarrow": false,
          "text": "-0.07",
          "x": 17,
          "xref": "x",
          "y": 11,
          "yref": "y"
         },
         {
          "font": {
           "color": "#FFD700",
           "size": 12
          },
          "showarrow": false,
          "text": "0.06",
          "x": 18,
          "xref": "x",
          "y": 11,
          "yref": "y"
         },
         {
          "font": {
           "color": "#FFD700",
           "size": 12
          },
          "showarrow": false,
          "text": "-0.28",
          "x": 19,
          "xref": "x",
          "y": 11,
          "yref": "y"
         },
         {
          "font": {
           "color": "#FFD700",
           "size": 12
          },
          "showarrow": false,
          "text": "0.03",
          "x": 20,
          "xref": "x",
          "y": 11,
          "yref": "y"
         },
         {
          "font": {
           "color": "#FFD700",
           "size": 12
          },
          "showarrow": false,
          "text": "-0.56",
          "x": 21,
          "xref": "x",
          "y": 11,
          "yref": "y"
         },
         {
          "font": {
           "color": "#FFD700",
           "size": 12
          },
          "showarrow": false,
          "text": "-0.21",
          "x": 22,
          "xref": "x",
          "y": 11,
          "yref": "y"
         },
         {
          "font": {
           "color": "#FFD700",
           "size": 12
          },
          "showarrow": false,
          "text": "-0.19",
          "x": 23,
          "xref": "x",
          "y": 11,
          "yref": "y"
         },
         {
          "font": {
           "color": "#FFD700",
           "size": 12
          },
          "showarrow": false,
          "text": "-0.18",
          "x": 24,
          "xref": "x",
          "y": 11,
          "yref": "y"
         },
         {
          "font": {
           "color": "#FFD700",
           "size": 12
          },
          "showarrow": false,
          "text": "-0.17",
          "x": 25,
          "xref": "x",
          "y": 11,
          "yref": "y"
         },
         {
          "font": {
           "color": "#FFD700",
           "size": 12
          },
          "showarrow": false,
          "text": "-0.16",
          "x": 26,
          "xref": "x",
          "y": 11,
          "yref": "y"
         },
         {
          "font": {
           "color": "#FFD700",
           "size": 12
          },
          "showarrow": false,
          "text": "-0.24",
          "x": 0,
          "xref": "x",
          "y": 12,
          "yref": "y"
         },
         {
          "font": {
           "color": "#FFD700",
           "size": 12
          },
          "showarrow": false,
          "text": "-0.03",
          "x": 1,
          "xref": "x",
          "y": 12,
          "yref": "y"
         },
         {
          "font": {
           "color": "#FFD700",
           "size": 12
          },
          "showarrow": false,
          "text": "-0.04",
          "x": 2,
          "xref": "x",
          "y": 12,
          "yref": "y"
         },
         {
          "font": {
           "color": "rgba(255, 255, 255, 0.6)",
           "size": 12
          },
          "showarrow": false,
          "text": "0.00",
          "x": 3,
          "xref": "x",
          "y": 12,
          "yref": "y"
         },
         {
          "font": {
           "color": "#FFD700",
           "size": 12
          },
          "showarrow": false,
          "text": "-0.01",
          "x": 4,
          "xref": "x",
          "y": 12,
          "yref": "y"
         },
         {
          "font": {
           "color": "#FFD700",
           "size": 12
          },
          "showarrow": false,
          "text": "0.10",
          "x": 5,
          "xref": "x",
          "y": 12,
          "yref": "y"
         },
         {
          "font": {
           "color": "#FFD700",
           "size": 12
          },
          "showarrow": false,
          "text": "0.62",
          "x": 6,
          "xref": "x",
          "y": 12,
          "yref": "y"
         },
         {
          "font": {
           "color": "#FFD700",
           "size": 12
          },
          "showarrow": false,
          "text": "0.45",
          "x": 7,
          "xref": "x",
          "y": 12,
          "yref": "y"
         },
         {
          "font": {
           "color": "#FFD700",
           "size": 12
          },
          "showarrow": false,
          "text": "0.54",
          "x": 8,
          "xref": "x",
          "y": 12,
          "yref": "y"
         },
         {
          "font": {
           "color": "#FFD700",
           "size": 12
          },
          "showarrow": false,
          "text": "-0.03",
          "x": 9,
          "xref": "x",
          "y": 12,
          "yref": "y"
         },
         {
          "font": {
           "color": "#FFD700",
           "size": 12
          },
          "showarrow": false,
          "text": "0.52",
          "x": 10,
          "xref": "x",
          "y": 12,
          "yref": "y"
         },
         {
          "font": {
           "color": "#FFD700",
           "size": 12
          },
          "showarrow": false,
          "text": "-0.52",
          "x": 11,
          "xref": "x",
          "y": 12,
          "yref": "y"
         },
         {
          "font": {
           "color": "rgba(255, 255, 255, 0.6)",
           "size": 12
          },
          "showarrow": false,
          "text": "1.00",
          "x": 12,
          "xref": "x",
          "y": 12,
          "yref": "y"
         },
         {
          "font": {
           "color": "#FFD700",
           "size": 12
          },
          "showarrow": false,
          "text": "0.35",
          "x": 13,
          "xref": "x",
          "y": 12,
          "yref": "y"
         },
         {
          "font": {
           "color": "#FFD700",
           "size": 12
          },
          "showarrow": false,
          "text": "-0.03",
          "x": 14,
          "xref": "x",
          "y": 12,
          "yref": "y"
         },
         {
          "font": {
           "color": "#FFD700",
           "size": 12
          },
          "showarrow": false,
          "text": "-0.14",
          "x": 15,
          "xref": "x",
          "y": 12,
          "yref": "y"
         },
         {
          "font": {
           "color": "#FFD700",
           "size": 12
          },
          "showarrow": false,
          "text": "0.38",
          "x": 16,
          "xref": "x",
          "y": 12,
          "yref": "y"
         },
         {
          "font": {
           "color": "#FFD700",
           "size": 12
          },
          "showarrow": false,
          "text": "0.37",
          "x": 17,
          "xref": "x",
          "y": 12,
          "yref": "y"
         },
         {
          "font": {
           "color": "#FFD700",
           "size": 12
          },
          "showarrow": false,
          "text": "0.23",
          "x": 18,
          "xref": "x",
          "y": 12,
          "yref": "y"
         },
         {
          "font": {
           "color": "#FFD700",
           "size": 12
          },
          "showarrow": false,
          "text": "0.16",
          "x": 19,
          "xref": "x",
          "y": 12,
          "yref": "y"
         },
         {
          "font": {
           "color": "#FFD700",
           "size": 12
          },
          "showarrow": false,
          "text": "0.02",
          "x": 20,
          "xref": "x",
          "y": 12,
          "yref": "y"
         },
         {
          "font": {
           "color": "#FFD700",
           "size": 12
          },
          "showarrow": false,
          "text": "0.59",
          "x": 21,
          "xref": "x",
          "y": 12,
          "yref": "y"
         },
         {
          "font": {
           "color": "#FFD700",
           "size": 12
          },
          "showarrow": false,
          "text": "0.26",
          "x": 22,
          "xref": "x",
          "y": 12,
          "yref": "y"
         },
         {
          "font": {
           "color": "#FFD700",
           "size": 12
          },
          "showarrow": false,
          "text": "0.21",
          "x": 23,
          "xref": "x",
          "y": 12,
          "yref": "y"
         },
         {
          "font": {
           "color": "#FFD700",
           "size": 12
          },
          "showarrow": false,
          "text": "0.18",
          "x": 24,
          "xref": "x",
          "y": 12,
          "yref": "y"
         },
         {
          "font": {
           "color": "#FFD700",
           "size": 12
          },
          "showarrow": false,
          "text": "0.15",
          "x": 25,
          "xref": "x",
          "y": 12,
          "yref": "y"
         },
         {
          "font": {
           "color": "#FFD700",
           "size": 12
          },
          "showarrow": false,
          "text": "0.13",
          "x": 26,
          "xref": "x",
          "y": 12,
          "yref": "y"
         },
         {
          "font": {
           "color": "#FFD700",
           "size": 12
          },
          "showarrow": false,
          "text": "0.24",
          "x": 0,
          "xref": "x",
          "y": 13,
          "yref": "y"
         },
         {
          "font": {
           "color": "#FFD700",
           "size": 12
          },
          "showarrow": false,
          "text": "-0.03",
          "x": 1,
          "xref": "x",
          "y": 13,
          "yref": "y"
         },
         {
          "font": {
           "color": "#FFD700",
           "size": 12
          },
          "showarrow": false,
          "text": "-0.04",
          "x": 2,
          "xref": "x",
          "y": 13,
          "yref": "y"
         },
         {
          "font": {
           "color": "#FFD700",
           "size": 12
          },
          "showarrow": false,
          "text": "-0.01",
          "x": 3,
          "xref": "x",
          "y": 13,
          "yref": "y"
         },
         {
          "font": {
           "color": "#FFD700",
           "size": 12
          },
          "showarrow": false,
          "text": "-0.01",
          "x": 4,
          "xref": "x",
          "y": 13,
          "yref": "y"
         },
         {
          "font": {
           "color": "#FFD700",
           "size": 12
          },
          "showarrow": false,
          "text": "0.10",
          "x": 5,
          "xref": "x",
          "y": 13,
          "yref": "y"
         },
         {
          "font": {
           "color": "#FFD700",
           "size": 12
          },
          "showarrow": false,
          "text": "0.61",
          "x": 6,
          "xref": "x",
          "y": 13,
          "yref": "y"
         },
         {
          "font": {
           "color": "#FFD700",
           "size": 12
          },
          "showarrow": false,
          "text": "0.43",
          "x": 7,
          "xref": "x",
          "y": 13,
          "yref": "y"
         },
         {
          "font": {
           "color": "#FFD700",
           "size": 12
          },
          "showarrow": false,
          "text": "0.53",
          "x": 8,
          "xref": "x",
          "y": 13,
          "yref": "y"
         },
         {
          "font": {
           "color": "#FFD700",
           "size": 12
          },
          "showarrow": false,
          "text": "0.02",
          "x": 9,
          "xref": "x",
          "y": 13,
          "yref": "y"
         },
         {
          "font": {
           "color": "#FFD700",
           "size": 12
          },
          "showarrow": false,
          "text": "0.53",
          "x": 10,
          "xref": "x",
          "y": 13,
          "yref": "y"
         },
         {
          "font": {
           "color": "#FFD700",
           "size": 12
          },
          "showarrow": false,
          "text": "-0.52",
          "x": 11,
          "xref": "x",
          "y": 13,
          "yref": "y"
         },
         {
          "font": {
           "color": "#FFD700",
           "size": 12
          },
          "showarrow": false,
          "text": "0.35",
          "x": 12,
          "xref": "x",
          "y": 13,
          "yref": "y"
         },
         {
          "font": {
           "color": "rgba(255, 255, 255, 0.6)",
           "size": 12
          },
          "showarrow": false,
          "text": "1.00",
          "x": 13,
          "xref": "x",
          "y": 13,
          "yref": "y"
         },
         {
          "font": {
           "color": "#FFD700",
           "size": 12
          },
          "showarrow": false,
          "text": "0.03",
          "x": 14,
          "xref": "x",
          "y": 13,
          "yref": "y"
         },
         {
          "font": {
           "color": "#FFD700",
           "size": 12
          },
          "showarrow": false,
          "text": "0.11",
          "x": 15,
          "xref": "x",
          "y": 13,
          "yref": "y"
         },
         {
          "font": {
           "color": "#FFD700",
           "size": 12
          },
          "showarrow": false,
          "text": "-0.36",
          "x": 16,
          "xref": "x",
          "y": 13,
          "yref": "y"
         },
         {
          "font": {
           "color": "#FFD700",
           "size": 12
          },
          "showarrow": false,
          "text": "-0.20",
          "x": 17,
          "xref": "x",
          "y": 13,
          "yref": "y"
         },
         {
          "font": {
           "color": "#FFD700",
           "size": 12
          },
          "showarrow": false,
          "text": "-0.36",
          "x": 18,
          "xref": "x",
          "y": 13,
          "yref": "y"
         },
         {
          "font": {
           "color": "#FFD700",
           "size": 12
          },
          "showarrow": false,
          "text": "0.17",
          "x": 19,
          "xref": "x",
          "y": 13,
          "yref": "y"
         },
         {
          "font": {
           "color": "#FFD700",
           "size": 12
          },
          "showarrow": false,
          "text": "0.01",
          "x": 20,
          "xref": "x",
          "y": 13,
          "yref": "y"
         },
         {
          "font": {
           "color": "#FFD700",
           "size": 12
          },
          "showarrow": false,
          "text": "0.57",
          "x": 21,
          "xref": "x",
          "y": 13,
          "yref": "y"
         },
         {
          "font": {
           "color": "#FFD700",
           "size": 12
          },
          "showarrow": false,
          "text": "0.27",
          "x": 22,
          "xref": "x",
          "y": 13,
          "yref": "y"
         },
         {
          "font": {
           "color": "#FFD700",
           "size": 12
          },
          "showarrow": false,
          "text": "0.21",
          "x": 23,
          "xref": "x",
          "y": 13,
          "yref": "y"
         },
         {
          "font": {
           "color": "#FFD700",
           "size": 12
          },
          "showarrow": false,
          "text": "0.17",
          "x": 24,
          "xref": "x",
          "y": 13,
          "yref": "y"
         },
         {
          "font": {
           "color": "#FFD700",
           "size": 12
          },
          "showarrow": false,
          "text": "0.15",
          "x": 25,
          "xref": "x",
          "y": 13,
          "yref": "y"
         },
         {
          "font": {
           "color": "#FFD700",
           "size": 12
          },
          "showarrow": false,
          "text": "0.13",
          "x": 26,
          "xref": "x",
          "y": 13,
          "yref": "y"
         },
         {
          "font": {
           "color": "#FFD700",
           "size": 12
          },
          "showarrow": false,
          "text": "0.01",
          "x": 0,
          "xref": "x",
          "y": 14,
          "yref": "y"
         },
         {
          "font": {
           "color": "#FFD700",
           "size": 12
          },
          "showarrow": false,
          "text": "0.01",
          "x": 1,
          "xref": "x",
          "y": 14,
          "yref": "y"
         },
         {
          "font": {
           "color": "#FFD700",
           "size": 12
          },
          "showarrow": false,
          "text": "0.01",
          "x": 2,
          "xref": "x",
          "y": 14,
          "yref": "y"
         },
         {
          "font": {
           "color": "#FFD700",
           "size": 12
          },
          "showarrow": false,
          "text": "0.03",
          "x": 3,
          "xref": "x",
          "y": 14,
          "yref": "y"
         },
         {
          "font": {
           "color": "#FFD700",
           "size": 12
          },
          "showarrow": false,
          "text": "0.06",
          "x": 4,
          "xref": "x",
          "y": 14,
          "yref": "y"
         },
         {
          "font": {
           "color": "#FFD700",
           "size": 12
          },
          "showarrow": false,
          "text": "0.01",
          "x": 5,
          "xref": "x",
          "y": 14,
          "yref": "y"
         },
         {
          "font": {
           "color": "#FFD700",
           "size": 12
          },
          "showarrow": false,
          "text": "0.01",
          "x": 6,
          "xref": "x",
          "y": 14,
          "yref": "y"
         },
         {
          "font": {
           "color": "#FFD700",
           "size": 12
          },
          "showarrow": false,
          "text": "0.01",
          "x": 7,
          "xref": "x",
          "y": 14,
          "yref": "y"
         },
         {
          "font": {
           "color": "#FFD700",
           "size": 12
          },
          "showarrow": false,
          "text": "-0.03",
          "x": 8,
          "xref": "x",
          "y": 14,
          "yref": "y"
         },
         {
          "font": {
           "color": "#FFD700",
           "size": 12
          },
          "showarrow": false,
          "text": "0.34",
          "x": 9,
          "xref": "x",
          "y": 14,
          "yref": "y"
         },
         {
          "font": {
           "color": "#FFD700",
           "size": 12
          },
          "showarrow": false,
          "text": "0.05",
          "x": 10,
          "xref": "x",
          "y": 14,
          "yref": "y"
         },
         {
          "font": {
           "color": "#FFD700",
           "size": 12
          },
          "showarrow": false,
          "text": "0.01",
          "x": 11,
          "xref": "x",
          "y": 14,
          "yref": "y"
         },
         {
          "font": {
           "color": "#FFD700",
           "size": 12
          },
          "showarrow": false,
          "text": "-0.03",
          "x": 12,
          "xref": "x",
          "y": 14,
          "yref": "y"
         },
         {
          "font": {
           "color": "#FFD700",
           "size": 12
          },
          "showarrow": false,
          "text": "0.03",
          "x": 13,
          "xref": "x",
          "y": 14,
          "yref": "y"
         },
         {
          "font": {
           "color": "rgba(255, 255, 255, 0.6)",
           "size": 12
          },
          "showarrow": false,
          "text": "1.00",
          "x": 14,
          "xref": "x",
          "y": 14,
          "yref": "y"
         },
         {
          "font": {
           "color": "#FFD700",
           "size": 12
          },
          "showarrow": false,
          "text": "0.24",
          "x": 15,
          "xref": "x",
          "y": 14,
          "yref": "y"
         },
         {
          "font": {
           "color": "#FFD700",
           "size": 12
          },
          "showarrow": false,
          "text": "0.03",
          "x": 16,
          "xref": "x",
          "y": 14,
          "yref": "y"
         },
         {
          "font": {
           "color": "#FFD700",
           "size": 12
          },
          "showarrow": false,
          "text": "0.06",
          "x": 17,
          "xref": "x",
          "y": 14,
          "yref": "y"
         },
         {
          "font": {
           "color": "#FFD700",
           "size": 12
          },
          "showarrow": false,
          "text": "0.05",
          "x": 18,
          "xref": "x",
          "y": 14,
          "yref": "y"
         },
         {
          "font": {
           "color": "#FFD700",
           "size": 12
          },
          "showarrow": false,
          "text": "-0.01",
          "x": 19,
          "xref": "x",
          "y": 14,
          "yref": "y"
         },
         {
          "font": {
           "color": "#FFD700",
           "size": 12
          },
          "showarrow": false,
          "text": "0.17",
          "x": 20,
          "xref": "x",
          "y": 14,
          "yref": "y"
         },
         {
          "font": {
           "color": "#FFD700",
           "size": 12
          },
          "showarrow": false,
          "text": "-0.01",
          "x": 21,
          "xref": "x",
          "y": 14,
          "yref": "y"
         },
         {
          "font": {
           "color": "rgba(255, 255, 255, 0.6)",
           "size": 12
          },
          "showarrow": false,
          "text": "0.00",
          "x": 22,
          "xref": "x",
          "y": 14,
          "yref": "y"
         },
         {
          "font": {
           "color": "rgba(255, 255, 255, 0.6)",
           "size": 12
          },
          "showarrow": false,
          "text": "0.00",
          "x": 23,
          "xref": "x",
          "y": 14,
          "yref": "y"
         },
         {
          "font": {
           "color": "rgba(255, 255, 255, 0.6)",
           "size": 12
          },
          "showarrow": false,
          "text": "0.00",
          "x": 24,
          "xref": "x",
          "y": 14,
          "yref": "y"
         },
         {
          "font": {
           "color": "rgba(255, 255, 255, 0.6)",
           "size": 12
          },
          "showarrow": false,
          "text": "0.00",
          "x": 25,
          "xref": "x",
          "y": 14,
          "yref": "y"
         },
         {
          "font": {
           "color": "rgba(255, 255, 255, 0.6)",
           "size": 12
          },
          "showarrow": false,
          "text": "0.00",
          "x": 26,
          "xref": "x",
          "y": 14,
          "yref": "y"
         },
         {
          "font": {
           "color": "#FFD700",
           "size": 12
          },
          "showarrow": false,
          "text": "0.31",
          "x": 0,
          "xref": "x",
          "y": 15,
          "yref": "y"
         },
         {
          "font": {
           "color": "#FFD700",
           "size": 12
          },
          "showarrow": false,
          "text": "0.01",
          "x": 1,
          "xref": "x",
          "y": 15,
          "yref": "y"
         },
         {
          "font": {
           "color": "rgba(255, 255, 255, 0.6)",
           "size": 12
          },
          "showarrow": false,
          "text": "0.00",
          "x": 2,
          "xref": "x",
          "y": 15,
          "yref": "y"
         },
         {
          "font": {
           "color": "#FFD700",
           "size": 12
          },
          "showarrow": false,
          "text": "0.12",
          "x": 3,
          "xref": "x",
          "y": 15,
          "yref": "y"
         },
         {
          "font": {
           "color": "#FFD700",
           "size": 12
          },
          "showarrow": false,
          "text": "0.01",
          "x": 4,
          "xref": "x",
          "y": 15,
          "yref": "y"
         },
         {
          "font": {
           "color": "#FFD700",
           "size": 12
          },
          "showarrow": false,
          "text": "-0.01",
          "x": 5,
          "xref": "x",
          "y": 15,
          "yref": "y"
         },
         {
          "font": {
           "color": "#FFD700",
           "size": 12
          },
          "showarrow": false,
          "text": "-0.01",
          "x": 6,
          "xref": "x",
          "y": 15,
          "yref": "y"
         },
         {
          "font": {
           "color": "#FFD700",
           "size": 12
          },
          "showarrow": false,
          "text": "0.02",
          "x": 7,
          "xref": "x",
          "y": 15,
          "yref": "y"
         },
         {
          "font": {
           "color": "#FFD700",
           "size": 12
          },
          "showarrow": false,
          "text": "-0.02",
          "x": 8,
          "xref": "x",
          "y": 15,
          "yref": "y"
         },
         {
          "font": {
           "color": "#FFD700",
           "size": 12
          },
          "showarrow": false,
          "text": "0.17",
          "x": 9,
          "xref": "x",
          "y": 15,
          "yref": "y"
         },
         {
          "font": {
           "color": "#FFD700",
           "size": 12
          },
          "showarrow": false,
          "text": "0.04",
          "x": 10,
          "xref": "x",
          "y": 15,
          "yref": "y"
         },
         {
          "font": {
           "color": "#FFD700",
           "size": 12
          },
          "showarrow": false,
          "text": "-0.01",
          "x": 11,
          "xref": "x",
          "y": 15,
          "yref": "y"
         },
         {
          "font": {
           "color": "#FFD700",
           "size": 12
          },
          "showarrow": false,
          "text": "-0.14",
          "x": 12,
          "xref": "x",
          "y": 15,
          "yref": "y"
         },
         {
          "font": {
           "color": "#FFD700",
           "size": 12
          },
          "showarrow": false,
          "text": "0.11",
          "x": 13,
          "xref": "x",
          "y": 15,
          "yref": "y"
         },
         {
          "font": {
           "color": "#FFD700",
           "size": 12
          },
          "showarrow": false,
          "text": "0.24",
          "x": 14,
          "xref": "x",
          "y": 15,
          "yref": "y"
         },
         {
          "font": {
           "color": "rgba(255, 255, 255, 0.6)",
           "size": 12
          },
          "showarrow": false,
          "text": "1.00",
          "x": 15,
          "xref": "x",
          "y": 15,
          "yref": "y"
         },
         {
          "font": {
           "color": "#FFD700",
           "size": 12
          },
          "showarrow": false,
          "text": "-0.24",
          "x": 16,
          "xref": "x",
          "y": 15,
          "yref": "y"
         },
         {
          "font": {
           "color": "#FFD700",
           "size": 12
          },
          "showarrow": false,
          "text": "-0.18",
          "x": 17,
          "xref": "x",
          "y": 15,
          "yref": "y"
         },
         {
          "font": {
           "color": "#FFD700",
           "size": 12
          },
          "showarrow": false,
          "text": "-0.20",
          "x": 18,
          "xref": "x",
          "y": 15,
          "yref": "y"
         },
         {
          "font": {
           "color": "#FFD700",
           "size": 12
          },
          "showarrow": false,
          "text": "0.03",
          "x": 19,
          "xref": "x",
          "y": 15,
          "yref": "y"
         },
         {
          "font": {
           "color": "#FFD700",
           "size": 12
          },
          "showarrow": false,
          "text": "0.04",
          "x": 20,
          "xref": "x",
          "y": 15,
          "yref": "y"
         },
         {
          "font": {
           "color": "#FFD700",
           "size": 12
          },
          "showarrow": false,
          "text": "-0.01",
          "x": 21,
          "xref": "x",
          "y": 15,
          "yref": "y"
         },
         {
          "font": {
           "color": "#FFD700",
           "size": 12
          },
          "showarrow": false,
          "text": "-0.02",
          "x": 22,
          "xref": "x",
          "y": 15,
          "yref": "y"
         },
         {
          "font": {
           "color": "rgba(255, 255, 255, 0.6)",
           "size": 12
          },
          "showarrow": false,
          "text": "-0.00",
          "x": 23,
          "xref": "x",
          "y": 15,
          "yref": "y"
         },
         {
          "font": {
           "color": "rgba(255, 255, 255, 0.6)",
           "size": 12
          },
          "showarrow": false,
          "text": "0.00",
          "x": 24,
          "xref": "x",
          "y": 15,
          "yref": "y"
         },
         {
          "font": {
           "color": "rgba(255, 255, 255, 0.6)",
           "size": 12
          },
          "showarrow": false,
          "text": "0.00",
          "x": 25,
          "xref": "x",
          "y": 15,
          "yref": "y"
         },
         {
          "font": {
           "color": "rgba(255, 255, 255, 0.6)",
           "size": 12
          },
          "showarrow": false,
          "text": "0.00",
          "x": 26,
          "xref": "x",
          "y": 15,
          "yref": "y"
         },
         {
          "font": {
           "color": "#FFD700",
           "size": 12
          },
          "showarrow": false,
          "text": "-0.51",
          "x": 0,
          "xref": "x",
          "y": 16,
          "yref": "y"
         },
         {
          "font": {
           "color": "#FFD700",
           "size": 12
          },
          "showarrow": false,
          "text": "0.01",
          "x": 1,
          "xref": "x",
          "y": 16,
          "yref": "y"
         },
         {
          "font": {
           "color": "#FFD700",
           "size": 12
          },
          "showarrow": false,
          "text": "0.01",
          "x": 2,
          "xref": "x",
          "y": 16,
          "yref": "y"
         },
         {
          "font": {
           "color": "#FFD700",
           "size": 12
          },
          "showarrow": false,
          "text": "0.03",
          "x": 3,
          "xref": "x",
          "y": 16,
          "yref": "y"
         },
         {
          "font": {
           "color": "rgba(255, 255, 255, 0.6)",
           "size": 12
          },
          "showarrow": false,
          "text": "-0.00",
          "x": 4,
          "xref": "x",
          "y": 16,
          "yref": "y"
         },
         {
          "font": {
           "color": "rgba(255, 255, 255, 0.6)",
           "size": 12
          },
          "showarrow": false,
          "text": "0.00",
          "x": 5,
          "xref": "x",
          "y": 16,
          "yref": "y"
         },
         {
          "font": {
           "color": "#FFD700",
           "size": 12
          },
          "showarrow": false,
          "text": "0.01",
          "x": 6,
          "xref": "x",
          "y": 16,
          "yref": "y"
         },
         {
          "font": {
           "color": "#FFD700",
           "size": 12
          },
          "showarrow": false,
          "text": "0.02",
          "x": 7,
          "xref": "x",
          "y": 16,
          "yref": "y"
         },
         {
          "font": {
           "color": "#FFD700",
           "size": 12
          },
          "showarrow": false,
          "text": "0.01",
          "x": 8,
          "xref": "x",
          "y": 16,
          "yref": "y"
         },
         {
          "font": {
           "color": "#FFD700",
           "size": 12
          },
          "showarrow": false,
          "text": "0.07",
          "x": 9,
          "xref": "x",
          "y": 16,
          "yref": "y"
         },
         {
          "font": {
           "color": "#FFD700",
           "size": 12
          },
          "showarrow": false,
          "text": "0.03",
          "x": 10,
          "xref": "x",
          "y": 16,
          "yref": "y"
         },
         {
          "font": {
           "color": "#FFD700",
           "size": 12
          },
          "showarrow": false,
          "text": "0.03",
          "x": 11,
          "xref": "x",
          "y": 16,
          "yref": "y"
         },
         {
          "font": {
           "color": "#FFD700",
           "size": 12
          },
          "showarrow": false,
          "text": "0.38",
          "x": 12,
          "xref": "x",
          "y": 16,
          "yref": "y"
         },
         {
          "font": {
           "color": "#FFD700",
           "size": 12
          },
          "showarrow": false,
          "text": "-0.36",
          "x": 13,
          "xref": "x",
          "y": 16,
          "yref": "y"
         },
         {
          "font": {
           "color": "#FFD700",
           "size": 12
          },
          "showarrow": false,
          "text": "0.03",
          "x": 14,
          "xref": "x",
          "y": 16,
          "yref": "y"
         },
         {
          "font": {
           "color": "#FFD700",
           "size": 12
          },
          "showarrow": false,
          "text": "-0.24",
          "x": 15,
          "xref": "x",
          "y": 16,
          "yref": "y"
         },
         {
          "font": {
           "color": "rgba(255, 255, 255, 0.6)",
           "size": 12
          },
          "showarrow": false,
          "text": "1.00",
          "x": 16,
          "xref": "x",
          "y": 16,
          "yref": "y"
         },
         {
          "font": {
           "color": "#FFD700",
           "size": 12
          },
          "showarrow": false,
          "text": "0.62",
          "x": 17,
          "xref": "x",
          "y": 16,
          "yref": "y"
         },
         {
          "font": {
           "color": "#FFD700",
           "size": 12
          },
          "showarrow": false,
          "text": "0.66",
          "x": 18,
          "xref": "x",
          "y": 16,
          "yref": "y"
         },
         {
          "font": {
           "color": "#FFD700",
           "size": 12
          },
          "showarrow": false,
          "text": "-0.01",
          "x": 19,
          "xref": "x",
          "y": 16,
          "yref": "y"
         },
         {
          "font": {
           "color": "#FFD700",
           "size": 12
          },
          "showarrow": false,
          "text": "0.05",
          "x": 20,
          "xref": "x",
          "y": 16,
          "yref": "y"
         },
         {
          "font": {
           "color": "#FFD700",
           "size": 12
          },
          "showarrow": false,
          "text": "0.01",
          "x": 21,
          "xref": "x",
          "y": 16,
          "yref": "y"
         },
         {
          "font": {
           "color": "rgba(255, 255, 255, 0.6)",
           "size": 12
          },
          "showarrow": false,
          "text": "0.00",
          "x": 22,
          "xref": "x",
          "y": 16,
          "yref": "y"
         },
         {
          "font": {
           "color": "rgba(255, 255, 255, 0.6)",
           "size": 12
          },
          "showarrow": false,
          "text": "0.00",
          "x": 23,
          "xref": "x",
          "y": 16,
          "yref": "y"
         },
         {
          "font": {
           "color": "#FFD700",
           "size": 12
          },
          "showarrow": false,
          "text": "0.01",
          "x": 24,
          "xref": "x",
          "y": 16,
          "yref": "y"
         },
         {
          "font": {
           "color": "#FFD700",
           "size": 12
          },
          "showarrow": false,
          "text": "0.00",
          "x": 25,
          "xref": "x",
          "y": 16,
          "yref": "y"
         },
         {
          "font": {
           "color": "#FFD700",
           "size": 12
          },
          "showarrow": false,
          "text": "0.01",
          "x": 26,
          "xref": "x",
          "y": 16,
          "yref": "y"
         },
         {
          "font": {
           "color": "#FFD700",
           "size": 12
          },
          "showarrow": false,
          "text": "-0.39",
          "x": 0,
          "xref": "x",
          "y": 17,
          "yref": "y"
         },
         {
          "font": {
           "color": "#FFD700",
           "size": 12
          },
          "showarrow": false,
          "text": "0.02",
          "x": 1,
          "xref": "x",
          "y": 17,
          "yref": "y"
         },
         {
          "font": {
           "color": "#FFD700",
           "size": 12
          },
          "showarrow": false,
          "text": "0.02",
          "x": 2,
          "xref": "x",
          "y": 17,
          "yref": "y"
         },
         {
          "font": {
           "color": "#FFD700",
           "size": 12
          },
          "showarrow": false,
          "text": "0.05",
          "x": 3,
          "xref": "x",
          "y": 17,
          "yref": "y"
         },
         {
          "font": {
           "color": "rgba(255, 255, 255, 0.6)",
           "size": 12
          },
          "showarrow": false,
          "text": "0.00",
          "x": 4,
          "xref": "x",
          "y": 17,
          "yref": "y"
         },
         {
          "font": {
           "color": "#FFD700",
           "size": 12
          },
          "showarrow": false,
          "text": "0.04",
          "x": 5,
          "xref": "x",
          "y": 17,
          "yref": "y"
         },
         {
          "font": {
           "color": "#FFD700",
           "size": 12
          },
          "showarrow": false,
          "text": "0.06",
          "x": 6,
          "xref": "x",
          "y": 17,
          "yref": "y"
         },
         {
          "font": {
           "color": "#FFD700",
           "size": 12
          },
          "showarrow": false,
          "text": "0.05",
          "x": 7,
          "xref": "x",
          "y": 17,
          "yref": "y"
         },
         {
          "font": {
           "color": "#FFD700",
           "size": 12
          },
          "showarrow": false,
          "text": "0.03",
          "x": 8,
          "xref": "x",
          "y": 17,
          "yref": "y"
         },
         {
          "font": {
           "color": "#FFD700",
           "size": 12
          },
          "showarrow": false,
          "text": "0.08",
          "x": 9,
          "xref": "x",
          "y": 17,
          "yref": "y"
         },
         {
          "font": {
           "color": "#FFD700",
           "size": 12
          },
          "showarrow": false,
          "text": "0.07",
          "x": 10,
          "xref": "x",
          "y": 17,
          "yref": "y"
         },
         {
          "font": {
           "color": "#FFD700",
           "size": 12
          },
          "showarrow": false,
          "text": "-0.07",
          "x": 11,
          "xref": "x",
          "y": 17,
          "yref": "y"
         },
         {
          "font": {
           "color": "#FFD700",
           "size": 12
          },
          "showarrow": false,
          "text": "0.37",
          "x": 12,
          "xref": "x",
          "y": 17,
          "yref": "y"
         },
         {
          "font": {
           "color": "#FFD700",
           "size": 12
          },
          "showarrow": false,
          "text": "-0.20",
          "x": 13,
          "xref": "x",
          "y": 17,
          "yref": "y"
         },
         {
          "font": {
           "color": "#FFD700",
           "size": 12
          },
          "showarrow": false,
          "text": "0.06",
          "x": 14,
          "xref": "x",
          "y": 17,
          "yref": "y"
         },
         {
          "font": {
           "color": "#FFD700",
           "size": 12
          },
          "showarrow": false,
          "text": "-0.18",
          "x": 15,
          "xref": "x",
          "y": 17,
          "yref": "y"
         },
         {
          "font": {
           "color": "#FFD700",
           "size": 12
          },
          "showarrow": false,
          "text": "0.62",
          "x": 16,
          "xref": "x",
          "y": 17,
          "yref": "y"
         },
         {
          "font": {
           "color": "rgba(255, 255, 255, 0.6)",
           "size": 12
          },
          "showarrow": false,
          "text": "1.00",
          "x": 17,
          "xref": "x",
          "y": 17,
          "yref": "y"
         },
         {
          "font": {
           "color": "#FFD700",
           "size": 12
          },
          "showarrow": false,
          "text": "0.56",
          "x": 18,
          "xref": "x",
          "y": 17,
          "yref": "y"
         },
         {
          "font": {
           "color": "#FFD700",
           "size": 12
          },
          "showarrow": false,
          "text": "0.01",
          "x": 19,
          "xref": "x",
          "y": 17,
          "yref": "y"
         },
         {
          "font": {
           "color": "#FFD700",
           "size": 12
          },
          "showarrow": false,
          "text": "0.08",
          "x": 20,
          "xref": "x",
          "y": 17,
          "yref": "y"
         },
         {
          "font": {
           "color": "#FFD700",
           "size": 12
          },
          "showarrow": false,
          "text": "0.05",
          "x": 21,
          "xref": "x",
          "y": 17,
          "yref": "y"
         },
         {
          "font": {
           "color": "#FFD700",
           "size": 12
          },
          "showarrow": false,
          "text": "0.01",
          "x": 22,
          "xref": "x",
          "y": 17,
          "yref": "y"
         },
         {
          "font": {
           "color": "rgba(255, 255, 255, 0.6)",
           "size": 12
          },
          "showarrow": false,
          "text": "0.00",
          "x": 23,
          "xref": "x",
          "y": 17,
          "yref": "y"
         },
         {
          "font": {
           "color": "#FFD700",
           "size": 12
          },
          "showarrow": false,
          "text": "0.01",
          "x": 24,
          "xref": "x",
          "y": 17,
          "yref": "y"
         },
         {
          "font": {
           "color": "#FFD700",
           "size": 12
          },
          "showarrow": false,
          "text": "0.01",
          "x": 25,
          "xref": "x",
          "y": 17,
          "yref": "y"
         },
         {
          "font": {
           "color": "#FFD700",
           "size": 12
          },
          "showarrow": false,
          "text": "0.01",
          "x": 26,
          "xref": "x",
          "y": 17,
          "yref": "y"
         },
         {
          "font": {
           "color": "#FFD700",
           "size": 12
          },
          "showarrow": false,
          "text": "-0.42",
          "x": 0,
          "xref": "x",
          "y": 18,
          "yref": "y"
         },
         {
          "font": {
           "color": "#FFD700",
           "size": 12
          },
          "showarrow": false,
          "text": "-0.01",
          "x": 1,
          "xref": "x",
          "y": 18,
          "yref": "y"
         },
         {
          "font": {
           "color": "rgba(255, 255, 255, 0.6)",
           "size": 12
          },
          "showarrow": false,
          "text": "-0.00",
          "x": 2,
          "xref": "x",
          "y": 18,
          "yref": "y"
         },
         {
          "font": {
           "color": "#FFD700",
           "size": 12
          },
          "showarrow": false,
          "text": "0.04",
          "x": 3,
          "xref": "x",
          "y": 18,
          "yref": "y"
         },
         {
          "font": {
           "color": "rgba(255, 255, 255, 0.6)",
           "size": 12
          },
          "showarrow": false,
          "text": "0.00",
          "x": 4,
          "xref": "x",
          "y": 18,
          "yref": "y"
         },
         {
          "font": {
           "color": "#FFD700",
           "size": 12
          },
          "showarrow": false,
          "text": "-0.05",
          "x": 5,
          "xref": "x",
          "y": 18,
          "yref": "y"
         },
         {
          "font": {
           "color": "#FFD700",
           "size": 12
          },
          "showarrow": false,
          "text": "-0.04",
          "x": 6,
          "xref": "x",
          "y": 18,
          "yref": "y"
         },
         {
          "font": {
           "color": "#FFD700",
           "size": 12
          },
          "showarrow": false,
          "text": "-0.01",
          "x": 7,
          "xref": "x",
          "y": 18,
          "yref": "y"
         },
         {
          "font": {
           "color": "#FFD700",
           "size": 12
          },
          "showarrow": false,
          "text": "-0.02",
          "x": 8,
          "xref": "x",
          "y": 18,
          "yref": "y"
         },
         {
          "font": {
           "color": "#FFD700",
           "size": 12
          },
          "showarrow": false,
          "text": "0.08",
          "x": 9,
          "xref": "x",
          "y": 18,
          "yref": "y"
         },
         {
          "font": {
           "color": "#FFD700",
           "size": 12
          },
          "showarrow": false,
          "text": "-0.06",
          "x": 10,
          "xref": "x",
          "y": 18,
          "yref": "y"
         },
         {
          "font": {
           "color": "#FFD700",
           "size": 12
          },
          "showarrow": false,
          "text": "0.06",
          "x": 11,
          "xref": "x",
          "y": 18,
          "yref": "y"
         },
         {
          "font": {
           "color": "#FFD700",
           "size": 12
          },
          "showarrow": false,
          "text": "0.23",
          "x": 12,
          "xref": "x",
          "y": 18,
          "yref": "y"
         },
         {
          "font": {
           "color": "#FFD700",
           "size": 12
          },
          "showarrow": false,
          "text": "-0.36",
          "x": 13,
          "xref": "x",
          "y": 18,
          "yref": "y"
         },
         {
          "font": {
           "color": "#FFD700",
           "size": 12
          },
          "showarrow": false,
          "text": "0.05",
          "x": 14,
          "xref": "x",
          "y": 18,
          "yref": "y"
         },
         {
          "font": {
           "color": "#FFD700",
           "size": 12
          },
          "showarrow": false,
          "text": "-0.20",
          "x": 15,
          "xref": "x",
          "y": 18,
          "yref": "y"
         },
         {
          "font": {
           "color": "#FFD700",
           "size": 12
          },
          "showarrow": false,
          "text": "0.66",
          "x": 16,
          "xref": "x",
          "y": 18,
          "yref": "y"
         },
         {
          "font": {
           "color": "#FFD700",
           "size": 12
          },
          "showarrow": false,
          "text": "0.56",
          "x": 17,
          "xref": "x",
          "y": 18,
          "yref": "y"
         },
         {
          "font": {
           "color": "rgba(255, 255, 255, 0.6)",
           "size": 12
          },
          "showarrow": false,
          "text": "1.00",
          "x": 18,
          "xref": "x",
          "y": 18,
          "yref": "y"
         },
         {
          "font": {
           "color": "#FFD700",
           "size": 12
          },
          "showarrow": false,
          "text": "-0.03",
          "x": 19,
          "xref": "x",
          "y": 18,
          "yref": "y"
         },
         {
          "font": {
           "color": "#FFD700",
           "size": 12
          },
          "showarrow": false,
          "text": "0.07",
          "x": 20,
          "xref": "x",
          "y": 18,
          "yref": "y"
         },
         {
          "font": {
           "color": "#FFD700",
           "size": 12
          },
          "showarrow": false,
          "text": "-0.03",
          "x": 21,
          "xref": "x",
          "y": 18,
          "yref": "y"
         },
         {
          "font": {
           "color": "#FFD700",
           "size": 12
          },
          "showarrow": false,
          "text": "-0.02",
          "x": 22,
          "xref": "x",
          "y": 18,
          "yref": "y"
         },
         {
          "font": {
           "color": "rgba(255, 255, 255, 0.6)",
           "size": 12
          },
          "showarrow": false,
          "text": "0.00",
          "x": 23,
          "xref": "x",
          "y": 18,
          "yref": "y"
         },
         {
          "font": {
           "color": "rgba(255, 255, 255, 0.6)",
           "size": 12
          },
          "showarrow": false,
          "text": "0.00",
          "x": 24,
          "xref": "x",
          "y": 18,
          "yref": "y"
         },
         {
          "font": {
           "color": "rgba(255, 255, 255, 0.6)",
           "size": 12
          },
          "showarrow": false,
          "text": "-0.00",
          "x": 25,
          "xref": "x",
          "y": 18,
          "yref": "y"
         },
         {
          "font": {
           "color": "rgba(255, 255, 255, 0.6)",
           "size": 12
          },
          "showarrow": false,
          "text": "0.00",
          "x": 26,
          "xref": "x",
          "y": 18,
          "yref": "y"
         },
         {
          "font": {
           "color": "#FFD700",
           "size": 12
          },
          "showarrow": false,
          "text": "0.02",
          "x": 0,
          "xref": "x",
          "y": 19,
          "yref": "y"
         },
         {
          "font": {
           "color": "#FFD700",
           "size": 12
          },
          "showarrow": false,
          "text": "-0.01",
          "x": 1,
          "xref": "x",
          "y": 19,
          "yref": "y"
         },
         {
          "font": {
           "color": "#FFD700",
           "size": 12
          },
          "showarrow": false,
          "text": "-0.01",
          "x": 2,
          "xref": "x",
          "y": 19,
          "yref": "y"
         },
         {
          "font": {
           "color": "#FFD700",
           "size": 12
          },
          "showarrow": false,
          "text": "0.01",
          "x": 3,
          "xref": "x",
          "y": 19,
          "yref": "y"
         },
         {
          "font": {
           "color": "#FFD700",
           "size": 12
          },
          "showarrow": false,
          "text": "-0.02",
          "x": 4,
          "xref": "x",
          "y": 19,
          "yref": "y"
         },
         {
          "font": {
           "color": "#FFD700",
           "size": 12
          },
          "showarrow": false,
          "text": "-0.02",
          "x": 5,
          "xref": "x",
          "y": 19,
          "yref": "y"
         },
         {
          "font": {
           "color": "#FFD700",
           "size": 12
          },
          "showarrow": false,
          "text": "0.18",
          "x": 6,
          "xref": "x",
          "y": 19,
          "yref": "y"
         },
         {
          "font": {
           "color": "#FFD700",
           "size": 12
          },
          "showarrow": false,
          "text": "0.23",
          "x": 7,
          "xref": "x",
          "y": 19,
          "yref": "y"
         },
         {
          "font": {
           "color": "#FFD700",
           "size": 12
          },
          "showarrow": false,
          "text": "0.17",
          "x": 8,
          "xref": "x",
          "y": 19,
          "yref": "y"
         },
         {
          "font": {
           "color": "#FFD700",
           "size": 12
          },
          "showarrow": false,
          "text": "-0.01",
          "x": 9,
          "xref": "x",
          "y": 19,
          "yref": "y"
         },
         {
          "font": {
           "color": "#FFD700",
           "size": 12
          },
          "showarrow": false,
          "text": "0.28",
          "x": 10,
          "xref": "x",
          "y": 19,
          "yref": "y"
         },
         {
          "font": {
           "color": "#FFD700",
           "size": 12
          },
          "showarrow": false,
          "text": "-0.28",
          "x": 11,
          "xref": "x",
          "y": 19,
          "yref": "y"
         },
         {
          "font": {
           "color": "#FFD700",
           "size": 12
          },
          "showarrow": false,
          "text": "0.16",
          "x": 12,
          "xref": "x",
          "y": 19,
          "yref": "y"
         },
         {
          "font": {
           "color": "#FFD700",
           "size": 12
          },
          "showarrow": false,
          "text": "0.17",
          "x": 13,
          "xref": "x",
          "y": 19,
          "yref": "y"
         },
         {
          "font": {
           "color": "#FFD700",
           "size": 12
          },
          "showarrow": false,
          "text": "-0.01",
          "x": 14,
          "xref": "x",
          "y": 19,
          "yref": "y"
         },
         {
          "font": {
           "color": "#FFD700",
           "size": 12
          },
          "showarrow": false,
          "text": "0.03",
          "x": 15,
          "xref": "x",
          "y": 19,
          "yref": "y"
         },
         {
          "font": {
           "color": "#FFD700",
           "size": 12
          },
          "showarrow": false,
          "text": "-0.01",
          "x": 16,
          "xref": "x",
          "y": 19,
          "yref": "y"
         },
         {
          "font": {
           "color": "#FFD700",
           "size": 12
          },
          "showarrow": false,
          "text": "0.01",
          "x": 17,
          "xref": "x",
          "y": 19,
          "yref": "y"
         },
         {
          "font": {
           "color": "#FFD700",
           "size": 12
          },
          "showarrow": false,
          "text": "-0.03",
          "x": 18,
          "xref": "x",
          "y": 19,
          "yref": "y"
         },
         {
          "font": {
           "color": "rgba(255, 255, 255, 0.6)",
           "size": 12
          },
          "showarrow": false,
          "text": "1.00",
          "x": 19,
          "xref": "x",
          "y": 19,
          "yref": "y"
         },
         {
          "font": {
           "color": "#FFD700",
           "size": 12
          },
          "showarrow": false,
          "text": "-0.02",
          "x": 20,
          "xref": "x",
          "y": 19,
          "yref": "y"
         },
         {
          "font": {
           "color": "#FFD700",
           "size": 12
          },
          "showarrow": false,
          "text": "0.26",
          "x": 21,
          "xref": "x",
          "y": 19,
          "yref": "y"
         },
         {
          "font": {
           "color": "#FFD700",
           "size": 12
          },
          "showarrow": false,
          "text": "-0.01",
          "x": 22,
          "xref": "x",
          "y": 19,
          "yref": "y"
         },
         {
          "font": {
           "color": "#FFD700",
           "size": 12
          },
          "showarrow": false,
          "text": "-0.01",
          "x": 23,
          "xref": "x",
          "y": 19,
          "yref": "y"
         },
         {
          "font": {
           "color": "#FFD700",
           "size": 12
          },
          "showarrow": false,
          "text": "-0.01",
          "x": 24,
          "xref": "x",
          "y": 19,
          "yref": "y"
         },
         {
          "font": {
           "color": "#FFD700",
           "size": 12
          },
          "showarrow": false,
          "text": "-0.01",
          "x": 25,
          "xref": "x",
          "y": 19,
          "yref": "y"
         },
         {
          "font": {
           "color": "#FFD700",
           "size": 12
          },
          "showarrow": false,
          "text": "-0.01",
          "x": 26,
          "xref": "x",
          "y": 19,
          "yref": "y"
         },
         {
          "font": {
           "color": "#FFD700",
           "size": 12
          },
          "showarrow": false,
          "text": "-0.04",
          "x": 0,
          "xref": "x",
          "y": 20,
          "yref": "y"
         },
         {
          "font": {
           "color": "#FFD700",
           "size": 12
          },
          "showarrow": false,
          "text": "0.01",
          "x": 1,
          "xref": "x",
          "y": 20,
          "yref": "y"
         },
         {
          "font": {
           "color": "rgba(255, 255, 255, 0.6)",
           "size": 12
          },
          "showarrow": false,
          "text": "0.00",
          "x": 2,
          "xref": "x",
          "y": 20,
          "yref": "y"
         },
         {
          "font": {
           "color": "rgba(255, 255, 255, 0.6)",
           "size": 12
          },
          "showarrow": false,
          "text": "-0.00",
          "x": 3,
          "xref": "x",
          "y": 20,
          "yref": "y"
         },
         {
          "font": {
           "color": "#FFD700",
           "size": 12
          },
          "showarrow": false,
          "text": "0.04",
          "x": 4,
          "xref": "x",
          "y": 20,
          "yref": "y"
         },
         {
          "font": {
           "color": "#FFD700",
           "size": 12
          },
          "showarrow": false,
          "text": "0.01",
          "x": 5,
          "xref": "x",
          "y": 20,
          "yref": "y"
         },
         {
          "font": {
           "color": "#FFD700",
           "size": 12
          },
          "showarrow": false,
          "text": "0.01",
          "x": 6,
          "xref": "x",
          "y": 20,
          "yref": "y"
         },
         {
          "font": {
           "color": "#FFD700",
           "size": 12
          },
          "showarrow": false,
          "text": "0.02",
          "x": 7,
          "xref": "x",
          "y": 20,
          "yref": "y"
         },
         {
          "font": {
           "color": "rgba(255, 255, 255, 0.6)",
           "size": 12
          },
          "showarrow": false,
          "text": "0.00",
          "x": 8,
          "xref": "x",
          "y": 20,
          "yref": "y"
         },
         {
          "font": {
           "color": "#FFD700",
           "size": 12
          },
          "showarrow": false,
          "text": "0.12",
          "x": 9,
          "xref": "x",
          "y": 20,
          "yref": "y"
         },
         {
          "font": {
           "color": "#FFD700",
           "size": 12
          },
          "showarrow": false,
          "text": "0.06",
          "x": 10,
          "xref": "x",
          "y": 20,
          "yref": "y"
         },
         {
          "font": {
           "color": "#FFD700",
           "size": 12
          },
          "showarrow": false,
          "text": "0.03",
          "x": 11,
          "xref": "x",
          "y": 20,
          "yref": "y"
         },
         {
          "font": {
           "color": "#FFD700",
           "size": 12
          },
          "showarrow": false,
          "text": "0.02",
          "x": 12,
          "xref": "x",
          "y": 20,
          "yref": "y"
         },
         {
          "font": {
           "color": "#FFD700",
           "size": 12
          },
          "showarrow": false,
          "text": "0.01",
          "x": 13,
          "xref": "x",
          "y": 20,
          "yref": "y"
         },
         {
          "font": {
           "color": "#FFD700",
           "size": 12
          },
          "showarrow": false,
          "text": "0.17",
          "x": 14,
          "xref": "x",
          "y": 20,
          "yref": "y"
         },
         {
          "font": {
           "color": "#FFD700",
           "size": 12
          },
          "showarrow": false,
          "text": "0.04",
          "x": 15,
          "xref": "x",
          "y": 20,
          "yref": "y"
         },
         {
          "font": {
           "color": "#FFD700",
           "size": 12
          },
          "showarrow": false,
          "text": "0.05",
          "x": 16,
          "xref": "x",
          "y": 20,
          "yref": "y"
         },
         {
          "font": {
           "color": "#FFD700",
           "size": 12
          },
          "showarrow": false,
          "text": "0.08",
          "x": 17,
          "xref": "x",
          "y": 20,
          "yref": "y"
         },
         {
          "font": {
           "color": "#FFD700",
           "size": 12
          },
          "showarrow": false,
          "text": "0.07",
          "x": 18,
          "xref": "x",
          "y": 20,
          "yref": "y"
         },
         {
          "font": {
           "color": "#FFD700",
           "size": 12
          },
          "showarrow": false,
          "text": "-0.02",
          "x": 19,
          "xref": "x",
          "y": 20,
          "yref": "y"
         },
         {
          "font": {
           "color": "rgba(255, 255, 255, 0.6)",
           "size": 12
          },
          "showarrow": false,
          "text": "1.00",
          "x": 20,
          "xref": "x",
          "y": 20,
          "yref": "y"
         },
         {
          "font": {
           "color": "#FFD700",
           "size": 12
          },
          "showarrow": false,
          "text": "0.01",
          "x": 21,
          "xref": "x",
          "y": 20,
          "yref": "y"
         },
         {
          "font": {
           "color": "#FFD700",
           "size": 12
          },
          "showarrow": false,
          "text": "0.01",
          "x": 22,
          "xref": "x",
          "y": 20,
          "yref": "y"
         },
         {
          "font": {
           "color": "#FFD700",
           "size": 12
          },
          "showarrow": false,
          "text": "0.01",
          "x": 23,
          "xref": "x",
          "y": 20,
          "yref": "y"
         },
         {
          "font": {
           "color": "#FFD700",
           "size": 12
          },
          "showarrow": false,
          "text": "0.01",
          "x": 24,
          "xref": "x",
          "y": 20,
          "yref": "y"
         },
         {
          "font": {
           "color": "#FFD700",
           "size": 12
          },
          "showarrow": false,
          "text": "0.01",
          "x": 25,
          "xref": "x",
          "y": 20,
          "yref": "y"
         },
         {
          "font": {
           "color": "rgba(255, 255, 255, 0.6)",
           "size": 12
          },
          "showarrow": false,
          "text": "0.00",
          "x": 26,
          "xref": "x",
          "y": 20,
          "yref": "y"
         },
         {
          "font": {
           "color": "#FFD700",
           "size": 12
          },
          "showarrow": false,
          "text": "-0.01",
          "x": 0,
          "xref": "x",
          "y": 21,
          "yref": "y"
         },
         {
          "font": {
           "color": "#FFD700",
           "size": 12
          },
          "showarrow": false,
          "text": "-0.03",
          "x": 1,
          "xref": "x",
          "y": 21,
          "yref": "y"
         },
         {
          "font": {
           "color": "#FFD700",
           "size": 12
          },
          "showarrow": false,
          "text": "-0.04",
          "x": 2,
          "xref": "x",
          "y": 21,
          "yref": "y"
         },
         {
          "font": {
           "color": "#FFD700",
           "size": 12
          },
          "showarrow": false,
          "text": "-0.01",
          "x": 3,
          "xref": "x",
          "y": 21,
          "yref": "y"
         },
         {
          "font": {
           "color": "#FFD700",
           "size": 12
          },
          "showarrow": false,
          "text": "-0.02",
          "x": 4,
          "xref": "x",
          "y": 21,
          "yref": "y"
         },
         {
          "font": {
           "color": "#FFD700",
           "size": 12
          },
          "showarrow": false,
          "text": "0.15",
          "x": 5,
          "xref": "x",
          "y": 21,
          "yref": "y"
         },
         {
          "font": {
           "color": "#FFD700",
           "size": 12
          },
          "showarrow": false,
          "text": "0.64",
          "x": 6,
          "xref": "x",
          "y": 21,
          "yref": "y"
         },
         {
          "font": {
           "color": "#FFD700",
           "size": 12
          },
          "showarrow": false,
          "text": "0.56",
          "x": 7,
          "xref": "x",
          "y": 21,
          "yref": "y"
         },
         {
          "font": {
           "color": "#FFD700",
           "size": 12
          },
          "showarrow": false,
          "text": "0.61",
          "x": 8,
          "xref": "x",
          "y": 21,
          "yref": "y"
         },
         {
          "font": {
           "color": "#FFD700",
           "size": 12
          },
          "showarrow": false,
          "text": "-0.02",
          "x": 9,
          "xref": "x",
          "y": 21,
          "yref": "y"
         },
         {
          "font": {
           "color": "#FFD700",
           "size": 12
          },
          "showarrow": false,
          "text": "0.57",
          "x": 10,
          "xref": "x",
          "y": 21,
          "yref": "y"
         },
         {
          "font": {
           "color": "#FFD700",
           "size": 12
          },
          "showarrow": false,
          "text": "-0.56",
          "x": 11,
          "xref": "x",
          "y": 21,
          "yref": "y"
         },
         {
          "font": {
           "color": "#FFD700",
           "size": 12
          },
          "showarrow": false,
          "text": "0.59",
          "x": 12,
          "xref": "x",
          "y": 21,
          "yref": "y"
         },
         {
          "font": {
           "color": "#FFD700",
           "size": 12
          },
          "showarrow": false,
          "text": "0.57",
          "x": 13,
          "xref": "x",
          "y": 21,
          "yref": "y"
         },
         {
          "font": {
           "color": "#FFD700",
           "size": 12
          },
          "showarrow": false,
          "text": "-0.01",
          "x": 14,
          "xref": "x",
          "y": 21,
          "yref": "y"
         },
         {
          "font": {
           "color": "#FFD700",
           "size": 12
          },
          "showarrow": false,
          "text": "-0.01",
          "x": 15,
          "xref": "x",
          "y": 21,
          "yref": "y"
         },
         {
          "font": {
           "color": "#FFD700",
           "size": 12
          },
          "showarrow": false,
          "text": "0.01",
          "x": 16,
          "xref": "x",
          "y": 21,
          "yref": "y"
         },
         {
          "font": {
           "color": "#FFD700",
           "size": 12
          },
          "showarrow": false,
          "text": "0.05",
          "x": 17,
          "xref": "x",
          "y": 21,
          "yref": "y"
         },
         {
          "font": {
           "color": "#FFD700",
           "size": 12
          },
          "showarrow": false,
          "text": "-0.03",
          "x": 18,
          "xref": "x",
          "y": 21,
          "yref": "y"
         },
         {
          "font": {
           "color": "#FFD700",
           "size": 12
          },
          "showarrow": false,
          "text": "0.26",
          "x": 19,
          "xref": "x",
          "y": 21,
          "yref": "y"
         },
         {
          "font": {
           "color": "#FFD700",
           "size": 12
          },
          "showarrow": false,
          "text": "0.01",
          "x": 20,
          "xref": "x",
          "y": 21,
          "yref": "y"
         },
         {
          "font": {
           "color": "rgba(255, 255, 255, 0.6)",
           "size": 12
          },
          "showarrow": false,
          "text": "1.00",
          "x": 21,
          "xref": "x",
          "y": 21,
          "yref": "y"
         },
         {
          "font": {
           "color": "#FFD700",
           "size": 12
          },
          "showarrow": false,
          "text": "0.15",
          "x": 22,
          "xref": "x",
          "y": 21,
          "yref": "y"
         },
         {
          "font": {
           "color": "#FFD700",
           "size": 12
          },
          "showarrow": false,
          "text": "0.14",
          "x": 23,
          "xref": "x",
          "y": 21,
          "yref": "y"
         },
         {
          "font": {
           "color": "#FFD700",
           "size": 12
          },
          "showarrow": false,
          "text": "0.14",
          "x": 24,
          "xref": "x",
          "y": 21,
          "yref": "y"
         },
         {
          "font": {
           "color": "#FFD700",
           "size": 12
          },
          "showarrow": false,
          "text": "0.14",
          "x": 25,
          "xref": "x",
          "y": 21,
          "yref": "y"
         },
         {
          "font": {
           "color": "#FFD700",
           "size": 12
          },
          "showarrow": false,
          "text": "0.14",
          "x": 26,
          "xref": "x",
          "y": 21,
          "yref": "y"
         },
         {
          "font": {
           "color": "rgba(255, 255, 255, 0.6)",
           "size": 12
          },
          "showarrow": false,
          "text": "-0.00",
          "x": 0,
          "xref": "x",
          "y": 22,
          "yref": "y"
         },
         {
          "font": {
           "color": "#FFD700",
           "size": 12
          },
          "showarrow": false,
          "text": "-0.05",
          "x": 1,
          "xref": "x",
          "y": 22,
          "yref": "y"
         },
         {
          "font": {
           "color": "#FFD700",
           "size": 12
          },
          "showarrow": false,
          "text": "-0.04",
          "x": 2,
          "xref": "x",
          "y": 22,
          "yref": "y"
         },
         {
          "font": {
           "color": "rgba(255, 255, 255, 0.6)",
           "size": 12
          },
          "showarrow": false,
          "text": "-0.00",
          "x": 3,
          "xref": "x",
          "y": 22,
          "yref": "y"
         },
         {
          "font": {
           "color": "rgba(255, 255, 255, 0.6)",
           "size": 12
          },
          "showarrow": false,
          "text": "-0.00",
          "x": 4,
          "xref": "x",
          "y": 22,
          "yref": "y"
         },
         {
          "font": {
           "color": "#FFD700",
           "size": 12
          },
          "showarrow": false,
          "text": "-0.04",
          "x": 5,
          "xref": "x",
          "y": 22,
          "yref": "y"
         },
         {
          "font": {
           "color": "#FFD700",
           "size": 12
          },
          "showarrow": false,
          "text": "0.37",
          "x": 6,
          "xref": "x",
          "y": 22,
          "yref": "y"
         },
         {
          "font": {
           "color": "#FFD700",
           "size": 12
          },
          "showarrow": false,
          "text": "0.06",
          "x": 7,
          "xref": "x",
          "y": 22,
          "yref": "y"
         },
         {
          "font": {
           "color": "#FFD700",
           "size": 12
          },
          "showarrow": false,
          "text": "0.16",
          "x": 8,
          "xref": "x",
          "y": 22,
          "yref": "y"
         },
         {
          "font": {
           "color": "#FFD700",
           "size": 12
          },
          "showarrow": false,
          "text": "0.01",
          "x": 9,
          "xref": "x",
          "y": 22,
          "yref": "y"
         },
         {
          "font": {
           "color": "#FFD700",
           "size": 12
          },
          "showarrow": false,
          "text": "0.22",
          "x": 10,
          "xref": "x",
          "y": 22,
          "yref": "y"
         },
         {
          "font": {
           "color": "#FFD700",
           "size": 12
          },
          "showarrow": false,
          "text": "-0.21",
          "x": 11,
          "xref": "x",
          "y": 22,
          "yref": "y"
         },
         {
          "font": {
           "color": "#FFD700",
           "size": 12
          },
          "showarrow": false,
          "text": "0.26",
          "x": 12,
          "xref": "x",
          "y": 22,
          "yref": "y"
         },
         {
          "font": {
           "color": "#FFD700",
           "size": 12
          },
          "showarrow": false,
          "text": "0.27",
          "x": 13,
          "xref": "x",
          "y": 22,
          "yref": "y"
         },
         {
          "font": {
           "color": "rgba(255, 255, 255, 0.6)",
           "size": 12
          },
          "showarrow": false,
          "text": "0.00",
          "x": 14,
          "xref": "x",
          "y": 22,
          "yref": "y"
         },
         {
          "font": {
           "color": "#FFD700",
           "size": 12
          },
          "showarrow": false,
          "text": "-0.02",
          "x": 15,
          "xref": "x",
          "y": 22,
          "yref": "y"
         },
         {
          "font": {
           "color": "rgba(255, 255, 255, 0.6)",
           "size": 12
          },
          "showarrow": false,
          "text": "0.00",
          "x": 16,
          "xref": "x",
          "y": 22,
          "yref": "y"
         },
         {
          "font": {
           "color": "#FFD700",
           "size": 12
          },
          "showarrow": false,
          "text": "0.01",
          "x": 17,
          "xref": "x",
          "y": 22,
          "yref": "y"
         },
         {
          "font": {
           "color": "#FFD700",
           "size": 12
          },
          "showarrow": false,
          "text": "-0.02",
          "x": 18,
          "xref": "x",
          "y": 22,
          "yref": "y"
         },
         {
          "font": {
           "color": "#FFD700",
           "size": 12
          },
          "showarrow": false,
          "text": "-0.01",
          "x": 19,
          "xref": "x",
          "y": 22,
          "yref": "y"
         },
         {
          "font": {
           "color": "#FFD700",
           "size": 12
          },
          "showarrow": false,
          "text": "0.01",
          "x": 20,
          "xref": "x",
          "y": 22,
          "yref": "y"
         },
         {
          "font": {
           "color": "#FFD700",
           "size": 12
          },
          "showarrow": false,
          "text": "0.15",
          "x": 21,
          "xref": "x",
          "y": 22,
          "yref": "y"
         },
         {
          "font": {
           "color": "rgba(255, 255, 255, 0.6)",
           "size": 12
          },
          "showarrow": false,
          "text": "1.00",
          "x": 22,
          "xref": "x",
          "y": 22,
          "yref": "y"
         },
         {
          "font": {
           "color": "#FFD700",
           "size": 12
          },
          "showarrow": false,
          "text": "-0.04",
          "x": 23,
          "xref": "x",
          "y": 22,
          "yref": "y"
         },
         {
          "font": {
           "color": "#FFD700",
           "size": 12
          },
          "showarrow": false,
          "text": "-0.05",
          "x": 24,
          "xref": "x",
          "y": 22,
          "yref": "y"
         },
         {
          "font": {
           "color": "#FFD700",
           "size": 12
          },
          "showarrow": false,
          "text": "-0.02",
          "x": 25,
          "xref": "x",
          "y": 22,
          "yref": "y"
         },
         {
          "font": {
           "color": "rgba(255, 255, 255, 0.6)",
           "size": 12
          },
          "showarrow": false,
          "text": "-0.00",
          "x": 26,
          "xref": "x",
          "y": 22,
          "yref": "y"
         },
         {
          "font": {
           "color": "rgba(255, 255, 255, 0.6)",
           "size": 12
          },
          "showarrow": false,
          "text": "-0.00",
          "x": 0,
          "xref": "x",
          "y": 23,
          "yref": "y"
         },
         {
          "font": {
           "color": "#FFD700",
           "size": 12
          },
          "showarrow": false,
          "text": "-0.02",
          "x": 1,
          "xref": "x",
          "y": 23,
          "yref": "y"
         },
         {
          "font": {
           "color": "#FFD700",
           "size": 12
          },
          "showarrow": false,
          "text": "-0.02",
          "x": 2,
          "xref": "x",
          "y": 23,
          "yref": "y"
         },
         {
          "font": {
           "color": "rgba(255, 255, 255, 0.6)",
           "size": 12
          },
          "showarrow": false,
          "text": "-0.00",
          "x": 3,
          "xref": "x",
          "y": 23,
          "yref": "y"
         },
         {
          "font": {
           "color": "rgba(255, 255, 255, 0.6)",
           "size": 12
          },
          "showarrow": false,
          "text": "-0.00",
          "x": 4,
          "xref": "x",
          "y": 23,
          "yref": "y"
         },
         {
          "font": {
           "color": "#FFD700",
           "size": 12
          },
          "showarrow": false,
          "text": "-0.05",
          "x": 5,
          "xref": "x",
          "y": 23,
          "yref": "y"
         },
         {
          "font": {
           "color": "#FFD700",
           "size": 12
          },
          "showarrow": false,
          "text": "0.27",
          "x": 6,
          "xref": "x",
          "y": 23,
          "yref": "y"
         },
         {
          "font": {
           "color": "#FFD700",
           "size": 12
          },
          "showarrow": false,
          "text": "0.08",
          "x": 7,
          "xref": "x",
          "y": 23,
          "yref": "y"
         },
         {
          "font": {
           "color": "#FFD700",
           "size": 12
          },
          "showarrow": false,
          "text": "0.19",
          "x": 8,
          "xref": "x",
          "y": 23,
          "yref": "y"
         },
         {
          "font": {
           "color": "#FFD700",
           "size": 12
          },
          "showarrow": false,
          "text": "0.01",
          "x": 9,
          "xref": "x",
          "y": 23,
          "yref": "y"
         },
         {
          "font": {
           "color": "#FFD700",
           "size": 12
          },
          "showarrow": false,
          "text": "0.20",
          "x": 10,
          "xref": "x",
          "y": 23,
          "yref": "y"
         },
         {
          "font": {
           "color": "#FFD700",
           "size": 12
          },
          "showarrow": false,
          "text": "-0.19",
          "x": 11,
          "xref": "x",
          "y": 23,
          "yref": "y"
         },
         {
          "font": {
           "color": "#FFD700",
           "size": 12
          },
          "showarrow": false,
          "text": "0.21",
          "x": 12,
          "xref": "x",
          "y": 23,
          "yref": "y"
         },
         {
          "font": {
           "color": "#FFD700",
           "size": 12
          },
          "showarrow": false,
          "text": "0.21",
          "x": 13,
          "xref": "x",
          "y": 23,
          "yref": "y"
         },
         {
          "font": {
           "color": "rgba(255, 255, 255, 0.6)",
           "size": 12
          },
          "showarrow": false,
          "text": "0.00",
          "x": 14,
          "xref": "x",
          "y": 23,
          "yref": "y"
         },
         {
          "font": {
           "color": "rgba(255, 255, 255, 0.6)",
           "size": 12
          },
          "showarrow": false,
          "text": "-0.00",
          "x": 15,
          "xref": "x",
          "y": 23,
          "yref": "y"
         },
         {
          "font": {
           "color": "rgba(255, 255, 255, 0.6)",
           "size": 12
          },
          "showarrow": false,
          "text": "0.00",
          "x": 16,
          "xref": "x",
          "y": 23,
          "yref": "y"
         },
         {
          "font": {
           "color": "rgba(255, 255, 255, 0.6)",
           "size": 12
          },
          "showarrow": false,
          "text": "0.00",
          "x": 17,
          "xref": "x",
          "y": 23,
          "yref": "y"
         },
         {
          "font": {
           "color": "rgba(255, 255, 255, 0.6)",
           "size": 12
          },
          "showarrow": false,
          "text": "0.00",
          "x": 18,
          "xref": "x",
          "y": 23,
          "yref": "y"
         },
         {
          "font": {
           "color": "#FFD700",
           "size": 12
          },
          "showarrow": false,
          "text": "-0.01",
          "x": 19,
          "xref": "x",
          "y": 23,
          "yref": "y"
         },
         {
          "font": {
           "color": "#FFD700",
           "size": 12
          },
          "showarrow": false,
          "text": "0.01",
          "x": 20,
          "xref": "x",
          "y": 23,
          "yref": "y"
         },
         {
          "font": {
           "color": "#FFD700",
           "size": 12
          },
          "showarrow": false,
          "text": "0.14",
          "x": 21,
          "xref": "x",
          "y": 23,
          "yref": "y"
         },
         {
          "font": {
           "color": "#FFD700",
           "size": 12
          },
          "showarrow": false,
          "text": "-0.04",
          "x": 22,
          "xref": "x",
          "y": 23,
          "yref": "y"
         },
         {
          "font": {
           "color": "rgba(255, 255, 255, 0.6)",
           "size": 12
          },
          "showarrow": false,
          "text": "1.00",
          "x": 23,
          "xref": "x",
          "y": 23,
          "yref": "y"
         },
         {
          "font": {
           "color": "#FFD700",
           "size": 12
          },
          "showarrow": false,
          "text": "-0.04",
          "x": 24,
          "xref": "x",
          "y": 23,
          "yref": "y"
         },
         {
          "font": {
           "color": "#FFD700",
           "size": 12
          },
          "showarrow": false,
          "text": "-0.05",
          "x": 25,
          "xref": "x",
          "y": 23,
          "yref": "y"
         },
         {
          "font": {
           "color": "#FFD700",
           "size": 12
          },
          "showarrow": false,
          "text": "-0.02",
          "x": 26,
          "xref": "x",
          "y": 23,
          "yref": "y"
         },
         {
          "font": {
           "color": "rgba(255, 255, 255, 0.6)",
           "size": 12
          },
          "showarrow": false,
          "text": "-0.00",
          "x": 0,
          "xref": "x",
          "y": 24,
          "yref": "y"
         },
         {
          "font": {
           "color": "rgba(255, 255, 255, 0.6)",
           "size": 12
          },
          "showarrow": false,
          "text": "-0.00",
          "x": 1,
          "xref": "x",
          "y": 24,
          "yref": "y"
         },
         {
          "font": {
           "color": "rgba(255, 255, 255, 0.6)",
           "size": 12
          },
          "showarrow": false,
          "text": "-0.00",
          "x": 2,
          "xref": "x",
          "y": 24,
          "yref": "y"
         },
         {
          "font": {
           "color": "rgba(255, 255, 255, 0.6)",
           "size": 12
          },
          "showarrow": false,
          "text": "-0.00",
          "x": 3,
          "xref": "x",
          "y": 24,
          "yref": "y"
         },
         {
          "font": {
           "color": "rgba(255, 255, 255, 0.6)",
           "size": 12
          },
          "showarrow": false,
          "text": "-0.00",
          "x": 4,
          "xref": "x",
          "y": 24,
          "yref": "y"
         },
         {
          "font": {
           "color": "#FFD700",
           "size": 12
          },
          "showarrow": false,
          "text": "-0.02",
          "x": 5,
          "xref": "x",
          "y": 24,
          "yref": "y"
         },
         {
          "font": {
           "color": "#FFD700",
           "size": 12
          },
          "showarrow": false,
          "text": "0.22",
          "x": 6,
          "xref": "x",
          "y": 24,
          "yref": "y"
         },
         {
          "font": {
           "color": "#FFD700",
           "size": 12
          },
          "showarrow": false,
          "text": "0.10",
          "x": 7,
          "xref": "x",
          "y": 24,
          "yref": "y"
         },
         {
          "font": {
           "color": "#FFD700",
           "size": 12
          },
          "showarrow": false,
          "text": "0.19",
          "x": 8,
          "xref": "x",
          "y": 24,
          "yref": "y"
         },
         {
          "font": {
           "color": "#FFD700",
           "size": 12
          },
          "showarrow": false,
          "text": "0.01",
          "x": 9,
          "xref": "x",
          "y": 24,
          "yref": "y"
         },
         {
          "font": {
           "color": "#FFD700",
           "size": 12
          },
          "showarrow": false,
          "text": "0.18",
          "x": 10,
          "xref": "x",
          "y": 24,
          "yref": "y"
         },
         {
          "font": {
           "color": "#FFD700",
           "size": 12
          },
          "showarrow": false,
          "text": "-0.18",
          "x": 11,
          "xref": "x",
          "y": 24,
          "yref": "y"
         },
         {
          "font": {
           "color": "#FFD700",
           "size": 12
          },
          "showarrow": false,
          "text": "0.18",
          "x": 12,
          "xref": "x",
          "y": 24,
          "yref": "y"
         },
         {
          "font": {
           "color": "#FFD700",
           "size": 12
          },
          "showarrow": false,
          "text": "0.17",
          "x": 13,
          "xref": "x",
          "y": 24,
          "yref": "y"
         },
         {
          "font": {
           "color": "rgba(255, 255, 255, 0.6)",
           "size": 12
          },
          "showarrow": false,
          "text": "0.00",
          "x": 14,
          "xref": "x",
          "y": 24,
          "yref": "y"
         },
         {
          "font": {
           "color": "rgba(255, 255, 255, 0.6)",
           "size": 12
          },
          "showarrow": false,
          "text": "0.00",
          "x": 15,
          "xref": "x",
          "y": 24,
          "yref": "y"
         },
         {
          "font": {
           "color": "#FFD700",
           "size": 12
          },
          "showarrow": false,
          "text": "0.01",
          "x": 16,
          "xref": "x",
          "y": 24,
          "yref": "y"
         },
         {
          "font": {
           "color": "#FFD700",
           "size": 12
          },
          "showarrow": false,
          "text": "0.01",
          "x": 17,
          "xref": "x",
          "y": 24,
          "yref": "y"
         },
         {
          "font": {
           "color": "rgba(255, 255, 255, 0.6)",
           "size": 12
          },
          "showarrow": false,
          "text": "0.00",
          "x": 18,
          "xref": "x",
          "y": 24,
          "yref": "y"
         },
         {
          "font": {
           "color": "#FFD700",
           "size": 12
          },
          "showarrow": false,
          "text": "-0.01",
          "x": 19,
          "xref": "x",
          "y": 24,
          "yref": "y"
         },
         {
          "font": {
           "color": "#FFD700",
           "size": 12
          },
          "showarrow": false,
          "text": "0.01",
          "x": 20,
          "xref": "x",
          "y": 24,
          "yref": "y"
         },
         {
          "font": {
           "color": "#FFD700",
           "size": 12
          },
          "showarrow": false,
          "text": "0.14",
          "x": 21,
          "xref": "x",
          "y": 24,
          "yref": "y"
         },
         {
          "font": {
           "color": "#FFD700",
           "size": 12
          },
          "showarrow": false,
          "text": "-0.05",
          "x": 22,
          "xref": "x",
          "y": 24,
          "yref": "y"
         },
         {
          "font": {
           "color": "#FFD700",
           "size": 12
          },
          "showarrow": false,
          "text": "-0.04",
          "x": 23,
          "xref": "x",
          "y": 24,
          "yref": "y"
         },
         {
          "font": {
           "color": "rgba(255, 255, 255, 0.6)",
           "size": 12
          },
          "showarrow": false,
          "text": "1.00",
          "x": 24,
          "xref": "x",
          "y": 24,
          "yref": "y"
         },
         {
          "font": {
           "color": "#FFD700",
           "size": 12
          },
          "showarrow": false,
          "text": "-0.04",
          "x": 25,
          "xref": "x",
          "y": 24,
          "yref": "y"
         },
         {
          "font": {
           "color": "#FFD700",
           "size": 12
          },
          "showarrow": false,
          "text": "-0.05",
          "x": 26,
          "xref": "x",
          "y": 24,
          "yref": "y"
         },
         {
          "font": {
           "color": "rgba(255, 255, 255, 0.6)",
           "size": 12
          },
          "showarrow": false,
          "text": "-0.00",
          "x": 0,
          "xref": "x",
          "y": 25,
          "yref": "y"
         },
         {
          "font": {
           "color": "#FFD700",
           "size": 12
          },
          "showarrow": false,
          "text": "-0.01",
          "x": 1,
          "xref": "x",
          "y": 25,
          "yref": "y"
         },
         {
          "font": {
           "color": "#FFD700",
           "size": 12
          },
          "showarrow": false,
          "text": "-0.02",
          "x": 2,
          "xref": "x",
          "y": 25,
          "yref": "y"
         },
         {
          "font": {
           "color": "rgba(255, 255, 255, 0.6)",
           "size": 12
          },
          "showarrow": false,
          "text": "-0.00",
          "x": 3,
          "xref": "x",
          "y": 25,
          "yref": "y"
         },
         {
          "font": {
           "color": "rgba(255, 255, 255, 0.6)",
           "size": 12
          },
          "showarrow": false,
          "text": "-0.00",
          "x": 4,
          "xref": "x",
          "y": 25,
          "yref": "y"
         },
         {
          "font": {
           "color": "rgba(255, 255, 255, 0.6)",
           "size": 12
          },
          "showarrow": false,
          "text": "-0.00",
          "x": 5,
          "xref": "x",
          "y": 25,
          "yref": "y"
         },
         {
          "font": {
           "color": "#FFD700",
           "size": 12
          },
          "showarrow": false,
          "text": "0.18",
          "x": 6,
          "xref": "x",
          "y": 25,
          "yref": "y"
         },
         {
          "font": {
           "color": "#FFD700",
           "size": 12
          },
          "showarrow": false,
          "text": "0.11",
          "x": 7,
          "xref": "x",
          "y": 25,
          "yref": "y"
         },
         {
          "font": {
           "color": "#FFD700",
           "size": 12
          },
          "showarrow": false,
          "text": "0.19",
          "x": 8,
          "xref": "x",
          "y": 25,
          "yref": "y"
         },
         {
          "font": {
           "color": "#FFD700",
           "size": 12
          },
          "showarrow": false,
          "text": "0.01",
          "x": 9,
          "xref": "x",
          "y": 25,
          "yref": "y"
         },
         {
          "font": {
           "color": "#FFD700",
           "size": 12
          },
          "showarrow": false,
          "text": "0.17",
          "x": 10,
          "xref": "x",
          "y": 25,
          "yref": "y"
         },
         {
          "font": {
           "color": "#FFD700",
           "size": 12
          },
          "showarrow": false,
          "text": "-0.17",
          "x": 11,
          "xref": "x",
          "y": 25,
          "yref": "y"
         },
         {
          "font": {
           "color": "#FFD700",
           "size": 12
          },
          "showarrow": false,
          "text": "0.15",
          "x": 12,
          "xref": "x",
          "y": 25,
          "yref": "y"
         },
         {
          "font": {
           "color": "#FFD700",
           "size": 12
          },
          "showarrow": false,
          "text": "0.15",
          "x": 13,
          "xref": "x",
          "y": 25,
          "yref": "y"
         },
         {
          "font": {
           "color": "rgba(255, 255, 255, 0.6)",
           "size": 12
          },
          "showarrow": false,
          "text": "0.00",
          "x": 14,
          "xref": "x",
          "y": 25,
          "yref": "y"
         },
         {
          "font": {
           "color": "rgba(255, 255, 255, 0.6)",
           "size": 12
          },
          "showarrow": false,
          "text": "0.00",
          "x": 15,
          "xref": "x",
          "y": 25,
          "yref": "y"
         },
         {
          "font": {
           "color": "#FFD700",
           "size": 12
          },
          "showarrow": false,
          "text": "0.00",
          "x": 16,
          "xref": "x",
          "y": 25,
          "yref": "y"
         },
         {
          "font": {
           "color": "#FFD700",
           "size": 12
          },
          "showarrow": false,
          "text": "0.01",
          "x": 17,
          "xref": "x",
          "y": 25,
          "yref": "y"
         },
         {
          "font": {
           "color": "rgba(255, 255, 255, 0.6)",
           "size": 12
          },
          "showarrow": false,
          "text": "-0.00",
          "x": 18,
          "xref": "x",
          "y": 25,
          "yref": "y"
         },
         {
          "font": {
           "color": "#FFD700",
           "size": 12
          },
          "showarrow": false,
          "text": "-0.01",
          "x": 19,
          "xref": "x",
          "y": 25,
          "yref": "y"
         },
         {
          "font": {
           "color": "#FFD700",
           "size": 12
          },
          "showarrow": false,
          "text": "0.01",
          "x": 20,
          "xref": "x",
          "y": 25,
          "yref": "y"
         },
         {
          "font": {
           "color": "#FFD700",
           "size": 12
          },
          "showarrow": false,
          "text": "0.14",
          "x": 21,
          "xref": "x",
          "y": 25,
          "yref": "y"
         },
         {
          "font": {
           "color": "#FFD700",
           "size": 12
          },
          "showarrow": false,
          "text": "-0.02",
          "x": 22,
          "xref": "x",
          "y": 25,
          "yref": "y"
         },
         {
          "font": {
           "color": "#FFD700",
           "size": 12
          },
          "showarrow": false,
          "text": "-0.05",
          "x": 23,
          "xref": "x",
          "y": 25,
          "yref": "y"
         },
         {
          "font": {
           "color": "#FFD700",
           "size": 12
          },
          "showarrow": false,
          "text": "-0.04",
          "x": 24,
          "xref": "x",
          "y": 25,
          "yref": "y"
         },
         {
          "font": {
           "color": "rgba(255, 255, 255, 0.6)",
           "size": 12
          },
          "showarrow": false,
          "text": "1.00",
          "x": 25,
          "xref": "x",
          "y": 25,
          "yref": "y"
         },
         {
          "font": {
           "color": "#FFD700",
           "size": 12
          },
          "showarrow": false,
          "text": "-0.04",
          "x": 26,
          "xref": "x",
          "y": 25,
          "yref": "y"
         },
         {
          "font": {
           "color": "rgba(255, 255, 255, 0.6)",
           "size": 12
          },
          "showarrow": false,
          "text": "-0.00",
          "x": 0,
          "xref": "x",
          "y": 26,
          "yref": "y"
         },
         {
          "font": {
           "color": "rgba(255, 255, 255, 0.6)",
           "size": 12
          },
          "showarrow": false,
          "text": "-0.00",
          "x": 1,
          "xref": "x",
          "y": 26,
          "yref": "y"
         },
         {
          "font": {
           "color": "rgba(255, 255, 255, 0.6)",
           "size": 12
          },
          "showarrow": false,
          "text": "-0.00",
          "x": 2,
          "xref": "x",
          "y": 26,
          "yref": "y"
         },
         {
          "font": {
           "color": "rgba(255, 255, 255, 0.6)",
           "size": 12
          },
          "showarrow": false,
          "text": "-0.00",
          "x": 3,
          "xref": "x",
          "y": 26,
          "yref": "y"
         },
         {
          "font": {
           "color": "rgba(255, 255, 255, 0.6)",
           "size": 12
          },
          "showarrow": false,
          "text": "-0.00",
          "x": 4,
          "xref": "x",
          "y": 26,
          "yref": "y"
         },
         {
          "font": {
           "color": "#FFD700",
           "size": 12
          },
          "showarrow": false,
          "text": "-0.01",
          "x": 5,
          "xref": "x",
          "y": 26,
          "yref": "y"
         },
         {
          "font": {
           "color": "#FFD700",
           "size": 12
          },
          "showarrow": false,
          "text": "0.14",
          "x": 6,
          "xref": "x",
          "y": 26,
          "yref": "y"
         },
         {
          "font": {
           "color": "#FFD700",
           "size": 12
          },
          "showarrow": false,
          "text": "0.12",
          "x": 7,
          "xref": "x",
          "y": 26,
          "yref": "y"
         },
         {
          "font": {
           "color": "#FFD700",
           "size": 12
          },
          "showarrow": false,
          "text": "0.17",
          "x": 8,
          "xref": "x",
          "y": 26,
          "yref": "y"
         },
         {
          "font": {
           "color": "rgba(255, 255, 255, 0.6)",
           "size": 12
          },
          "showarrow": false,
          "text": "0.00",
          "x": 9,
          "xref": "x",
          "y": 26,
          "yref": "y"
         },
         {
          "font": {
           "color": "#FFD700",
           "size": 12
          },
          "showarrow": false,
          "text": "0.16",
          "x": 10,
          "xref": "x",
          "y": 26,
          "yref": "y"
         },
         {
          "font": {
           "color": "#FFD700",
           "size": 12
          },
          "showarrow": false,
          "text": "-0.16",
          "x": 11,
          "xref": "x",
          "y": 26,
          "yref": "y"
         },
         {
          "font": {
           "color": "#FFD700",
           "size": 12
          },
          "showarrow": false,
          "text": "0.13",
          "x": 12,
          "xref": "x",
          "y": 26,
          "yref": "y"
         },
         {
          "font": {
           "color": "#FFD700",
           "size": 12
          },
          "showarrow": false,
          "text": "0.13",
          "x": 13,
          "xref": "x",
          "y": 26,
          "yref": "y"
         },
         {
          "font": {
           "color": "rgba(255, 255, 255, 0.6)",
           "size": 12
          },
          "showarrow": false,
          "text": "0.00",
          "x": 14,
          "xref": "x",
          "y": 26,
          "yref": "y"
         },
         {
          "font": {
           "color": "rgba(255, 255, 255, 0.6)",
           "size": 12
          },
          "showarrow": false,
          "text": "0.00",
          "x": 15,
          "xref": "x",
          "y": 26,
          "yref": "y"
         },
         {
          "font": {
           "color": "#FFD700",
           "size": 12
          },
          "showarrow": false,
          "text": "0.01",
          "x": 16,
          "xref": "x",
          "y": 26,
          "yref": "y"
         },
         {
          "font": {
           "color": "#FFD700",
           "size": 12
          },
          "showarrow": false,
          "text": "0.01",
          "x": 17,
          "xref": "x",
          "y": 26,
          "yref": "y"
         },
         {
          "font": {
           "color": "rgba(255, 255, 255, 0.6)",
           "size": 12
          },
          "showarrow": false,
          "text": "0.00",
          "x": 18,
          "xref": "x",
          "y": 26,
          "yref": "y"
         },
         {
          "font": {
           "color": "#FFD700",
           "size": 12
          },
          "showarrow": false,
          "text": "-0.01",
          "x": 19,
          "xref": "x",
          "y": 26,
          "yref": "y"
         },
         {
          "font": {
           "color": "rgba(255, 255, 255, 0.6)",
           "size": 12
          },
          "showarrow": false,
          "text": "0.00",
          "x": 20,
          "xref": "x",
          "y": 26,
          "yref": "y"
         },
         {
          "font": {
           "color": "#FFD700",
           "size": 12
          },
          "showarrow": false,
          "text": "0.14",
          "x": 21,
          "xref": "x",
          "y": 26,
          "yref": "y"
         },
         {
          "font": {
           "color": "rgba(255, 255, 255, 0.6)",
           "size": 12
          },
          "showarrow": false,
          "text": "-0.00",
          "x": 22,
          "xref": "x",
          "y": 26,
          "yref": "y"
         },
         {
          "font": {
           "color": "#FFD700",
           "size": 12
          },
          "showarrow": false,
          "text": "-0.02",
          "x": 23,
          "xref": "x",
          "y": 26,
          "yref": "y"
         },
         {
          "font": {
           "color": "#FFD700",
           "size": 12
          },
          "showarrow": false,
          "text": "-0.05",
          "x": 24,
          "xref": "x",
          "y": 26,
          "yref": "y"
         },
         {
          "font": {
           "color": "#FFD700",
           "size": 12
          },
          "showarrow": false,
          "text": "-0.04",
          "x": 25,
          "xref": "x",
          "y": 26,
          "yref": "y"
         },
         {
          "font": {
           "color": "rgba(255, 255, 255, 0.6)",
           "size": 12
          },
          "showarrow": false,
          "text": "1.00",
          "x": 26,
          "xref": "x",
          "y": 26,
          "yref": "y"
         }
        ],
        "font": {
         "color": "white",
         "family": "Arial, sans-serif"
        },
        "height": 1600,
        "hoverlabel": {
         "bgcolor": "rgba(30,30,30,0.9)",
         "bordercolor": "#FFD700",
         "font": {
          "color": "white",
          "size": 16
         }
        },
        "margin": {
         "b": 80,
         "l": 100,
         "r": 50,
         "t": 120
        },
        "paper_bgcolor": "#121212",
        "plot_bgcolor": "#121212",
        "template": {
         "data": {
          "bar": [
           {
            "error_x": {
             "color": "#2a3f5f"
            },
            "error_y": {
             "color": "#2a3f5f"
            },
            "marker": {
             "line": {
              "color": "#E5ECF6",
              "width": 0.5
             },
             "pattern": {
              "fillmode": "overlay",
              "size": 10,
              "solidity": 0.2
             }
            },
            "type": "bar"
           }
          ],
          "barpolar": [
           {
            "marker": {
             "line": {
              "color": "#E5ECF6",
              "width": 0.5
             },
             "pattern": {
              "fillmode": "overlay",
              "size": 10,
              "solidity": 0.2
             }
            },
            "type": "barpolar"
           }
          ],
          "carpet": [
           {
            "aaxis": {
             "endlinecolor": "#2a3f5f",
             "gridcolor": "white",
             "linecolor": "white",
             "minorgridcolor": "white",
             "startlinecolor": "#2a3f5f"
            },
            "baxis": {
             "endlinecolor": "#2a3f5f",
             "gridcolor": "white",
             "linecolor": "white",
             "minorgridcolor": "white",
             "startlinecolor": "#2a3f5f"
            },
            "type": "carpet"
           }
          ],
          "choropleth": [
           {
            "colorbar": {
             "outlinewidth": 0,
             "ticks": ""
            },
            "type": "choropleth"
           }
          ],
          "contour": [
           {
            "colorbar": {
             "outlinewidth": 0,
             "ticks": ""
            },
            "colorscale": [
             [
              0,
              "#0d0887"
             ],
             [
              0.1111111111111111,
              "#46039f"
             ],
             [
              0.2222222222222222,
              "#7201a8"
             ],
             [
              0.3333333333333333,
              "#9c179e"
             ],
             [
              0.4444444444444444,
              "#bd3786"
             ],
             [
              0.5555555555555556,
              "#d8576b"
             ],
             [
              0.6666666666666666,
              "#ed7953"
             ],
             [
              0.7777777777777778,
              "#fb9f3a"
             ],
             [
              0.8888888888888888,
              "#fdca26"
             ],
             [
              1,
              "#f0f921"
             ]
            ],
            "type": "contour"
           }
          ],
          "contourcarpet": [
           {
            "colorbar": {
             "outlinewidth": 0,
             "ticks": ""
            },
            "type": "contourcarpet"
           }
          ],
          "heatmap": [
           {
            "colorbar": {
             "outlinewidth": 0,
             "ticks": ""
            },
            "colorscale": [
             [
              0,
              "#0d0887"
             ],
             [
              0.1111111111111111,
              "#46039f"
             ],
             [
              0.2222222222222222,
              "#7201a8"
             ],
             [
              0.3333333333333333,
              "#9c179e"
             ],
             [
              0.4444444444444444,
              "#bd3786"
             ],
             [
              0.5555555555555556,
              "#d8576b"
             ],
             [
              0.6666666666666666,
              "#ed7953"
             ],
             [
              0.7777777777777778,
              "#fb9f3a"
             ],
             [
              0.8888888888888888,
              "#fdca26"
             ],
             [
              1,
              "#f0f921"
             ]
            ],
            "type": "heatmap"
           }
          ],
          "histogram": [
           {
            "marker": {
             "pattern": {
              "fillmode": "overlay",
              "size": 10,
              "solidity": 0.2
             }
            },
            "type": "histogram"
           }
          ],
          "histogram2d": [
           {
            "colorbar": {
             "outlinewidth": 0,
             "ticks": ""
            },
            "colorscale": [
             [
              0,
              "#0d0887"
             ],
             [
              0.1111111111111111,
              "#46039f"
             ],
             [
              0.2222222222222222,
              "#7201a8"
             ],
             [
              0.3333333333333333,
              "#9c179e"
             ],
             [
              0.4444444444444444,
              "#bd3786"
             ],
             [
              0.5555555555555556,
              "#d8576b"
             ],
             [
              0.6666666666666666,
              "#ed7953"
             ],
             [
              0.7777777777777778,
              "#fb9f3a"
             ],
             [
              0.8888888888888888,
              "#fdca26"
             ],
             [
              1,
              "#f0f921"
             ]
            ],
            "type": "histogram2d"
           }
          ],
          "histogram2dcontour": [
           {
            "colorbar": {
             "outlinewidth": 0,
             "ticks": ""
            },
            "colorscale": [
             [
              0,
              "#0d0887"
             ],
             [
              0.1111111111111111,
              "#46039f"
             ],
             [
              0.2222222222222222,
              "#7201a8"
             ],
             [
              0.3333333333333333,
              "#9c179e"
             ],
             [
              0.4444444444444444,
              "#bd3786"
             ],
             [
              0.5555555555555556,
              "#d8576b"
             ],
             [
              0.6666666666666666,
              "#ed7953"
             ],
             [
              0.7777777777777778,
              "#fb9f3a"
             ],
             [
              0.8888888888888888,
              "#fdca26"
             ],
             [
              1,
              "#f0f921"
             ]
            ],
            "type": "histogram2dcontour"
           }
          ],
          "mesh3d": [
           {
            "colorbar": {
             "outlinewidth": 0,
             "ticks": ""
            },
            "type": "mesh3d"
           }
          ],
          "parcoords": [
           {
            "line": {
             "colorbar": {
              "outlinewidth": 0,
              "ticks": ""
             }
            },
            "type": "parcoords"
           }
          ],
          "pie": [
           {
            "automargin": true,
            "type": "pie"
           }
          ],
          "scatter": [
           {
            "fillpattern": {
             "fillmode": "overlay",
             "size": 10,
             "solidity": 0.2
            },
            "type": "scatter"
           }
          ],
          "scatter3d": [
           {
            "line": {
             "colorbar": {
              "outlinewidth": 0,
              "ticks": ""
             }
            },
            "marker": {
             "colorbar": {
              "outlinewidth": 0,
              "ticks": ""
             }
            },
            "type": "scatter3d"
           }
          ],
          "scattercarpet": [
           {
            "marker": {
             "colorbar": {
              "outlinewidth": 0,
              "ticks": ""
             }
            },
            "type": "scattercarpet"
           }
          ],
          "scattergeo": [
           {
            "marker": {
             "colorbar": {
              "outlinewidth": 0,
              "ticks": ""
             }
            },
            "type": "scattergeo"
           }
          ],
          "scattergl": [
           {
            "marker": {
             "colorbar": {
              "outlinewidth": 0,
              "ticks": ""
             }
            },
            "type": "scattergl"
           }
          ],
          "scattermap": [
           {
            "marker": {
             "colorbar": {
              "outlinewidth": 0,
              "ticks": ""
             }
            },
            "type": "scattermap"
           }
          ],
          "scattermapbox": [
           {
            "marker": {
             "colorbar": {
              "outlinewidth": 0,
              "ticks": ""
             }
            },
            "type": "scattermapbox"
           }
          ],
          "scatterpolar": [
           {
            "marker": {
             "colorbar": {
              "outlinewidth": 0,
              "ticks": ""
             }
            },
            "type": "scatterpolar"
           }
          ],
          "scatterpolargl": [
           {
            "marker": {
             "colorbar": {
              "outlinewidth": 0,
              "ticks": ""
             }
            },
            "type": "scatterpolargl"
           }
          ],
          "scatterternary": [
           {
            "marker": {
             "colorbar": {
              "outlinewidth": 0,
              "ticks": ""
             }
            },
            "type": "scatterternary"
           }
          ],
          "surface": [
           {
            "colorbar": {
             "outlinewidth": 0,
             "ticks": ""
            },
            "colorscale": [
             [
              0,
              "#0d0887"
             ],
             [
              0.1111111111111111,
              "#46039f"
             ],
             [
              0.2222222222222222,
              "#7201a8"
             ],
             [
              0.3333333333333333,
              "#9c179e"
             ],
             [
              0.4444444444444444,
              "#bd3786"
             ],
             [
              0.5555555555555556,
              "#d8576b"
             ],
             [
              0.6666666666666666,
              "#ed7953"
             ],
             [
              0.7777777777777778,
              "#fb9f3a"
             ],
             [
              0.8888888888888888,
              "#fdca26"
             ],
             [
              1,
              "#f0f921"
             ]
            ],
            "type": "surface"
           }
          ],
          "table": [
           {
            "cells": {
             "fill": {
              "color": "#EBF0F8"
             },
             "line": {
              "color": "white"
             }
            },
            "header": {
             "fill": {
              "color": "#C8D4E3"
             },
             "line": {
              "color": "white"
             }
            },
            "type": "table"
           }
          ]
         },
         "layout": {
          "annotationdefaults": {
           "arrowcolor": "#2a3f5f",
           "arrowhead": 0,
           "arrowwidth": 1
          },
          "autotypenumbers": "strict",
          "coloraxis": {
           "colorbar": {
            "outlinewidth": 0,
            "ticks": ""
           }
          },
          "colorscale": {
           "diverging": [
            [
             0,
             "#8e0152"
            ],
            [
             0.1,
             "#c51b7d"
            ],
            [
             0.2,
             "#de77ae"
            ],
            [
             0.3,
             "#f1b6da"
            ],
            [
             0.4,
             "#fde0ef"
            ],
            [
             0.5,
             "#f7f7f7"
            ],
            [
             0.6,
             "#e6f5d0"
            ],
            [
             0.7,
             "#b8e186"
            ],
            [
             0.8,
             "#7fbc41"
            ],
            [
             0.9,
             "#4d9221"
            ],
            [
             1,
             "#276419"
            ]
           ],
           "sequential": [
            [
             0,
             "#0d0887"
            ],
            [
             0.1111111111111111,
             "#46039f"
            ],
            [
             0.2222222222222222,
             "#7201a8"
            ],
            [
             0.3333333333333333,
             "#9c179e"
            ],
            [
             0.4444444444444444,
             "#bd3786"
            ],
            [
             0.5555555555555556,
             "#d8576b"
            ],
            [
             0.6666666666666666,
             "#ed7953"
            ],
            [
             0.7777777777777778,
             "#fb9f3a"
            ],
            [
             0.8888888888888888,
             "#fdca26"
            ],
            [
             1,
             "#f0f921"
            ]
           ],
           "sequentialminus": [
            [
             0,
             "#0d0887"
            ],
            [
             0.1111111111111111,
             "#46039f"
            ],
            [
             0.2222222222222222,
             "#7201a8"
            ],
            [
             0.3333333333333333,
             "#9c179e"
            ],
            [
             0.4444444444444444,
             "#bd3786"
            ],
            [
             0.5555555555555556,
             "#d8576b"
            ],
            [
             0.6666666666666666,
             "#ed7953"
            ],
            [
             0.7777777777777778,
             "#fb9f3a"
            ],
            [
             0.8888888888888888,
             "#fdca26"
            ],
            [
             1,
             "#f0f921"
            ]
           ]
          },
          "colorway": [
           "#636efa",
           "#EF553B",
           "#00cc96",
           "#ab63fa",
           "#FFA15A",
           "#19d3f3",
           "#FF6692",
           "#B6E880",
           "#FF97FF",
           "#FECB52"
          ],
          "font": {
           "color": "#2a3f5f"
          },
          "geo": {
           "bgcolor": "white",
           "lakecolor": "white",
           "landcolor": "#E5ECF6",
           "showlakes": true,
           "showland": true,
           "subunitcolor": "white"
          },
          "hoverlabel": {
           "align": "left"
          },
          "hovermode": "closest",
          "mapbox": {
           "style": "light"
          },
          "paper_bgcolor": "white",
          "plot_bgcolor": "#E5ECF6",
          "polar": {
           "angularaxis": {
            "gridcolor": "white",
            "linecolor": "white",
            "ticks": ""
           },
           "bgcolor": "#E5ECF6",
           "radialaxis": {
            "gridcolor": "white",
            "linecolor": "white",
            "ticks": ""
           }
          },
          "scene": {
           "xaxis": {
            "backgroundcolor": "#E5ECF6",
            "gridcolor": "white",
            "gridwidth": 2,
            "linecolor": "white",
            "showbackground": true,
            "ticks": "",
            "zerolinecolor": "white"
           },
           "yaxis": {
            "backgroundcolor": "#E5ECF6",
            "gridcolor": "white",
            "gridwidth": 2,
            "linecolor": "white",
            "showbackground": true,
            "ticks": "",
            "zerolinecolor": "white"
           },
           "zaxis": {
            "backgroundcolor": "#E5ECF6",
            "gridcolor": "white",
            "gridwidth": 2,
            "linecolor": "white",
            "showbackground": true,
            "ticks": "",
            "zerolinecolor": "white"
           }
          },
          "shapedefaults": {
           "line": {
            "color": "#2a3f5f"
           }
          },
          "ternary": {
           "aaxis": {
            "gridcolor": "white",
            "linecolor": "white",
            "ticks": ""
           },
           "baxis": {
            "gridcolor": "white",
            "linecolor": "white",
            "ticks": ""
           },
           "bgcolor": "#E5ECF6",
           "caxis": {
            "gridcolor": "white",
            "linecolor": "white",
            "ticks": ""
           }
          },
          "title": {
           "x": 0.05
          },
          "xaxis": {
           "automargin": true,
           "gridcolor": "white",
           "linecolor": "white",
           "ticks": "",
           "title": {
            "standoff": 15
           },
           "zerolinecolor": "white",
           "zerolinewidth": 2
          },
          "yaxis": {
           "automargin": true,
           "gridcolor": "white",
           "linecolor": "white",
           "ticks": "",
           "title": {
            "standoff": 15
           },
           "zerolinecolor": "white",
           "zerolinewidth": 2
          }
         }
        },
        "title": {
         "font": {
          "color": "white",
          "size": 20
         },
         "text": "<b>Correlation Matrix</b><br><span style='font-size:14px; color: #FFD700'>Method: spearman | Variables: 27 | Observations: 279608 | Strong correlations (>0.7 | <-0.7): 2 | Significant (p<0.01): 290</span>",
         "x": 0.5,
         "xanchor": "center",
         "y": 0.97
        },
        "width": 1800,
        "xaxis": {
         "gridcolor": "rgba(255, 255, 255, 0.1)",
         "side": "bottom",
         "tickangle": 45,
         "tickfont": {
          "color": "white",
          "size": 12
         },
         "ticktext": [
          "ticker",
          "target",
          "direction",
          "day_of_week_sin",
          "day_of_week_cos",
          "returns",
          "BBP",
          "MACD",
          "MACD_Signal",
          "ADX",
          "+DI",
          "-DI",
          "BePo",
          "BuPo",
          "MASSI_9_25",
          "VR",
          "BODY",
          "UpW",
          "LowW",
          "RetSkew_14",
          "RetKurt_14",
          "RetMean_14",
          "returns_lag1",
          "returns_lag2",
          "returns_lag3",
          "returns_lag4",
          "returns_lag5"
         ],
         "tickvals": [
          0,
          1,
          2,
          3,
          4,
          5,
          6,
          7,
          8,
          9,
          10,
          11,
          12,
          13,
          14,
          15,
          16,
          17,
          18,
          19,
          20,
          21,
          22,
          23,
          24,
          25,
          26
         ]
        },
        "yaxis": {
         "gridcolor": "rgba(255, 255, 255, 0.1)",
         "tickfont": {
          "color": "white",
          "size": 12
         },
         "ticktext": [
          "ticker",
          "target",
          "direction",
          "day_of_week_sin",
          "day_of_week_cos",
          "returns",
          "BBP",
          "MACD",
          "MACD_Signal",
          "ADX",
          "+DI",
          "-DI",
          "BePo",
          "BuPo",
          "MASSI_9_25",
          "VR",
          "BODY",
          "UpW",
          "LowW",
          "RetSkew_14",
          "RetKurt_14",
          "RetMean_14",
          "returns_lag1",
          "returns_lag2",
          "returns_lag3",
          "returns_lag4",
          "returns_lag5"
         ],
         "tickvals": [
          0,
          1,
          2,
          3,
          4,
          5,
          6,
          7,
          8,
          9,
          10,
          11,
          12,
          13,
          14,
          15,
          16,
          17,
          18,
          19,
          20,
          21,
          22,
          23,
          24,
          25,
          26
         ]
        }
       }
      }
     },
     "metadata": {},
     "output_type": "display_data"
    }
   ],
   "source": [
    "plot_correlation_matrix(\n",
    "    pd.concat(dfs_full, axis=0, ignore_index=True),\n",
    "    method=\"spearman\",\n",
    "    mask_upper=False,\n",
    "    width=1800,\n",
    "    height=1600,\n",
    ")"
   ]
  },
  {
   "cell_type": "code",
   "execution_count": 13,
   "id": "0a86a815",
   "metadata": {},
   "outputs": [
    {
     "data": {
      "text/html": [
       "<div>\n",
       "<style scoped>\n",
       "    .dataframe tbody tr th:only-of-type {\n",
       "        vertical-align: middle;\n",
       "    }\n",
       "\n",
       "    .dataframe tbody tr th {\n",
       "        vertical-align: top;\n",
       "    }\n",
       "\n",
       "    .dataframe thead th {\n",
       "        text-align: right;\n",
       "    }\n",
       "</style>\n",
       "<table border=\"1\" class=\"dataframe\">\n",
       "  <thead>\n",
       "    <tr style=\"text-align: right;\">\n",
       "      <th></th>\n",
       "      <th>timestamps</th>\n",
       "      <th>ticker</th>\n",
       "      <th>target</th>\n",
       "      <th>direction</th>\n",
       "      <th>day_of_week_sin</th>\n",
       "      <th>day_of_week_cos</th>\n",
       "      <th>returns</th>\n",
       "      <th>BBP</th>\n",
       "      <th>MACD</th>\n",
       "      <th>MACD_Signal</th>\n",
       "      <th>...</th>\n",
       "      <th>UpW</th>\n",
       "      <th>LowW</th>\n",
       "      <th>RetSkew_14</th>\n",
       "      <th>RetKurt_14</th>\n",
       "      <th>RetMean_14</th>\n",
       "      <th>returns_lag1</th>\n",
       "      <th>returns_lag2</th>\n",
       "      <th>returns_lag3</th>\n",
       "      <th>returns_lag4</th>\n",
       "      <th>returns_lag5</th>\n",
       "    </tr>\n",
       "  </thead>\n",
       "  <tbody>\n",
       "    <tr>\n",
       "      <th>0</th>\n",
       "      <td>2023-01-01 05:15:00</td>\n",
       "      <td>JASMY</td>\n",
       "      <td>0.000661</td>\n",
       "      <td>1</td>\n",
       "      <td>-0.781831</td>\n",
       "      <td>0.623490</td>\n",
       "      <td>-0.006888</td>\n",
       "      <td>0.684676</td>\n",
       "      <td>0.000026</td>\n",
       "      <td>0.000012</td>\n",
       "      <td>...</td>\n",
       "      <td>0.000003</td>\n",
       "      <td>1.000000e-06</td>\n",
       "      <td>0.365236</td>\n",
       "      <td>-0.566520</td>\n",
       "      <td>0.000006</td>\n",
       "      <td>-0.006193</td>\n",
       "      <td>0.009543</td>\n",
       "      <td>0.010306</td>\n",
       "      <td>0.006020</td>\n",
       "      <td>0.012530</td>\n",
       "    </tr>\n",
       "    <tr>\n",
       "      <th>1</th>\n",
       "      <td>2023-01-01 05:30:00</td>\n",
       "      <td>JASMY</td>\n",
       "      <td>0.030363</td>\n",
       "      <td>1</td>\n",
       "      <td>-0.781831</td>\n",
       "      <td>0.623490</td>\n",
       "      <td>0.000661</td>\n",
       "      <td>0.668417</td>\n",
       "      <td>0.000027</td>\n",
       "      <td>0.000010</td>\n",
       "      <td>...</td>\n",
       "      <td>0.000003</td>\n",
       "      <td>8.000000e-06</td>\n",
       "      <td>0.506951</td>\n",
       "      <td>-0.422261</td>\n",
       "      <td>0.000005</td>\n",
       "      <td>-0.006888</td>\n",
       "      <td>-0.006193</td>\n",
       "      <td>0.009543</td>\n",
       "      <td>0.010306</td>\n",
       "      <td>0.006020</td>\n",
       "    </tr>\n",
       "    <tr>\n",
       "      <th>2</th>\n",
       "      <td>2023-01-01 05:45:00</td>\n",
       "      <td>JASMY</td>\n",
       "      <td>0.004164</td>\n",
       "      <td>1</td>\n",
       "      <td>-0.781831</td>\n",
       "      <td>0.623490</td>\n",
       "      <td>0.030363</td>\n",
       "      <td>0.998819</td>\n",
       "      <td>0.000034</td>\n",
       "      <td>0.000014</td>\n",
       "      <td>...</td>\n",
       "      <td>0.000038</td>\n",
       "      <td>6.000000e-06</td>\n",
       "      <td>1.721096</td>\n",
       "      <td>3.854197</td>\n",
       "      <td>0.000012</td>\n",
       "      <td>0.000661</td>\n",
       "      <td>-0.006888</td>\n",
       "      <td>-0.006193</td>\n",
       "      <td>0.009543</td>\n",
       "      <td>0.010306</td>\n",
       "    </tr>\n",
       "    <tr>\n",
       "      <th>3</th>\n",
       "      <td>2023-01-01 06:00:00</td>\n",
       "      <td>JASMY</td>\n",
       "      <td>-0.006699</td>\n",
       "      <td>0</td>\n",
       "      <td>-0.781831</td>\n",
       "      <td>0.623490</td>\n",
       "      <td>0.004164</td>\n",
       "      <td>0.922587</td>\n",
       "      <td>0.000040</td>\n",
       "      <td>0.000016</td>\n",
       "      <td>...</td>\n",
       "      <td>0.000035</td>\n",
       "      <td>4.000000e-05</td>\n",
       "      <td>1.654227</td>\n",
       "      <td>3.852728</td>\n",
       "      <td>0.000013</td>\n",
       "      <td>0.030363</td>\n",
       "      <td>0.000661</td>\n",
       "      <td>-0.006888</td>\n",
       "      <td>-0.006193</td>\n",
       "      <td>0.009543</td>\n",
       "    </tr>\n",
       "    <tr>\n",
       "      <th>4</th>\n",
       "      <td>2023-01-01 06:15:00</td>\n",
       "      <td>JASMY</td>\n",
       "      <td>-0.005780</td>\n",
       "      <td>0</td>\n",
       "      <td>-0.781831</td>\n",
       "      <td>0.623490</td>\n",
       "      <td>-0.006699</td>\n",
       "      <td>0.780413</td>\n",
       "      <td>0.000043</td>\n",
       "      <td>0.000015</td>\n",
       "      <td>...</td>\n",
       "      <td>0.000044</td>\n",
       "      <td>3.000000e-06</td>\n",
       "      <td>1.506443</td>\n",
       "      <td>3.229107</td>\n",
       "      <td>0.000011</td>\n",
       "      <td>0.004164</td>\n",
       "      <td>0.030363</td>\n",
       "      <td>0.000661</td>\n",
       "      <td>-0.006888</td>\n",
       "      <td>-0.006193</td>\n",
       "    </tr>\n",
       "    <tr>\n",
       "      <th>...</th>\n",
       "      <td>...</td>\n",
       "      <td>...</td>\n",
       "      <td>...</td>\n",
       "      <td>...</td>\n",
       "      <td>...</td>\n",
       "      <td>...</td>\n",
       "      <td>...</td>\n",
       "      <td>...</td>\n",
       "      <td>...</td>\n",
       "      <td>...</td>\n",
       "      <td>...</td>\n",
       "      <td>...</td>\n",
       "      <td>...</td>\n",
       "      <td>...</td>\n",
       "      <td>...</td>\n",
       "      <td>...</td>\n",
       "      <td>...</td>\n",
       "      <td>...</td>\n",
       "      <td>...</td>\n",
       "      <td>...</td>\n",
       "      <td>...</td>\n",
       "    </tr>\n",
       "    <tr>\n",
       "      <th>279331</th>\n",
       "      <td>2023-12-30 22:30:00</td>\n",
       "      <td>LDO</td>\n",
       "      <td>-0.003991</td>\n",
       "      <td>0</td>\n",
       "      <td>-0.974928</td>\n",
       "      <td>-0.222521</td>\n",
       "      <td>0.001453</td>\n",
       "      <td>0.270939</td>\n",
       "      <td>-0.011653</td>\n",
       "      <td>0.002610</td>\n",
       "      <td>...</td>\n",
       "      <td>0.001000</td>\n",
       "      <td>6.000000e-03</td>\n",
       "      <td>-0.040193</td>\n",
       "      <td>1.241436</td>\n",
       "      <td>-0.000786</td>\n",
       "      <td>-0.002175</td>\n",
       "      <td>-0.002171</td>\n",
       "      <td>-0.000362</td>\n",
       "      <td>0.001086</td>\n",
       "      <td>-0.001085</td>\n",
       "    </tr>\n",
       "    <tr>\n",
       "      <th>279332</th>\n",
       "      <td>2023-12-30 22:45:00</td>\n",
       "      <td>LDO</td>\n",
       "      <td>-0.002914</td>\n",
       "      <td>0</td>\n",
       "      <td>-0.974928</td>\n",
       "      <td>-0.222521</td>\n",
       "      <td>-0.003991</td>\n",
       "      <td>-0.043900</td>\n",
       "      <td>-0.012014</td>\n",
       "      <td>0.001799</td>\n",
       "      <td>...</td>\n",
       "      <td>0.000000</td>\n",
       "      <td>1.000000e-02</td>\n",
       "      <td>0.527862</td>\n",
       "      <td>1.050541</td>\n",
       "      <td>-0.000357</td>\n",
       "      <td>0.001453</td>\n",
       "      <td>-0.002175</td>\n",
       "      <td>-0.002171</td>\n",
       "      <td>-0.000362</td>\n",
       "      <td>0.001086</td>\n",
       "    </tr>\n",
       "    <tr>\n",
       "      <th>279333</th>\n",
       "      <td>2023-12-30 23:00:00</td>\n",
       "      <td>LDO</td>\n",
       "      <td>0.005480</td>\n",
       "      <td>1</td>\n",
       "      <td>-0.974928</td>\n",
       "      <td>-0.222521</td>\n",
       "      <td>-0.002914</td>\n",
       "      <td>-0.088318</td>\n",
       "      <td>-0.012799</td>\n",
       "      <td>0.000811</td>\n",
       "      <td>...</td>\n",
       "      <td>0.006000</td>\n",
       "      <td>5.000000e-03</td>\n",
       "      <td>0.606705</td>\n",
       "      <td>0.650371</td>\n",
       "      <td>-0.000857</td>\n",
       "      <td>-0.003991</td>\n",
       "      <td>0.001453</td>\n",
       "      <td>-0.002175</td>\n",
       "      <td>-0.002171</td>\n",
       "      <td>-0.000362</td>\n",
       "    </tr>\n",
       "    <tr>\n",
       "      <th>279334</th>\n",
       "      <td>2023-12-30 23:15:00</td>\n",
       "      <td>LDO</td>\n",
       "      <td>-0.007267</td>\n",
       "      <td>0</td>\n",
       "      <td>-0.974928</td>\n",
       "      <td>-0.222521</td>\n",
       "      <td>0.005480</td>\n",
       "      <td>0.384728</td>\n",
       "      <td>-0.012071</td>\n",
       "      <td>0.001231</td>\n",
       "      <td>...</td>\n",
       "      <td>0.002000</td>\n",
       "      <td>6.000000e-03</td>\n",
       "      <td>0.558520</td>\n",
       "      <td>-0.326134</td>\n",
       "      <td>0.000143</td>\n",
       "      <td>-0.002914</td>\n",
       "      <td>-0.003991</td>\n",
       "      <td>0.001453</td>\n",
       "      <td>-0.002175</td>\n",
       "      <td>-0.002171</td>\n",
       "    </tr>\n",
       "    <tr>\n",
       "      <th>279335</th>\n",
       "      <td>2023-12-30 23:30:00</td>\n",
       "      <td>LDO</td>\n",
       "      <td>-0.001098</td>\n",
       "      <td>0</td>\n",
       "      <td>-0.974928</td>\n",
       "      <td>-0.222521</td>\n",
       "      <td>-0.007267</td>\n",
       "      <td>-0.019636</td>\n",
       "      <td>-0.012959</td>\n",
       "      <td>0.000275</td>\n",
       "      <td>...</td>\n",
       "      <td>0.003000</td>\n",
       "      <td>1.000000e-03</td>\n",
       "      <td>-0.034241</td>\n",
       "      <td>0.435472</td>\n",
       "      <td>-0.002429</td>\n",
       "      <td>0.005480</td>\n",
       "      <td>-0.002914</td>\n",
       "      <td>-0.003991</td>\n",
       "      <td>0.001453</td>\n",
       "      <td>-0.002175</td>\n",
       "    </tr>\n",
       "  </tbody>\n",
       "</table>\n",
       "<p>279336 rows × 28 columns</p>\n",
       "</div>"
      ],
      "text/plain": [
       "                timestamps ticker    target  direction  day_of_week_sin  \\\n",
       "0      2023-01-01 05:15:00  JASMY  0.000661          1        -0.781831   \n",
       "1      2023-01-01 05:30:00  JASMY  0.030363          1        -0.781831   \n",
       "2      2023-01-01 05:45:00  JASMY  0.004164          1        -0.781831   \n",
       "3      2023-01-01 06:00:00  JASMY -0.006699          0        -0.781831   \n",
       "4      2023-01-01 06:15:00  JASMY -0.005780          0        -0.781831   \n",
       "...                    ...    ...       ...        ...              ...   \n",
       "279331 2023-12-30 22:30:00    LDO -0.003991          0        -0.974928   \n",
       "279332 2023-12-30 22:45:00    LDO -0.002914          0        -0.974928   \n",
       "279333 2023-12-30 23:00:00    LDO  0.005480          1        -0.974928   \n",
       "279334 2023-12-30 23:15:00    LDO -0.007267          0        -0.974928   \n",
       "279335 2023-12-30 23:30:00    LDO -0.001098          0        -0.974928   \n",
       "\n",
       "        day_of_week_cos   returns       BBP      MACD  MACD_Signal  ...  \\\n",
       "0              0.623490 -0.006888  0.684676  0.000026     0.000012  ...   \n",
       "1              0.623490  0.000661  0.668417  0.000027     0.000010  ...   \n",
       "2              0.623490  0.030363  0.998819  0.000034     0.000014  ...   \n",
       "3              0.623490  0.004164  0.922587  0.000040     0.000016  ...   \n",
       "4              0.623490 -0.006699  0.780413  0.000043     0.000015  ...   \n",
       "...                 ...       ...       ...       ...          ...  ...   \n",
       "279331        -0.222521  0.001453  0.270939 -0.011653     0.002610  ...   \n",
       "279332        -0.222521 -0.003991 -0.043900 -0.012014     0.001799  ...   \n",
       "279333        -0.222521 -0.002914 -0.088318 -0.012799     0.000811  ...   \n",
       "279334        -0.222521  0.005480  0.384728 -0.012071     0.001231  ...   \n",
       "279335        -0.222521 -0.007267 -0.019636 -0.012959     0.000275  ...   \n",
       "\n",
       "             UpW          LowW  RetSkew_14  RetKurt_14  RetMean_14  \\\n",
       "0       0.000003  1.000000e-06    0.365236   -0.566520    0.000006   \n",
       "1       0.000003  8.000000e-06    0.506951   -0.422261    0.000005   \n",
       "2       0.000038  6.000000e-06    1.721096    3.854197    0.000012   \n",
       "3       0.000035  4.000000e-05    1.654227    3.852728    0.000013   \n",
       "4       0.000044  3.000000e-06    1.506443    3.229107    0.000011   \n",
       "...          ...           ...         ...         ...         ...   \n",
       "279331  0.001000  6.000000e-03   -0.040193    1.241436   -0.000786   \n",
       "279332  0.000000  1.000000e-02    0.527862    1.050541   -0.000357   \n",
       "279333  0.006000  5.000000e-03    0.606705    0.650371   -0.000857   \n",
       "279334  0.002000  6.000000e-03    0.558520   -0.326134    0.000143   \n",
       "279335  0.003000  1.000000e-03   -0.034241    0.435472   -0.002429   \n",
       "\n",
       "        returns_lag1  returns_lag2  returns_lag3  returns_lag4  returns_lag5  \n",
       "0          -0.006193      0.009543      0.010306      0.006020      0.012530  \n",
       "1          -0.006888     -0.006193      0.009543      0.010306      0.006020  \n",
       "2           0.000661     -0.006888     -0.006193      0.009543      0.010306  \n",
       "3           0.030363      0.000661     -0.006888     -0.006193      0.009543  \n",
       "4           0.004164      0.030363      0.000661     -0.006888     -0.006193  \n",
       "...              ...           ...           ...           ...           ...  \n",
       "279331     -0.002175     -0.002171     -0.000362      0.001086     -0.001085  \n",
       "279332      0.001453     -0.002175     -0.002171     -0.000362      0.001086  \n",
       "279333     -0.003991      0.001453     -0.002175     -0.002171     -0.000362  \n",
       "279334     -0.002914     -0.003991      0.001453     -0.002175     -0.002171  \n",
       "279335      0.005480     -0.002914     -0.003991      0.001453     -0.002175  \n",
       "\n",
       "[279336 rows x 28 columns]"
      ]
     },
     "execution_count": 13,
     "metadata": {},
     "output_type": "execute_result"
    }
   ],
   "source": [
    "mrgd = pd.concat(dfs_full, axis=0, ignore_index=True).dropna(ignore_index=True)\n",
    "mrgd"
   ]
  },
  {
   "cell_type": "code",
   "execution_count": 14,
   "id": "f1ae5e81",
   "metadata": {},
   "outputs": [],
   "source": [
    "mrgd.to_csv(\"/home/denisalpino/dev/stock_prediction/data/crypto/15min/preprocessed/cryptos.csv\", index=False)"
   ]
  },
  {
   "cell_type": "code",
   "execution_count": null,
   "id": "db5bb561",
   "metadata": {},
   "outputs": [],
   "source": []
  }
 ],
 "metadata": {
  "kernelspec": {
   "display_name": ".venv",
   "language": "python",
   "name": "python3"
  },
  "language_info": {
   "codemirror_mode": {
    "name": "ipython",
    "version": 3
   },
   "file_extension": ".py",
   "mimetype": "text/x-python",
   "name": "python",
   "nbconvert_exporter": "python",
   "pygments_lexer": "ipython3",
   "version": "3.10.18"
  }
 },
 "nbformat": 4,
 "nbformat_minor": 5
}
